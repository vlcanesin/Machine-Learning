{
 "cells": [
  {
   "cell_type": "markdown",
   "id": "45c76de1",
   "metadata": {},
   "source": [
    "## Loading the data"
   ]
  },
  {
   "cell_type": "code",
   "execution_count": 1,
   "id": "38315cea",
   "metadata": {
    "scrolled": true
   },
   "outputs": [
    {
     "name": "stdout",
     "output_type": "stream",
     "text": [
      "C:\\Users\\vlcan\\Machine_learning_python\\Housing prices predictor\n"
     ]
    }
   ],
   "source": [
    "import os, urllib, tarfile\n",
    "\n",
    "os.chdir(\"..\")\n",
    "print(os.getcwd())"
   ]
  },
  {
   "cell_type": "code",
   "execution_count": 2,
   "id": "6e5a1300",
   "metadata": {},
   "outputs": [],
   "source": [
    "dataset_url = \"https://raw.githubusercontent.com/ageron/handson-ml2/master/datasets/housing/housing.tgz\"\n",
    "dataset_path = \"dataset\\housing\""
   ]
  },
  {
   "cell_type": "code",
   "execution_count": 3,
   "id": "3d963e59",
   "metadata": {},
   "outputs": [
    {
     "data": {
      "text/plain": [
       "('dataset\\\\housing\\\\housing.tgz', <http.client.HTTPMessage at 0x1c1d14395b0>)"
      ]
     },
     "execution_count": 3,
     "metadata": {},
     "output_type": "execute_result"
    }
   ],
   "source": [
    "if not os.path.isdir(dataset_path):\n",
    "    os.makedirs(dataset_path)\n",
    "    \n",
    "tgz_path = dataset_path + \"\\housing.tgz\"\n",
    "urllib.request.urlretrieve(dataset_url, tgz_path)"
   ]
  },
  {
   "cell_type": "code",
   "execution_count": 4,
   "id": "bbde0f66",
   "metadata": {},
   "outputs": [],
   "source": [
    "housing_tgz = tarfile.open(tgz_path)\n",
    "housing_tgz.extractall(path=dataset_path)\n",
    "housing_tgz.close()"
   ]
  },
  {
   "cell_type": "markdown",
   "id": "2a55d487",
   "metadata": {},
   "source": [
    "## Building the dataframe (analyzing the data)"
   ]
  },
  {
   "cell_type": "code",
   "execution_count": 5,
   "id": "8443bd36",
   "metadata": {},
   "outputs": [],
   "source": [
    "import pandas"
   ]
  },
  {
   "cell_type": "code",
   "execution_count": 6,
   "id": "cefd4ea2",
   "metadata": {},
   "outputs": [
    {
     "data": {
      "text/html": [
       "<div>\n",
       "<style scoped>\n",
       "    .dataframe tbody tr th:only-of-type {\n",
       "        vertical-align: middle;\n",
       "    }\n",
       "\n",
       "    .dataframe tbody tr th {\n",
       "        vertical-align: top;\n",
       "    }\n",
       "\n",
       "    .dataframe thead th {\n",
       "        text-align: right;\n",
       "    }\n",
       "</style>\n",
       "<table border=\"1\" class=\"dataframe\">\n",
       "  <thead>\n",
       "    <tr style=\"text-align: right;\">\n",
       "      <th></th>\n",
       "      <th>index</th>\n",
       "      <th>longitude</th>\n",
       "      <th>latitude</th>\n",
       "      <th>housing_median_age</th>\n",
       "      <th>total_rooms</th>\n",
       "      <th>total_bedrooms</th>\n",
       "      <th>population</th>\n",
       "      <th>households</th>\n",
       "      <th>median_income</th>\n",
       "      <th>median_house_value</th>\n",
       "      <th>ocean_proximity</th>\n",
       "    </tr>\n",
       "  </thead>\n",
       "  <tbody>\n",
       "    <tr>\n",
       "      <th>0</th>\n",
       "      <td>0</td>\n",
       "      <td>-122.23</td>\n",
       "      <td>37.88</td>\n",
       "      <td>41.0</td>\n",
       "      <td>880.0</td>\n",
       "      <td>129.0</td>\n",
       "      <td>322.0</td>\n",
       "      <td>126.0</td>\n",
       "      <td>8.3252</td>\n",
       "      <td>452600.0</td>\n",
       "      <td>NEAR BAY</td>\n",
       "    </tr>\n",
       "    <tr>\n",
       "      <th>1</th>\n",
       "      <td>1</td>\n",
       "      <td>-122.22</td>\n",
       "      <td>37.86</td>\n",
       "      <td>21.0</td>\n",
       "      <td>7099.0</td>\n",
       "      <td>1106.0</td>\n",
       "      <td>2401.0</td>\n",
       "      <td>1138.0</td>\n",
       "      <td>8.3014</td>\n",
       "      <td>358500.0</td>\n",
       "      <td>NEAR BAY</td>\n",
       "    </tr>\n",
       "    <tr>\n",
       "      <th>2</th>\n",
       "      <td>2</td>\n",
       "      <td>-122.24</td>\n",
       "      <td>37.85</td>\n",
       "      <td>52.0</td>\n",
       "      <td>1467.0</td>\n",
       "      <td>190.0</td>\n",
       "      <td>496.0</td>\n",
       "      <td>177.0</td>\n",
       "      <td>7.2574</td>\n",
       "      <td>352100.0</td>\n",
       "      <td>NEAR BAY</td>\n",
       "    </tr>\n",
       "    <tr>\n",
       "      <th>3</th>\n",
       "      <td>3</td>\n",
       "      <td>-122.25</td>\n",
       "      <td>37.85</td>\n",
       "      <td>52.0</td>\n",
       "      <td>1274.0</td>\n",
       "      <td>235.0</td>\n",
       "      <td>558.0</td>\n",
       "      <td>219.0</td>\n",
       "      <td>5.6431</td>\n",
       "      <td>341300.0</td>\n",
       "      <td>NEAR BAY</td>\n",
       "    </tr>\n",
       "    <tr>\n",
       "      <th>4</th>\n",
       "      <td>4</td>\n",
       "      <td>-122.25</td>\n",
       "      <td>37.85</td>\n",
       "      <td>52.0</td>\n",
       "      <td>1627.0</td>\n",
       "      <td>280.0</td>\n",
       "      <td>565.0</td>\n",
       "      <td>259.0</td>\n",
       "      <td>3.8462</td>\n",
       "      <td>342200.0</td>\n",
       "      <td>NEAR BAY</td>\n",
       "    </tr>\n",
       "  </tbody>\n",
       "</table>\n",
       "</div>"
      ],
      "text/plain": [
       "   index  longitude  latitude  housing_median_age  total_rooms  \\\n",
       "0      0    -122.23     37.88                41.0        880.0   \n",
       "1      1    -122.22     37.86                21.0       7099.0   \n",
       "2      2    -122.24     37.85                52.0       1467.0   \n",
       "3      3    -122.25     37.85                52.0       1274.0   \n",
       "4      4    -122.25     37.85                52.0       1627.0   \n",
       "\n",
       "   total_bedrooms  population  households  median_income  median_house_value  \\\n",
       "0           129.0       322.0       126.0         8.3252            452600.0   \n",
       "1          1106.0      2401.0      1138.0         8.3014            358500.0   \n",
       "2           190.0       496.0       177.0         7.2574            352100.0   \n",
       "3           235.0       558.0       219.0         5.6431            341300.0   \n",
       "4           280.0       565.0       259.0         3.8462            342200.0   \n",
       "\n",
       "  ocean_proximity  \n",
       "0        NEAR BAY  \n",
       "1        NEAR BAY  \n",
       "2        NEAR BAY  \n",
       "3        NEAR BAY  \n",
       "4        NEAR BAY  "
      ]
     },
     "execution_count": 6,
     "metadata": {},
     "output_type": "execute_result"
    }
   ],
   "source": [
    "dataset_filepath = dataset_path + '\\housing.csv'\n",
    "\n",
    "df = pandas.read_csv(dataset_filepath)\n",
    "df = df.reset_index() # Creates an index column (useful for later)\n",
    "df.head()"
   ]
  },
  {
   "cell_type": "code",
   "execution_count": 7,
   "id": "809dcecd",
   "metadata": {},
   "outputs": [
    {
     "data": {
      "image/png": "[encoded data removed]",
      "text/plain": [
       "<Figure size 1440x1080 with 9 Axes>"
      ]
     },
     "metadata": {
      "needs_background": "light"
     },
     "output_type": "display_data"
    }
   ],
   "source": [
    "%matplotlib inline\n",
    "import matplotlib.pyplot as plt \n",
    "\n",
    "df.iloc[:, 1:].hist(bins = 50, figsize = (20,15)) # the iloc ignores the index column\n",
    "plt.show()"
   ]
  },
  {
   "cell_type": "markdown",
   "id": "dc95dec6",
   "metadata": {},
   "source": [
    "## Separating the data set (train set + test set)"
   ]
  },
  {
   "cell_type": "code",
   "execution_count": 8,
   "id": "681a93d7",
   "metadata": {},
   "outputs": [],
   "source": [
    "import numpy as np"
   ]
  },
  {
   "cell_type": "code",
   "execution_count": 9,
   "id": "7fbbf6fc",
   "metadata": {},
   "outputs": [],
   "source": [
    "### DATA SEPARATOR FOR DYNAMIC DATASETS (useful for \"online\" learning)\n",
    "\n",
    "from zlib import crc32\n",
    "\n",
    "def test_set_check(identifier, test_ratio): \n",
    "    # hash_function that checks if a piece of data should belong in the test set\n",
    "    return crc32(np.int64(identifier)) & 0xffffffff < test_ratio * 2**32 \n",
    "\n",
    "def split_train_test_by_id(data, test_ratio, id_column): \n",
    "    ids = data[id_column] \n",
    "    in_test_set = ids.apply(lambda id_: test_set_check( id_, test_ratio)) \n",
    "    return data.loc[~in_test_set], data.loc[in_test_set]"
   ]
  },
  {
   "cell_type": "code",
   "execution_count": 10,
   "id": "15bc721f",
   "metadata": {},
   "outputs": [
    {
     "data": {
      "text/html": [
       "<div>\n",
       "<style scoped>\n",
       "    .dataframe tbody tr th:only-of-type {\n",
       "        vertical-align: middle;\n",
       "    }\n",
       "\n",
       "    .dataframe tbody tr th {\n",
       "        vertical-align: top;\n",
       "    }\n",
       "\n",
       "    .dataframe thead th {\n",
       "        text-align: right;\n",
       "    }\n",
       "</style>\n",
       "<table border=\"1\" class=\"dataframe\">\n",
       "  <thead>\n",
       "    <tr style=\"text-align: right;\">\n",
       "      <th></th>\n",
       "      <th>index</th>\n",
       "      <th>longitude</th>\n",
       "      <th>latitude</th>\n",
       "      <th>housing_median_age</th>\n",
       "      <th>total_rooms</th>\n",
       "      <th>total_bedrooms</th>\n",
       "      <th>population</th>\n",
       "      <th>households</th>\n",
       "      <th>median_income</th>\n",
       "      <th>median_house_value</th>\n",
       "      <th>ocean_proximity</th>\n",
       "    </tr>\n",
       "  </thead>\n",
       "  <tbody>\n",
       "    <tr>\n",
       "      <th>0</th>\n",
       "      <td>0</td>\n",
       "      <td>-122.23</td>\n",
       "      <td>37.88</td>\n",
       "      <td>41.0</td>\n",
       "      <td>880.0</td>\n",
       "      <td>129.0</td>\n",
       "      <td>322.0</td>\n",
       "      <td>126.0</td>\n",
       "      <td>8.3252</td>\n",
       "      <td>452600.0</td>\n",
       "      <td>NEAR BAY</td>\n",
       "    </tr>\n",
       "    <tr>\n",
       "      <th>1</th>\n",
       "      <td>1</td>\n",
       "      <td>-122.22</td>\n",
       "      <td>37.86</td>\n",
       "      <td>21.0</td>\n",
       "      <td>7099.0</td>\n",
       "      <td>1106.0</td>\n",
       "      <td>2401.0</td>\n",
       "      <td>1138.0</td>\n",
       "      <td>8.3014</td>\n",
       "      <td>358500.0</td>\n",
       "      <td>NEAR BAY</td>\n",
       "    </tr>\n",
       "    <tr>\n",
       "      <th>3</th>\n",
       "      <td>3</td>\n",
       "      <td>-122.25</td>\n",
       "      <td>37.85</td>\n",
       "      <td>52.0</td>\n",
       "      <td>1274.0</td>\n",
       "      <td>235.0</td>\n",
       "      <td>558.0</td>\n",
       "      <td>219.0</td>\n",
       "      <td>5.6431</td>\n",
       "      <td>341300.0</td>\n",
       "      <td>NEAR BAY</td>\n",
       "    </tr>\n",
       "    <tr>\n",
       "      <th>4</th>\n",
       "      <td>4</td>\n",
       "      <td>-122.25</td>\n",
       "      <td>37.85</td>\n",
       "      <td>52.0</td>\n",
       "      <td>1627.0</td>\n",
       "      <td>280.0</td>\n",
       "      <td>565.0</td>\n",
       "      <td>259.0</td>\n",
       "      <td>3.8462</td>\n",
       "      <td>342200.0</td>\n",
       "      <td>NEAR BAY</td>\n",
       "    </tr>\n",
       "    <tr>\n",
       "      <th>6</th>\n",
       "      <td>6</td>\n",
       "      <td>-122.25</td>\n",
       "      <td>37.84</td>\n",
       "      <td>52.0</td>\n",
       "      <td>2535.0</td>\n",
       "      <td>489.0</td>\n",
       "      <td>1094.0</td>\n",
       "      <td>514.0</td>\n",
       "      <td>3.6591</td>\n",
       "      <td>299200.0</td>\n",
       "      <td>NEAR BAY</td>\n",
       "    </tr>\n",
       "  </tbody>\n",
       "</table>\n",
       "</div>"
      ],
      "text/plain": [
       "   index  longitude  latitude  housing_median_age  total_rooms  \\\n",
       "0      0    -122.23     37.88                41.0        880.0   \n",
       "1      1    -122.22     37.86                21.0       7099.0   \n",
       "3      3    -122.25     37.85                52.0       1274.0   \n",
       "4      4    -122.25     37.85                52.0       1627.0   \n",
       "6      6    -122.25     37.84                52.0       2535.0   \n",
       "\n",
       "   total_bedrooms  population  households  median_income  median_house_value  \\\n",
       "0           129.0       322.0       126.0         8.3252            452600.0   \n",
       "1          1106.0      2401.0      1138.0         8.3014            358500.0   \n",
       "3           235.0       558.0       219.0         5.6431            341300.0   \n",
       "4           280.0       565.0       259.0         3.8462            342200.0   \n",
       "6           489.0      1094.0       514.0         3.6591            299200.0   \n",
       "\n",
       "  ocean_proximity  \n",
       "0        NEAR BAY  \n",
       "1        NEAR BAY  \n",
       "3        NEAR BAY  \n",
       "4        NEAR BAY  \n",
       "6        NEAR BAY  "
      ]
     },
     "execution_count": 10,
     "metadata": {},
     "output_type": "execute_result"
    }
   ],
   "source": [
    "train_set, test_set = split_train_test_by_id(df, 0.2, \"index\")\n",
    "train_set.head()"
   ]
  },
  {
   "cell_type": "code",
   "execution_count": 134,
   "id": "ab9991a7",
   "metadata": {},
   "outputs": [],
   "source": [
    "### DATA SEPARATOR FOR BATCH LEARNING (the sets will be different deppending on the initial dataset)\n",
    "\n",
    "from sklearn.model_selection import StratifiedShuffleSplit\n",
    "\n",
    "df[\"income_cat\"] = pandas.cut(df[\"median_income\"], \n",
    "                              bins=[0., 1.5, 3.0, 4.5, 6., np.inf], \n",
    "                              labels=[1, 2, 3, 4, 5])\n",
    "\n",
    "separator = StratifiedShuffleSplit(n_splits=1, test_size=0.2, random_state=42) # STRATIFIED (not random): reduces biasing"
   ]
  },
  {
   "cell_type": "code",
   "execution_count": 12,
   "id": "569a6e76",
   "metadata": {},
   "outputs": [
    {
     "data": {
      "text/html": [
       "<div>\n",
       "<style scoped>\n",
       "    .dataframe tbody tr th:only-of-type {\n",
       "        vertical-align: middle;\n",
       "    }\n",
       "\n",
       "    .dataframe tbody tr th {\n",
       "        vertical-align: top;\n",
       "    }\n",
       "\n",
       "    .dataframe thead th {\n",
       "        text-align: right;\n",
       "    }\n",
       "</style>\n",
       "<table border=\"1\" class=\"dataframe\">\n",
       "  <thead>\n",
       "    <tr style=\"text-align: right;\">\n",
       "      <th></th>\n",
       "      <th>index</th>\n",
       "      <th>longitude</th>\n",
       "      <th>latitude</th>\n",
       "      <th>housing_median_age</th>\n",
       "      <th>total_rooms</th>\n",
       "      <th>total_bedrooms</th>\n",
       "      <th>population</th>\n",
       "      <th>households</th>\n",
       "      <th>median_income</th>\n",
       "      <th>median_house_value</th>\n",
       "      <th>ocean_proximity</th>\n",
       "    </tr>\n",
       "  </thead>\n",
       "  <tbody>\n",
       "    <tr>\n",
       "      <th>17606</th>\n",
       "      <td>17606</td>\n",
       "      <td>-121.89</td>\n",
       "      <td>37.29</td>\n",
       "      <td>38.0</td>\n",
       "      <td>1568.0</td>\n",
       "      <td>351.0</td>\n",
       "      <td>710.0</td>\n",
       "      <td>339.0</td>\n",
       "      <td>2.7042</td>\n",
       "      <td>286600.0</td>\n",
       "      <td>&lt;1H OCEAN</td>\n",
       "    </tr>\n",
       "    <tr>\n",
       "      <th>18632</th>\n",
       "      <td>18632</td>\n",
       "      <td>-121.93</td>\n",
       "      <td>37.05</td>\n",
       "      <td>14.0</td>\n",
       "      <td>679.0</td>\n",
       "      <td>108.0</td>\n",
       "      <td>306.0</td>\n",
       "      <td>113.0</td>\n",
       "      <td>6.4214</td>\n",
       "      <td>340600.0</td>\n",
       "      <td>&lt;1H OCEAN</td>\n",
       "    </tr>\n",
       "    <tr>\n",
       "      <th>14650</th>\n",
       "      <td>14650</td>\n",
       "      <td>-117.20</td>\n",
       "      <td>32.77</td>\n",
       "      <td>31.0</td>\n",
       "      <td>1952.0</td>\n",
       "      <td>471.0</td>\n",
       "      <td>936.0</td>\n",
       "      <td>462.0</td>\n",
       "      <td>2.8621</td>\n",
       "      <td>196900.0</td>\n",
       "      <td>NEAR OCEAN</td>\n",
       "    </tr>\n",
       "    <tr>\n",
       "      <th>3230</th>\n",
       "      <td>3230</td>\n",
       "      <td>-119.61</td>\n",
       "      <td>36.31</td>\n",
       "      <td>25.0</td>\n",
       "      <td>1847.0</td>\n",
       "      <td>371.0</td>\n",
       "      <td>1460.0</td>\n",
       "      <td>353.0</td>\n",
       "      <td>1.8839</td>\n",
       "      <td>46300.0</td>\n",
       "      <td>INLAND</td>\n",
       "    </tr>\n",
       "    <tr>\n",
       "      <th>3555</th>\n",
       "      <td>3555</td>\n",
       "      <td>-118.59</td>\n",
       "      <td>34.23</td>\n",
       "      <td>17.0</td>\n",
       "      <td>6592.0</td>\n",
       "      <td>1525.0</td>\n",
       "      <td>4459.0</td>\n",
       "      <td>1463.0</td>\n",
       "      <td>3.0347</td>\n",
       "      <td>254500.0</td>\n",
       "      <td>&lt;1H OCEAN</td>\n",
       "    </tr>\n",
       "  </tbody>\n",
       "</table>\n",
       "</div>"
      ],
      "text/plain": [
       "       index  longitude  latitude  housing_median_age  total_rooms  \\\n",
       "17606  17606    -121.89     37.29                38.0       1568.0   \n",
       "18632  18632    -121.93     37.05                14.0        679.0   \n",
       "14650  14650    -117.20     32.77                31.0       1952.0   \n",
       "3230    3230    -119.61     36.31                25.0       1847.0   \n",
       "3555    3555    -118.59     34.23                17.0       6592.0   \n",
       "\n",
       "       total_bedrooms  population  households  median_income  \\\n",
       "17606           351.0       710.0       339.0         2.7042   \n",
       "18632           108.0       306.0       113.0         6.4214   \n",
       "14650           471.0       936.0       462.0         2.8621   \n",
       "3230            371.0      1460.0       353.0         1.8839   \n",
       "3555           1525.0      4459.0      1463.0         3.0347   \n",
       "\n",
       "       median_house_value ocean_proximity  \n",
       "17606            286600.0       <1H OCEAN  \n",
       "18632            340600.0       <1H OCEAN  \n",
       "14650            196900.0      NEAR OCEAN  \n",
       "3230              46300.0          INLAND  \n",
       "3555             254500.0       <1H OCEAN  "
      ]
     },
     "execution_count": 12,
     "metadata": {},
     "output_type": "execute_result"
    }
   ],
   "source": [
    "for train_index, test_index in separator.split(df, df[\"income_cat\"]):\n",
    "    strat_train_set = df.loc[train_index]\n",
    "    strat_test_set = df.loc[test_index]\n",
    "    \n",
    "for set_ in (strat_train_set, strat_test_set):\n",
    "    set_.drop(\"income_cat\", axis=1, inplace=True)\n",
    "    \n",
    "strat_train_set.head()"
   ]
  },
  {
   "cell_type": "markdown",
   "id": "7da95d72",
   "metadata": {},
   "source": [
    "# Visualizing features"
   ]
  },
  {
   "cell_type": "code",
   "execution_count": 13,
   "id": "a004ee02",
   "metadata": {},
   "outputs": [],
   "source": [
    "housing = strat_train_set.copy()\n",
    "housing.drop(\"index\", axis=1, inplace=True)"
   ]
  },
  {
   "cell_type": "markdown",
   "id": "cbb54c3a",
   "metadata": {},
   "source": [
    "### Locational influence"
   ]
  },
  {
   "cell_type": "code",
   "execution_count": 14,
   "id": "f225193e",
   "metadata": {},
   "outputs": [
    {
     "data": {
      "text/plain": [
       "<matplotlib.legend.Legend at 0x1c1e4d99ee0>"
      ]
     },
     "execution_count": 14,
     "metadata": {},
     "output_type": "execute_result"
    },
    {
     "data": {
      "image/png": "[encoded data removed]",
      "text/plain": [
       "<Figure size 1080x720 with 2 Axes>"
      ]
     },
     "metadata": {
      "needs_background": "light"
     },
     "output_type": "display_data"
    }
   ],
   "source": [
    "housing.plot(kind=\"scatter\", x=\"longitude\", y=\"latitude\", alpha = 0.4, \n",
    "             s=housing[\"population\"]/100, label=\"population\", figsize=(15,10), \n",
    "             c=\"median_house_value\", cmap = plt.get_cmap(\"jet\"), colorbar = True) \n",
    "\n",
    "plt.legend()"
   ]
  },
  {
   "cell_type": "markdown",
   "id": "d310ae3b",
   "metadata": {},
   "source": [
    "#### (The houses in the most clustered areas that are closer to the coast tend to be more expensive)"
   ]
  },
  {
   "cell_type": "markdown",
   "id": "df98eb04",
   "metadata": {},
   "source": [
    "### Linear Correlation"
   ]
  },
  {
   "cell_type": "code",
   "execution_count": 15,
   "id": "cdf2fed0",
   "metadata": {},
   "outputs": [
    {
     "data": {
      "text/plain": [
       "median_house_value    1.000000\n",
       "median_income         0.687160\n",
       "total_rooms           0.135097\n",
       "housing_median_age    0.114110\n",
       "households            0.064506\n",
       "total_bedrooms        0.047689\n",
       "population           -0.026920\n",
       "longitude            -0.047432\n",
       "latitude             -0.142724\n",
       "Name: median_house_value, dtype: float64"
      ]
     },
     "execution_count": 15,
     "metadata": {},
     "output_type": "execute_result"
    }
   ],
   "source": [
    "### LINEAR CORRELATION\n",
    "\n",
    "corr_matrix = housing.corr()\n",
    "corr_matrix[\"median_house_value\"].sort_values(ascending=False)"
   ]
  },
  {
   "cell_type": "markdown",
   "id": "c790924d",
   "metadata": {},
   "source": [
    "#### (Current most important parameters: median income, latitude, total rooms and house median age)"
   ]
  },
  {
   "cell_type": "code",
   "execution_count": 16,
   "id": "e9af60d9",
   "metadata": {},
   "outputs": [
    {
     "data": {
      "text/plain": [
       "median_house_value          1.000000\n",
       "median_income               0.687160\n",
       "rooms_per_household         0.146285\n",
       "total_rooms                 0.135097\n",
       "housing_median_age          0.114110\n",
       "households                  0.064506\n",
       "total_bedrooms              0.047689\n",
       "population_per_household   -0.021985\n",
       "population                 -0.026920\n",
       "longitude                  -0.047432\n",
       "latitude                   -0.142724\n",
       "bedrooms_per_room          -0.259984\n",
       "Name: median_house_value, dtype: float64"
      ]
     },
     "execution_count": 16,
     "metadata": {},
     "output_type": "execute_result"
    }
   ],
   "source": [
    "### LINEAR CORRELATION BETWEEN CREATED PARAMETERS: (bedrooms_per_room, rooms_per_household, population_per_household)\n",
    "\n",
    "housing[\"bedrooms_per_room\"] = housing[\"total_bedrooms\"] / housing[\"total_rooms\"] # Useful\n",
    "housing[\"rooms_per_household\"] = housing[\"total_rooms\"] / housing[\"households\"] # Useful\n",
    "housing[\"population_per_household\"] = housing[\"population\"] / housing[\"households\"] # Not useful\n",
    "\n",
    "corr_matrix = housing.corr()\n",
    "corr_matrix[\"median_house_value\"].sort_values(ascending=False)"
   ]
  },
  {
   "cell_type": "markdown",
   "id": "bff5d468",
   "metadata": {},
   "source": [
    "#### (Current most important parameters: median income, BEDROOMS PER ROOM, ROOMS PER HOUSEHOLD and latitude)"
   ]
  },
  {
   "cell_type": "markdown",
   "id": "d4b16b43",
   "metadata": {},
   "source": [
    "# Preparing the data - Detailed view"
   ]
  },
  {
   "cell_type": "code",
   "execution_count": 17,
   "id": "a04c3738",
   "metadata": {},
   "outputs": [],
   "source": [
    "housing = strat_train_set.drop([\"median_house_value\", \"index\"], axis=1)       # Train set\n",
    "housing_labels = strat_train_set[\"median_house_value\"].copy()                 # Train set labels\n",
    "\n",
    "housing_numerical = housing.drop(\"ocean_proximity\", axis=1)                   # Isolate numerical values for certain operations"
   ]
  },
  {
   "cell_type": "code",
   "execution_count": 18,
   "id": "b0ff68ff",
   "metadata": {},
   "outputs": [],
   "source": [
    "### CREATING TRANSFORMER: ATTRIBUTES ADDER\n",
    "\n",
    "from sklearn.base import BaseEstimator, TransformerMixin\n",
    "\n",
    "col_names = \"total_rooms\", \"total_bedrooms\", \"population\", \"households\"\n",
    "rooms_ix, bedrooms_ix, population_ix, households_ix = [housing.columns.get_loc(c) for c in col_names]\n",
    "\n",
    "\n",
    "class CombinedAttributesAdder(BaseEstimator, TransformerMixin):\n",
    "    \n",
    "    def __init__(self, use_population_per_household=False):\n",
    "        self.use_population_per_household = use_population_per_household\n",
    "        \n",
    "    def fit(self, X, y=None):\n",
    "        # X represents the dataset's parameter values; y represents the dataset's labels\n",
    "        # However, neither of those are used. This transformer doesn't need to learn from\n",
    "        # data (unlike the SimpleInputer(strategy=\"mean\"))  \n",
    "        \n",
    "        return self          \n",
    "    \n",
    "    def transform(self, X):\n",
    "        bedrooms_per_room = X[:, bedrooms_ix] / X[:, rooms_ix]\n",
    "        rooms_per_household = X[:, rooms_ix] / X[:, households_ix]\n",
    "        \n",
    "        if self.use_population_per_household:\n",
    "            population_per_household = X[:, population_ix] / X[:, households_ix]\n",
    "            return np.c_[X, bedrooms_per_room, rooms_per_household, population_per_household]\n",
    "        \n",
    "        return np.c_[X, bedrooms_per_room, rooms_per_household]"
   ]
  },
  {
   "cell_type": "markdown",
   "id": "94165682",
   "metadata": {},
   "source": [
    "### Filling in the gaps"
   ]
  },
  {
   "cell_type": "code",
   "execution_count": 19,
   "id": "b9ab8809",
   "metadata": {},
   "outputs": [
    {
     "name": "stdout",
     "output_type": "stream",
     "text": [
      "<class 'pandas.core.frame.DataFrame'>\n",
      "Int64Index: 16512 entries, 17606 to 15775\n",
      "Data columns (total 9 columns):\n",
      " #   Column              Non-Null Count  Dtype  \n",
      "---  ------              --------------  -----  \n",
      " 0   longitude           16512 non-null  float64\n",
      " 1   latitude            16512 non-null  float64\n",
      " 2   housing_median_age  16512 non-null  float64\n",
      " 3   total_rooms         16512 non-null  float64\n",
      " 4   total_bedrooms      16354 non-null  float64\n",
      " 5   population          16512 non-null  float64\n",
      " 6   households          16512 non-null  float64\n",
      " 7   median_income       16512 non-null  float64\n",
      " 8   ocean_proximity     16512 non-null  object \n",
      "dtypes: float64(8), object(1)\n",
      "memory usage: 1.3+ MB\n"
     ]
    },
    {
     "data": {
      "text/html": [
       "<div>\n",
       "<style scoped>\n",
       "    .dataframe tbody tr th:only-of-type {\n",
       "        vertical-align: middle;\n",
       "    }\n",
       "\n",
       "    .dataframe tbody tr th {\n",
       "        vertical-align: top;\n",
       "    }\n",
       "\n",
       "    .dataframe thead th {\n",
       "        text-align: right;\n",
       "    }\n",
       "</style>\n",
       "<table border=\"1\" class=\"dataframe\">\n",
       "  <thead>\n",
       "    <tr style=\"text-align: right;\">\n",
       "      <th></th>\n",
       "      <th>longitude</th>\n",
       "      <th>latitude</th>\n",
       "      <th>housing_median_age</th>\n",
       "      <th>total_rooms</th>\n",
       "      <th>total_bedrooms</th>\n",
       "      <th>population</th>\n",
       "      <th>households</th>\n",
       "      <th>median_income</th>\n",
       "      <th>ocean_proximity</th>\n",
       "    </tr>\n",
       "  </thead>\n",
       "  <tbody>\n",
       "    <tr>\n",
       "      <th>17606</th>\n",
       "      <td>-121.89</td>\n",
       "      <td>37.29</td>\n",
       "      <td>38.0</td>\n",
       "      <td>1568.0</td>\n",
       "      <td>351.0</td>\n",
       "      <td>710.0</td>\n",
       "      <td>339.0</td>\n",
       "      <td>2.7042</td>\n",
       "      <td>&lt;1H OCEAN</td>\n",
       "    </tr>\n",
       "    <tr>\n",
       "      <th>18632</th>\n",
       "      <td>-121.93</td>\n",
       "      <td>37.05</td>\n",
       "      <td>14.0</td>\n",
       "      <td>679.0</td>\n",
       "      <td>108.0</td>\n",
       "      <td>306.0</td>\n",
       "      <td>113.0</td>\n",
       "      <td>6.4214</td>\n",
       "      <td>&lt;1H OCEAN</td>\n",
       "    </tr>\n",
       "    <tr>\n",
       "      <th>14650</th>\n",
       "      <td>-117.20</td>\n",
       "      <td>32.77</td>\n",
       "      <td>31.0</td>\n",
       "      <td>1952.0</td>\n",
       "      <td>471.0</td>\n",
       "      <td>936.0</td>\n",
       "      <td>462.0</td>\n",
       "      <td>2.8621</td>\n",
       "      <td>NEAR OCEAN</td>\n",
       "    </tr>\n",
       "    <tr>\n",
       "      <th>3230</th>\n",
       "      <td>-119.61</td>\n",
       "      <td>36.31</td>\n",
       "      <td>25.0</td>\n",
       "      <td>1847.0</td>\n",
       "      <td>371.0</td>\n",
       "      <td>1460.0</td>\n",
       "      <td>353.0</td>\n",
       "      <td>1.8839</td>\n",
       "      <td>INLAND</td>\n",
       "    </tr>\n",
       "    <tr>\n",
       "      <th>3555</th>\n",
       "      <td>-118.59</td>\n",
       "      <td>34.23</td>\n",
       "      <td>17.0</td>\n",
       "      <td>6592.0</td>\n",
       "      <td>1525.0</td>\n",
       "      <td>4459.0</td>\n",
       "      <td>1463.0</td>\n",
       "      <td>3.0347</td>\n",
       "      <td>&lt;1H OCEAN</td>\n",
       "    </tr>\n",
       "  </tbody>\n",
       "</table>\n",
       "</div>"
      ],
      "text/plain": [
       "       longitude  latitude  housing_median_age  total_rooms  total_bedrooms  \\\n",
       "17606    -121.89     37.29                38.0       1568.0           351.0   \n",
       "18632    -121.93     37.05                14.0        679.0           108.0   \n",
       "14650    -117.20     32.77                31.0       1952.0           471.0   \n",
       "3230     -119.61     36.31                25.0       1847.0           371.0   \n",
       "3555     -118.59     34.23                17.0       6592.0          1525.0   \n",
       "\n",
       "       population  households  median_income ocean_proximity  \n",
       "17606       710.0       339.0         2.7042       <1H OCEAN  \n",
       "18632       306.0       113.0         6.4214       <1H OCEAN  \n",
       "14650       936.0       462.0         2.8621      NEAR OCEAN  \n",
       "3230       1460.0       353.0         1.8839          INLAND  \n",
       "3555       4459.0      1463.0         3.0347       <1H OCEAN  "
      ]
     },
     "execution_count": 19,
     "metadata": {},
     "output_type": "execute_result"
    }
   ],
   "source": [
    "housing.info()\n",
    "housing.head()"
   ]
  },
  {
   "cell_type": "markdown",
   "id": "1f3dfd9a",
   "metadata": {},
   "source": [
    "#### (Certain columns are incomplete - SOLUTION: fill unspecified values with the median value)"
   ]
  },
  {
   "cell_type": "code",
   "execution_count": 20,
   "id": "cb9b58d8",
   "metadata": {},
   "outputs": [
    {
     "data": {
      "text/plain": [
       "numpy.ndarray"
      ]
     },
     "execution_count": 20,
     "metadata": {},
     "output_type": "execute_result"
    }
   ],
   "source": [
    "from sklearn.impute import SimpleImputer\n",
    "\n",
    "imputer = SimpleImputer(strategy=\"median\")\n",
    "\n",
    "#imputer.fit(housing_numerical)                                                 # FIT +\n",
    "#housing_numerical_complete_array = imputer.transform(housing_numerical)        # TRANSFORM\n",
    "\n",
    "housing_numerical_tf_array = imputer.fit_transform(housing_numerical)\n",
    "\n",
    "type(housing_numerical_tf_array)"
   ]
  },
  {
   "cell_type": "code",
   "execution_count": 21,
   "id": "5d95e365",
   "metadata": {},
   "outputs": [
    {
     "name": "stdout",
     "output_type": "stream",
     "text": [
      "<class 'pandas.core.frame.DataFrame'>\n",
      "Int64Index: 16512 entries, 17606 to 15775\n",
      "Data columns (total 9 columns):\n",
      " #   Column              Non-Null Count  Dtype  \n",
      "---  ------              --------------  -----  \n",
      " 0   longitude           16512 non-null  float64\n",
      " 1   latitude            16512 non-null  float64\n",
      " 2   housing_median_age  16512 non-null  float64\n",
      " 3   total_rooms         16512 non-null  float64\n",
      " 4   total_bedrooms      16512 non-null  float64\n",
      " 5   population          16512 non-null  float64\n",
      " 6   households          16512 non-null  float64\n",
      " 7   median_income       16512 non-null  float64\n",
      " 8   ocean_proximity     16512 non-null  object \n",
      "dtypes: float64(8), object(1)\n",
      "memory usage: 1.3+ MB\n"
     ]
    },
    {
     "data": {
      "text/html": [
       "<div>\n",
       "<style scoped>\n",
       "    .dataframe tbody tr th:only-of-type {\n",
       "        vertical-align: middle;\n",
       "    }\n",
       "\n",
       "    .dataframe tbody tr th {\n",
       "        vertical-align: top;\n",
       "    }\n",
       "\n",
       "    .dataframe thead th {\n",
       "        text-align: right;\n",
       "    }\n",
       "</style>\n",
       "<table border=\"1\" class=\"dataframe\">\n",
       "  <thead>\n",
       "    <tr style=\"text-align: right;\">\n",
       "      <th></th>\n",
       "      <th>longitude</th>\n",
       "      <th>latitude</th>\n",
       "      <th>housing_median_age</th>\n",
       "      <th>total_rooms</th>\n",
       "      <th>total_bedrooms</th>\n",
       "      <th>population</th>\n",
       "      <th>households</th>\n",
       "      <th>median_income</th>\n",
       "      <th>ocean_proximity</th>\n",
       "    </tr>\n",
       "  </thead>\n",
       "  <tbody>\n",
       "    <tr>\n",
       "      <th>17606</th>\n",
       "      <td>-121.89</td>\n",
       "      <td>37.29</td>\n",
       "      <td>38.0</td>\n",
       "      <td>1568.0</td>\n",
       "      <td>351.0</td>\n",
       "      <td>710.0</td>\n",
       "      <td>339.0</td>\n",
       "      <td>2.7042</td>\n",
       "      <td>&lt;1H OCEAN</td>\n",
       "    </tr>\n",
       "    <tr>\n",
       "      <th>18632</th>\n",
       "      <td>-121.93</td>\n",
       "      <td>37.05</td>\n",
       "      <td>14.0</td>\n",
       "      <td>679.0</td>\n",
       "      <td>108.0</td>\n",
       "      <td>306.0</td>\n",
       "      <td>113.0</td>\n",
       "      <td>6.4214</td>\n",
       "      <td>&lt;1H OCEAN</td>\n",
       "    </tr>\n",
       "    <tr>\n",
       "      <th>14650</th>\n",
       "      <td>-117.20</td>\n",
       "      <td>32.77</td>\n",
       "      <td>31.0</td>\n",
       "      <td>1952.0</td>\n",
       "      <td>471.0</td>\n",
       "      <td>936.0</td>\n",
       "      <td>462.0</td>\n",
       "      <td>2.8621</td>\n",
       "      <td>NEAR OCEAN</td>\n",
       "    </tr>\n",
       "    <tr>\n",
       "      <th>3230</th>\n",
       "      <td>-119.61</td>\n",
       "      <td>36.31</td>\n",
       "      <td>25.0</td>\n",
       "      <td>1847.0</td>\n",
       "      <td>371.0</td>\n",
       "      <td>1460.0</td>\n",
       "      <td>353.0</td>\n",
       "      <td>1.8839</td>\n",
       "      <td>INLAND</td>\n",
       "    </tr>\n",
       "    <tr>\n",
       "      <th>3555</th>\n",
       "      <td>-118.59</td>\n",
       "      <td>34.23</td>\n",
       "      <td>17.0</td>\n",
       "      <td>6592.0</td>\n",
       "      <td>1525.0</td>\n",
       "      <td>4459.0</td>\n",
       "      <td>1463.0</td>\n",
       "      <td>3.0347</td>\n",
       "      <td>&lt;1H OCEAN</td>\n",
       "    </tr>\n",
       "  </tbody>\n",
       "</table>\n",
       "</div>"
      ],
      "text/plain": [
       "       longitude  latitude  housing_median_age  total_rooms  total_bedrooms  \\\n",
       "17606    -121.89     37.29                38.0       1568.0           351.0   \n",
       "18632    -121.93     37.05                14.0        679.0           108.0   \n",
       "14650    -117.20     32.77                31.0       1952.0           471.0   \n",
       "3230     -119.61     36.31                25.0       1847.0           371.0   \n",
       "3555     -118.59     34.23                17.0       6592.0          1525.0   \n",
       "\n",
       "       population  households  median_income ocean_proximity  \n",
       "17606       710.0       339.0         2.7042       <1H OCEAN  \n",
       "18632       306.0       113.0         6.4214       <1H OCEAN  \n",
       "14650       936.0       462.0         2.8621      NEAR OCEAN  \n",
       "3230       1460.0       353.0         1.8839          INLAND  \n",
       "3555       4459.0      1463.0         3.0347       <1H OCEAN  "
      ]
     },
     "execution_count": 21,
     "metadata": {},
     "output_type": "execute_result"
    }
   ],
   "source": [
    "housing_tf = pandas.DataFrame(housing_numerical_tf_array, \n",
    "                              columns=housing_numerical.columns,\n",
    "                              index=housing_numerical.index)\n",
    "\n",
    "housing_tf[\"ocean_proximity\"] = housing[\"ocean_proximity\"]\n",
    "\n",
    "housing_tf.info()\n",
    "housing_tf.head()"
   ]
  },
  {
   "cell_type": "markdown",
   "id": "7d26b57c",
   "metadata": {},
   "source": [
    "### Adding combo attributes"
   ]
  },
  {
   "cell_type": "code",
   "execution_count": 22,
   "id": "503ab20e",
   "metadata": {},
   "outputs": [
    {
     "data": {
      "text/html": [
       "<div>\n",
       "<style scoped>\n",
       "    .dataframe tbody tr th:only-of-type {\n",
       "        vertical-align: middle;\n",
       "    }\n",
       "\n",
       "    .dataframe tbody tr th {\n",
       "        vertical-align: top;\n",
       "    }\n",
       "\n",
       "    .dataframe thead th {\n",
       "        text-align: right;\n",
       "    }\n",
       "</style>\n",
       "<table border=\"1\" class=\"dataframe\">\n",
       "  <thead>\n",
       "    <tr style=\"text-align: right;\">\n",
       "      <th></th>\n",
       "      <th>longitude</th>\n",
       "      <th>latitude</th>\n",
       "      <th>housing_median_age</th>\n",
       "      <th>total_rooms</th>\n",
       "      <th>total_bedrooms</th>\n",
       "      <th>population</th>\n",
       "      <th>households</th>\n",
       "      <th>median_income</th>\n",
       "      <th>ocean_proximity</th>\n",
       "      <th>BpR</th>\n",
       "      <th>RpH</th>\n",
       "    </tr>\n",
       "  </thead>\n",
       "  <tbody>\n",
       "    <tr>\n",
       "      <th>17606</th>\n",
       "      <td>-121.89</td>\n",
       "      <td>37.29</td>\n",
       "      <td>38.0</td>\n",
       "      <td>1568.0</td>\n",
       "      <td>351.0</td>\n",
       "      <td>710.0</td>\n",
       "      <td>339.0</td>\n",
       "      <td>2.7042</td>\n",
       "      <td>&lt;1H OCEAN</td>\n",
       "      <td>0.223852</td>\n",
       "      <td>4.625369</td>\n",
       "    </tr>\n",
       "    <tr>\n",
       "      <th>18632</th>\n",
       "      <td>-121.93</td>\n",
       "      <td>37.05</td>\n",
       "      <td>14.0</td>\n",
       "      <td>679.0</td>\n",
       "      <td>108.0</td>\n",
       "      <td>306.0</td>\n",
       "      <td>113.0</td>\n",
       "      <td>6.4214</td>\n",
       "      <td>&lt;1H OCEAN</td>\n",
       "      <td>0.159057</td>\n",
       "      <td>6.00885</td>\n",
       "    </tr>\n",
       "    <tr>\n",
       "      <th>14650</th>\n",
       "      <td>-117.2</td>\n",
       "      <td>32.77</td>\n",
       "      <td>31.0</td>\n",
       "      <td>1952.0</td>\n",
       "      <td>471.0</td>\n",
       "      <td>936.0</td>\n",
       "      <td>462.0</td>\n",
       "      <td>2.8621</td>\n",
       "      <td>NEAR OCEAN</td>\n",
       "      <td>0.241291</td>\n",
       "      <td>4.225108</td>\n",
       "    </tr>\n",
       "    <tr>\n",
       "      <th>3230</th>\n",
       "      <td>-119.61</td>\n",
       "      <td>36.31</td>\n",
       "      <td>25.0</td>\n",
       "      <td>1847.0</td>\n",
       "      <td>371.0</td>\n",
       "      <td>1460.0</td>\n",
       "      <td>353.0</td>\n",
       "      <td>1.8839</td>\n",
       "      <td>INLAND</td>\n",
       "      <td>0.200866</td>\n",
       "      <td>5.232295</td>\n",
       "    </tr>\n",
       "    <tr>\n",
       "      <th>3555</th>\n",
       "      <td>-118.59</td>\n",
       "      <td>34.23</td>\n",
       "      <td>17.0</td>\n",
       "      <td>6592.0</td>\n",
       "      <td>1525.0</td>\n",
       "      <td>4459.0</td>\n",
       "      <td>1463.0</td>\n",
       "      <td>3.0347</td>\n",
       "      <td>&lt;1H OCEAN</td>\n",
       "      <td>0.231341</td>\n",
       "      <td>4.50581</td>\n",
       "    </tr>\n",
       "  </tbody>\n",
       "</table>\n",
       "</div>"
      ],
      "text/plain": [
       "      longitude latitude housing_median_age total_rooms total_bedrooms  \\\n",
       "17606   -121.89    37.29               38.0      1568.0          351.0   \n",
       "18632   -121.93    37.05               14.0       679.0          108.0   \n",
       "14650    -117.2    32.77               31.0      1952.0          471.0   \n",
       "3230    -119.61    36.31               25.0      1847.0          371.0   \n",
       "3555    -118.59    34.23               17.0      6592.0         1525.0   \n",
       "\n",
       "      population households median_income ocean_proximity       BpR       RpH  \n",
       "17606      710.0      339.0        2.7042       <1H OCEAN  0.223852  4.625369  \n",
       "18632      306.0      113.0        6.4214       <1H OCEAN  0.159057   6.00885  \n",
       "14650      936.0      462.0        2.8621      NEAR OCEAN  0.241291  4.225108  \n",
       "3230      1460.0      353.0        1.8839          INLAND  0.200866  5.232295  \n",
       "3555      4459.0     1463.0        3.0347       <1H OCEAN  0.231341   4.50581  "
      ]
     },
     "execution_count": 22,
     "metadata": {},
     "output_type": "execute_result"
    }
   ],
   "source": [
    "attr_adder = CombinedAttributesAdder(use_population_per_household=False)\n",
    "housing_combo_array = attr_adder.transform(housing_tf.values)\n",
    "\n",
    "if attr_adder.use_population_per_household:\n",
    "    column_tuple = (np.array(housing_tf.columns), np.array([\"BpR\", \"RpH\", \"PpH\"]))\n",
    "else:\n",
    "    column_tuple = (np.array(housing_tf.columns), np.array([\"BpR\", \"RpH\"]))\n",
    "\n",
    "housing_combo = pandas.DataFrame(housing_combo_array,\n",
    "                                 columns=np.hstack(column_tuple),\n",
    "                                 index=housing_tf.index)\n",
    "\n",
    "housing_combo.head()"
   ]
  },
  {
   "cell_type": "markdown",
   "id": "edc95b7a",
   "metadata": {},
   "source": [
    "### Encoding text into numbers"
   ]
  },
  {
   "cell_type": "code",
   "execution_count": 101,
   "id": "7619f69f",
   "metadata": {},
   "outputs": [
    {
     "name": "stdout",
     "output_type": "stream",
     "text": [
      "['<1H OCEAN' 'INLAND' 'ISLAND' 'NEAR BAY' 'NEAR OCEAN']\n"
     ]
    }
   ],
   "source": [
    "### TRANSFORMING TEXT PARAMETERS INTO BOOLEAN (one-hot encoding)\n",
    "\n",
    "from sklearn.preprocessing import OneHotEncoder\n",
    "\n",
    "text_encoder = OneHotEncoder()\n",
    "\n",
    "two_d_array = housing[\"ocean_proximity\"].values.reshape(-1, 1)\n",
    "housing_bool_column_spmtx = text_encoder.fit_transform(two_d_array)\n",
    "\n",
    "housing_bool_column_spmtx"
   ]
  },
  {
   "cell_type": "code",
   "execution_count": 102,
   "id": "b0c9f249",
   "metadata": {},
   "outputs": [
    {
     "data": {
      "text/html": [
       "<div>\n",
       "<style scoped>\n",
       "    .dataframe tbody tr th:only-of-type {\n",
       "        vertical-align: middle;\n",
       "    }\n",
       "\n",
       "    .dataframe tbody tr th {\n",
       "        vertical-align: top;\n",
       "    }\n",
       "\n",
       "    .dataframe thead th {\n",
       "        text-align: right;\n",
       "    }\n",
       "</style>\n",
       "<table border=\"1\" class=\"dataframe\">\n",
       "  <thead>\n",
       "    <tr style=\"text-align: right;\">\n",
       "      <th></th>\n",
       "      <th>longitude</th>\n",
       "      <th>latitude</th>\n",
       "      <th>housing_median_age</th>\n",
       "      <th>total_rooms</th>\n",
       "      <th>total_bedrooms</th>\n",
       "      <th>population</th>\n",
       "      <th>households</th>\n",
       "      <th>median_income</th>\n",
       "      <th>BpR</th>\n",
       "      <th>RpH</th>\n",
       "      <th>&lt;1H OCEAN</th>\n",
       "      <th>INLAND</th>\n",
       "      <th>ISLAND</th>\n",
       "      <th>NEAR BAY</th>\n",
       "      <th>NEAR OCEAN</th>\n",
       "    </tr>\n",
       "  </thead>\n",
       "  <tbody>\n",
       "    <tr>\n",
       "      <th>17606</th>\n",
       "      <td>-121.89</td>\n",
       "      <td>37.29</td>\n",
       "      <td>38.0</td>\n",
       "      <td>1568.0</td>\n",
       "      <td>351.0</td>\n",
       "      <td>710.0</td>\n",
       "      <td>339.0</td>\n",
       "      <td>2.7042</td>\n",
       "      <td>0.223852</td>\n",
       "      <td>4.625369</td>\n",
       "      <td>1.0</td>\n",
       "      <td>0.0</td>\n",
       "      <td>0.0</td>\n",
       "      <td>0.0</td>\n",
       "      <td>0.0</td>\n",
       "    </tr>\n",
       "    <tr>\n",
       "      <th>18632</th>\n",
       "      <td>-121.93</td>\n",
       "      <td>37.05</td>\n",
       "      <td>14.0</td>\n",
       "      <td>679.0</td>\n",
       "      <td>108.0</td>\n",
       "      <td>306.0</td>\n",
       "      <td>113.0</td>\n",
       "      <td>6.4214</td>\n",
       "      <td>0.159057</td>\n",
       "      <td>6.00885</td>\n",
       "      <td>1.0</td>\n",
       "      <td>0.0</td>\n",
       "      <td>0.0</td>\n",
       "      <td>0.0</td>\n",
       "      <td>0.0</td>\n",
       "    </tr>\n",
       "    <tr>\n",
       "      <th>14650</th>\n",
       "      <td>-117.2</td>\n",
       "      <td>32.77</td>\n",
       "      <td>31.0</td>\n",
       "      <td>1952.0</td>\n",
       "      <td>471.0</td>\n",
       "      <td>936.0</td>\n",
       "      <td>462.0</td>\n",
       "      <td>2.8621</td>\n",
       "      <td>0.241291</td>\n",
       "      <td>4.225108</td>\n",
       "      <td>0.0</td>\n",
       "      <td>0.0</td>\n",
       "      <td>0.0</td>\n",
       "      <td>0.0</td>\n",
       "      <td>1.0</td>\n",
       "    </tr>\n",
       "    <tr>\n",
       "      <th>3230</th>\n",
       "      <td>-119.61</td>\n",
       "      <td>36.31</td>\n",
       "      <td>25.0</td>\n",
       "      <td>1847.0</td>\n",
       "      <td>371.0</td>\n",
       "      <td>1460.0</td>\n",
       "      <td>353.0</td>\n",
       "      <td>1.8839</td>\n",
       "      <td>0.200866</td>\n",
       "      <td>5.232295</td>\n",
       "      <td>0.0</td>\n",
       "      <td>1.0</td>\n",
       "      <td>0.0</td>\n",
       "      <td>0.0</td>\n",
       "      <td>0.0</td>\n",
       "    </tr>\n",
       "    <tr>\n",
       "      <th>3555</th>\n",
       "      <td>-118.59</td>\n",
       "      <td>34.23</td>\n",
       "      <td>17.0</td>\n",
       "      <td>6592.0</td>\n",
       "      <td>1525.0</td>\n",
       "      <td>4459.0</td>\n",
       "      <td>1463.0</td>\n",
       "      <td>3.0347</td>\n",
       "      <td>0.231341</td>\n",
       "      <td>4.50581</td>\n",
       "      <td>1.0</td>\n",
       "      <td>0.0</td>\n",
       "      <td>0.0</td>\n",
       "      <td>0.0</td>\n",
       "      <td>0.0</td>\n",
       "    </tr>\n",
       "  </tbody>\n",
       "</table>\n",
       "</div>"
      ],
      "text/plain": [
       "      longitude latitude housing_median_age total_rooms total_bedrooms  \\\n",
       "17606   -121.89    37.29               38.0      1568.0          351.0   \n",
       "18632   -121.93    37.05               14.0       679.0          108.0   \n",
       "14650    -117.2    32.77               31.0      1952.0          471.0   \n",
       "3230    -119.61    36.31               25.0      1847.0          371.0   \n",
       "3555    -118.59    34.23               17.0      6592.0         1525.0   \n",
       "\n",
       "      population households median_income       BpR       RpH  <1H OCEAN  \\\n",
       "17606      710.0      339.0        2.7042  0.223852  4.625369        1.0   \n",
       "18632      306.0      113.0        6.4214  0.159057   6.00885        1.0   \n",
       "14650      936.0      462.0        2.8621  0.241291  4.225108        0.0   \n",
       "3230      1460.0      353.0        1.8839  0.200866  5.232295        0.0   \n",
       "3555      4459.0     1463.0        3.0347  0.231341   4.50581        1.0   \n",
       "\n",
       "       INLAND  ISLAND  NEAR BAY  NEAR OCEAN  \n",
       "17606     0.0     0.0       0.0         0.0  \n",
       "18632     0.0     0.0       0.0         0.0  \n",
       "14650     0.0     0.0       0.0         1.0  \n",
       "3230      1.0     0.0       0.0         0.0  \n",
       "3555      0.0     0.0       0.0         0.0  "
      ]
     },
     "execution_count": 102,
     "metadata": {},
     "output_type": "execute_result"
    }
   ],
   "source": [
    "housing_bool = housing_combo.drop(\"ocean_proximity\", axis=1)\n",
    "housing_bool_column_array = housing_bool_column_spmtx.toarray()\n",
    "\n",
    "for i in range(5):\n",
    "    housing_bool[text_encoder.categories_[0][i]] = housing_bool_column_array[:, i]\n",
    "    \n",
    "housing_bool.head()"
   ]
  },
  {
   "cell_type": "markdown",
   "id": "6ef9e456",
   "metadata": {},
   "source": [
    "# Preparing the data - doing everything in pipelines"
   ]
  },
  {
   "cell_type": "code",
   "execution_count": 85,
   "id": "08276cad",
   "metadata": {},
   "outputs": [
    {
     "data": {
      "text/html": [
       "<div>\n",
       "<style scoped>\n",
       "    .dataframe tbody tr th:only-of-type {\n",
       "        vertical-align: middle;\n",
       "    }\n",
       "\n",
       "    .dataframe tbody tr th {\n",
       "        vertical-align: top;\n",
       "    }\n",
       "\n",
       "    .dataframe thead th {\n",
       "        text-align: right;\n",
       "    }\n",
       "</style>\n",
       "<table border=\"1\" class=\"dataframe\">\n",
       "  <thead>\n",
       "    <tr style=\"text-align: right;\">\n",
       "      <th></th>\n",
       "      <th>0</th>\n",
       "      <th>1</th>\n",
       "      <th>2</th>\n",
       "      <th>3</th>\n",
       "      <th>4</th>\n",
       "      <th>5</th>\n",
       "      <th>6</th>\n",
       "      <th>7</th>\n",
       "      <th>8</th>\n",
       "      <th>9</th>\n",
       "    </tr>\n",
       "  </thead>\n",
       "  <tbody>\n",
       "    <tr>\n",
       "      <th>0</th>\n",
       "      <td>-1.156043</td>\n",
       "      <td>0.771950</td>\n",
       "      <td>0.743331</td>\n",
       "      <td>-0.493234</td>\n",
       "      <td>-0.445438</td>\n",
       "      <td>-0.636211</td>\n",
       "      <td>-0.420698</td>\n",
       "      <td>-0.614937</td>\n",
       "      <td>0.155318</td>\n",
       "      <td>-0.312055</td>\n",
       "    </tr>\n",
       "    <tr>\n",
       "      <th>1</th>\n",
       "      <td>-1.176025</td>\n",
       "      <td>0.659695</td>\n",
       "      <td>-1.165317</td>\n",
       "      <td>-0.908967</td>\n",
       "      <td>-1.036928</td>\n",
       "      <td>-0.998331</td>\n",
       "      <td>-1.022227</td>\n",
       "      <td>1.336459</td>\n",
       "      <td>-0.836289</td>\n",
       "      <td>0.217683</td>\n",
       "    </tr>\n",
       "    <tr>\n",
       "      <th>2</th>\n",
       "      <td>1.186849</td>\n",
       "      <td>-1.342183</td>\n",
       "      <td>0.186642</td>\n",
       "      <td>-0.313660</td>\n",
       "      <td>-0.153345</td>\n",
       "      <td>-0.433639</td>\n",
       "      <td>-0.093318</td>\n",
       "      <td>-0.532046</td>\n",
       "      <td>0.422200</td>\n",
       "      <td>-0.465315</td>\n",
       "    </tr>\n",
       "    <tr>\n",
       "      <th>3</th>\n",
       "      <td>-0.017068</td>\n",
       "      <td>0.313576</td>\n",
       "      <td>-0.290520</td>\n",
       "      <td>-0.362762</td>\n",
       "      <td>-0.396756</td>\n",
       "      <td>0.036041</td>\n",
       "      <td>-0.383436</td>\n",
       "      <td>-1.045566</td>\n",
       "      <td>-0.196453</td>\n",
       "      <td>-0.079661</td>\n",
       "    </tr>\n",
       "    <tr>\n",
       "      <th>4</th>\n",
       "      <td>0.492474</td>\n",
       "      <td>-0.659299</td>\n",
       "      <td>-0.926736</td>\n",
       "      <td>1.856193</td>\n",
       "      <td>2.412211</td>\n",
       "      <td>2.724154</td>\n",
       "      <td>2.570975</td>\n",
       "      <td>-0.441437</td>\n",
       "      <td>0.269928</td>\n",
       "      <td>-0.357834</td>\n",
       "    </tr>\n",
       "    <tr>\n",
       "      <th>...</th>\n",
       "      <td>...</td>\n",
       "      <td>...</td>\n",
       "      <td>...</td>\n",
       "      <td>...</td>\n",
       "      <td>...</td>\n",
       "      <td>...</td>\n",
       "      <td>...</td>\n",
       "      <td>...</td>\n",
       "      <td>...</td>\n",
       "      <td>...</td>\n",
       "    </tr>\n",
       "    <tr>\n",
       "      <th>16507</th>\n",
       "      <td>0.722267</td>\n",
       "      <td>-0.673331</td>\n",
       "      <td>1.379547</td>\n",
       "      <td>-0.632123</td>\n",
       "      <td>-0.725361</td>\n",
       "      <td>-0.759010</td>\n",
       "      <td>-0.764049</td>\n",
       "      <td>0.554158</td>\n",
       "      <td>-0.428853</td>\n",
       "      <td>0.234352</td>\n",
       "    </tr>\n",
       "    <tr>\n",
       "      <th>16508</th>\n",
       "      <td>1.007011</td>\n",
       "      <td>-0.823004</td>\n",
       "      <td>0.902385</td>\n",
       "      <td>-0.667196</td>\n",
       "      <td>-0.584183</td>\n",
       "      <td>-0.329664</td>\n",
       "      <td>-0.636291</td>\n",
       "      <td>-0.948815</td>\n",
       "      <td>0.491503</td>\n",
       "      <td>-0.308114</td>\n",
       "    </tr>\n",
       "    <tr>\n",
       "      <th>16509</th>\n",
       "      <td>1.586489</td>\n",
       "      <td>-0.724781</td>\n",
       "      <td>-1.562952</td>\n",
       "      <td>1.043901</td>\n",
       "      <td>0.822735</td>\n",
       "      <td>0.607904</td>\n",
       "      <td>0.713156</td>\n",
       "      <td>-0.316705</td>\n",
       "      <td>-0.521776</td>\n",
       "      <td>0.346934</td>\n",
       "    </tr>\n",
       "    <tr>\n",
       "      <th>16510</th>\n",
       "      <td>0.782213</td>\n",
       "      <td>-0.851068</td>\n",
       "      <td>0.186642</td>\n",
       "      <td>-0.309919</td>\n",
       "      <td>-0.374849</td>\n",
       "      <td>-0.057178</td>\n",
       "      <td>-0.375451</td>\n",
       "      <td>0.098121</td>\n",
       "      <td>-0.303407</td>\n",
       "      <td>0.024995</td>\n",
       "    </tr>\n",
       "    <tr>\n",
       "      <th>16511</th>\n",
       "      <td>-1.435791</td>\n",
       "      <td>0.996459</td>\n",
       "      <td>1.856709</td>\n",
       "      <td>0.220853</td>\n",
       "      <td>0.360253</td>\n",
       "      <td>-0.135159</td>\n",
       "      <td>0.377791</td>\n",
       "      <td>-0.157799</td>\n",
       "      <td>0.101806</td>\n",
       "      <td>-0.228529</td>\n",
       "    </tr>\n",
       "  </tbody>\n",
       "</table>\n",
       "<p>16512 rows × 10 columns</p>\n",
       "</div>"
      ],
      "text/plain": [
       "              0         1         2         3         4         5         6  \\\n",
       "0     -1.156043  0.771950  0.743331 -0.493234 -0.445438 -0.636211 -0.420698   \n",
       "1     -1.176025  0.659695 -1.165317 -0.908967 -1.036928 -0.998331 -1.022227   \n",
       "2      1.186849 -1.342183  0.186642 -0.313660 -0.153345 -0.433639 -0.093318   \n",
       "3     -0.017068  0.313576 -0.290520 -0.362762 -0.396756  0.036041 -0.383436   \n",
       "4      0.492474 -0.659299 -0.926736  1.856193  2.412211  2.724154  2.570975   \n",
       "...         ...       ...       ...       ...       ...       ...       ...   \n",
       "16507  0.722267 -0.673331  1.379547 -0.632123 -0.725361 -0.759010 -0.764049   \n",
       "16508  1.007011 -0.823004  0.902385 -0.667196 -0.584183 -0.329664 -0.636291   \n",
       "16509  1.586489 -0.724781 -1.562952  1.043901  0.822735  0.607904  0.713156   \n",
       "16510  0.782213 -0.851068  0.186642 -0.309919 -0.374849 -0.057178 -0.375451   \n",
       "16511 -1.435791  0.996459  1.856709  0.220853  0.360253 -0.135159  0.377791   \n",
       "\n",
       "              7         8         9  \n",
       "0     -0.614937  0.155318 -0.312055  \n",
       "1      1.336459 -0.836289  0.217683  \n",
       "2     -0.532046  0.422200 -0.465315  \n",
       "3     -1.045566 -0.196453 -0.079661  \n",
       "4     -0.441437  0.269928 -0.357834  \n",
       "...         ...       ...       ...  \n",
       "16507  0.554158 -0.428853  0.234352  \n",
       "16508 -0.948815  0.491503 -0.308114  \n",
       "16509 -0.316705 -0.521776  0.346934  \n",
       "16510  0.098121 -0.303407  0.024995  \n",
       "16511 -0.157799  0.101806 -0.228529  \n",
       "\n",
       "[16512 rows x 10 columns]"
      ]
     },
     "execution_count": 85,
     "metadata": {},
     "output_type": "execute_result"
    }
   ],
   "source": [
    "from sklearn.pipeline import Pipeline\n",
    "from sklearn.preprocessing import StandardScaler  # for standardization (division by the standard deviation*)\n",
    "\n",
    "# * every attribute has a 1:1 correspondance in terms of variance (they all have the same unit)\n",
    "\n",
    "num_pipeline = Pipeline([\n",
    "                   ('imputer', SimpleImputer(strategy=\"median\")), \n",
    "                   ('attribs_adder', CombinedAttributesAdder(use_population_per_household=False)), \n",
    "                   ('std_scaler', StandardScaler())\n",
    "               ]) \n",
    "\n",
    "housing_num_tr = num_pipeline.fit_transform(housing_numerical)\n",
    "\n",
    "pandas.DataFrame(housing_num_tr)"
   ]
  },
  {
   "cell_type": "code",
   "execution_count": 86,
   "id": "5137bf56",
   "metadata": {},
   "outputs": [
    {
     "data": {
      "text/html": [
       "<div>\n",
       "<style scoped>\n",
       "    .dataframe tbody tr th:only-of-type {\n",
       "        vertical-align: middle;\n",
       "    }\n",
       "\n",
       "    .dataframe tbody tr th {\n",
       "        vertical-align: top;\n",
       "    }\n",
       "\n",
       "    .dataframe thead th {\n",
       "        text-align: right;\n",
       "    }\n",
       "</style>\n",
       "<table border=\"1\" class=\"dataframe\">\n",
       "  <thead>\n",
       "    <tr style=\"text-align: right;\">\n",
       "      <th></th>\n",
       "      <th>0</th>\n",
       "      <th>1</th>\n",
       "      <th>2</th>\n",
       "      <th>3</th>\n",
       "      <th>4</th>\n",
       "      <th>5</th>\n",
       "      <th>6</th>\n",
       "      <th>7</th>\n",
       "      <th>8</th>\n",
       "      <th>9</th>\n",
       "      <th>10</th>\n",
       "      <th>11</th>\n",
       "      <th>12</th>\n",
       "      <th>13</th>\n",
       "      <th>14</th>\n",
       "    </tr>\n",
       "  </thead>\n",
       "  <tbody>\n",
       "    <tr>\n",
       "      <th>0</th>\n",
       "      <td>-1.156043</td>\n",
       "      <td>0.771950</td>\n",
       "      <td>0.743331</td>\n",
       "      <td>-0.493234</td>\n",
       "      <td>-0.445438</td>\n",
       "      <td>-0.636211</td>\n",
       "      <td>-0.420698</td>\n",
       "      <td>-0.614937</td>\n",
       "      <td>0.155318</td>\n",
       "      <td>-0.312055</td>\n",
       "      <td>1.0</td>\n",
       "      <td>0.0</td>\n",
       "      <td>0.0</td>\n",
       "      <td>0.0</td>\n",
       "      <td>0.0</td>\n",
       "    </tr>\n",
       "    <tr>\n",
       "      <th>1</th>\n",
       "      <td>-1.176025</td>\n",
       "      <td>0.659695</td>\n",
       "      <td>-1.165317</td>\n",
       "      <td>-0.908967</td>\n",
       "      <td>-1.036928</td>\n",
       "      <td>-0.998331</td>\n",
       "      <td>-1.022227</td>\n",
       "      <td>1.336459</td>\n",
       "      <td>-0.836289</td>\n",
       "      <td>0.217683</td>\n",
       "      <td>1.0</td>\n",
       "      <td>0.0</td>\n",
       "      <td>0.0</td>\n",
       "      <td>0.0</td>\n",
       "      <td>0.0</td>\n",
       "    </tr>\n",
       "    <tr>\n",
       "      <th>2</th>\n",
       "      <td>1.186849</td>\n",
       "      <td>-1.342183</td>\n",
       "      <td>0.186642</td>\n",
       "      <td>-0.313660</td>\n",
       "      <td>-0.153345</td>\n",
       "      <td>-0.433639</td>\n",
       "      <td>-0.093318</td>\n",
       "      <td>-0.532046</td>\n",
       "      <td>0.422200</td>\n",
       "      <td>-0.465315</td>\n",
       "      <td>0.0</td>\n",
       "      <td>0.0</td>\n",
       "      <td>0.0</td>\n",
       "      <td>0.0</td>\n",
       "      <td>1.0</td>\n",
       "    </tr>\n",
       "    <tr>\n",
       "      <th>3</th>\n",
       "      <td>-0.017068</td>\n",
       "      <td>0.313576</td>\n",
       "      <td>-0.290520</td>\n",
       "      <td>-0.362762</td>\n",
       "      <td>-0.396756</td>\n",
       "      <td>0.036041</td>\n",
       "      <td>-0.383436</td>\n",
       "      <td>-1.045566</td>\n",
       "      <td>-0.196453</td>\n",
       "      <td>-0.079661</td>\n",
       "      <td>0.0</td>\n",
       "      <td>1.0</td>\n",
       "      <td>0.0</td>\n",
       "      <td>0.0</td>\n",
       "      <td>0.0</td>\n",
       "    </tr>\n",
       "    <tr>\n",
       "      <th>4</th>\n",
       "      <td>0.492474</td>\n",
       "      <td>-0.659299</td>\n",
       "      <td>-0.926736</td>\n",
       "      <td>1.856193</td>\n",
       "      <td>2.412211</td>\n",
       "      <td>2.724154</td>\n",
       "      <td>2.570975</td>\n",
       "      <td>-0.441437</td>\n",
       "      <td>0.269928</td>\n",
       "      <td>-0.357834</td>\n",
       "      <td>1.0</td>\n",
       "      <td>0.0</td>\n",
       "      <td>0.0</td>\n",
       "      <td>0.0</td>\n",
       "      <td>0.0</td>\n",
       "    </tr>\n",
       "    <tr>\n",
       "      <th>...</th>\n",
       "      <td>...</td>\n",
       "      <td>...</td>\n",
       "      <td>...</td>\n",
       "      <td>...</td>\n",
       "      <td>...</td>\n",
       "      <td>...</td>\n",
       "      <td>...</td>\n",
       "      <td>...</td>\n",
       "      <td>...</td>\n",
       "      <td>...</td>\n",
       "      <td>...</td>\n",
       "      <td>...</td>\n",
       "      <td>...</td>\n",
       "      <td>...</td>\n",
       "      <td>...</td>\n",
       "    </tr>\n",
       "    <tr>\n",
       "      <th>16507</th>\n",
       "      <td>0.722267</td>\n",
       "      <td>-0.673331</td>\n",
       "      <td>1.379547</td>\n",
       "      <td>-0.632123</td>\n",
       "      <td>-0.725361</td>\n",
       "      <td>-0.759010</td>\n",
       "      <td>-0.764049</td>\n",
       "      <td>0.554158</td>\n",
       "      <td>-0.428853</td>\n",
       "      <td>0.234352</td>\n",
       "      <td>0.0</td>\n",
       "      <td>1.0</td>\n",
       "      <td>0.0</td>\n",
       "      <td>0.0</td>\n",
       "      <td>0.0</td>\n",
       "    </tr>\n",
       "    <tr>\n",
       "      <th>16508</th>\n",
       "      <td>1.007011</td>\n",
       "      <td>-0.823004</td>\n",
       "      <td>0.902385</td>\n",
       "      <td>-0.667196</td>\n",
       "      <td>-0.584183</td>\n",
       "      <td>-0.329664</td>\n",
       "      <td>-0.636291</td>\n",
       "      <td>-0.948815</td>\n",
       "      <td>0.491503</td>\n",
       "      <td>-0.308114</td>\n",
       "      <td>0.0</td>\n",
       "      <td>1.0</td>\n",
       "      <td>0.0</td>\n",
       "      <td>0.0</td>\n",
       "      <td>0.0</td>\n",
       "    </tr>\n",
       "    <tr>\n",
       "      <th>16509</th>\n",
       "      <td>1.586489</td>\n",
       "      <td>-0.724781</td>\n",
       "      <td>-1.562952</td>\n",
       "      <td>1.043901</td>\n",
       "      <td>0.822735</td>\n",
       "      <td>0.607904</td>\n",
       "      <td>0.713156</td>\n",
       "      <td>-0.316705</td>\n",
       "      <td>-0.521776</td>\n",
       "      <td>0.346934</td>\n",
       "      <td>0.0</td>\n",
       "      <td>1.0</td>\n",
       "      <td>0.0</td>\n",
       "      <td>0.0</td>\n",
       "      <td>0.0</td>\n",
       "    </tr>\n",
       "    <tr>\n",
       "      <th>16510</th>\n",
       "      <td>0.782213</td>\n",
       "      <td>-0.851068</td>\n",
       "      <td>0.186642</td>\n",
       "      <td>-0.309919</td>\n",
       "      <td>-0.374849</td>\n",
       "      <td>-0.057178</td>\n",
       "      <td>-0.375451</td>\n",
       "      <td>0.098121</td>\n",
       "      <td>-0.303407</td>\n",
       "      <td>0.024995</td>\n",
       "      <td>1.0</td>\n",
       "      <td>0.0</td>\n",
       "      <td>0.0</td>\n",
       "      <td>0.0</td>\n",
       "      <td>0.0</td>\n",
       "    </tr>\n",
       "    <tr>\n",
       "      <th>16511</th>\n",
       "      <td>-1.435791</td>\n",
       "      <td>0.996459</td>\n",
       "      <td>1.856709</td>\n",
       "      <td>0.220853</td>\n",
       "      <td>0.360253</td>\n",
       "      <td>-0.135159</td>\n",
       "      <td>0.377791</td>\n",
       "      <td>-0.157799</td>\n",
       "      <td>0.101806</td>\n",
       "      <td>-0.228529</td>\n",
       "      <td>0.0</td>\n",
       "      <td>0.0</td>\n",
       "      <td>0.0</td>\n",
       "      <td>1.0</td>\n",
       "      <td>0.0</td>\n",
       "    </tr>\n",
       "  </tbody>\n",
       "</table>\n",
       "<p>16512 rows × 15 columns</p>\n",
       "</div>"
      ],
      "text/plain": [
       "             0         1         2         3         4         5         6   \\\n",
       "0     -1.156043  0.771950  0.743331 -0.493234 -0.445438 -0.636211 -0.420698   \n",
       "1     -1.176025  0.659695 -1.165317 -0.908967 -1.036928 -0.998331 -1.022227   \n",
       "2      1.186849 -1.342183  0.186642 -0.313660 -0.153345 -0.433639 -0.093318   \n",
       "3     -0.017068  0.313576 -0.290520 -0.362762 -0.396756  0.036041 -0.383436   \n",
       "4      0.492474 -0.659299 -0.926736  1.856193  2.412211  2.724154  2.570975   \n",
       "...         ...       ...       ...       ...       ...       ...       ...   \n",
       "16507  0.722267 -0.673331  1.379547 -0.632123 -0.725361 -0.759010 -0.764049   \n",
       "16508  1.007011 -0.823004  0.902385 -0.667196 -0.584183 -0.329664 -0.636291   \n",
       "16509  1.586489 -0.724781 -1.562952  1.043901  0.822735  0.607904  0.713156   \n",
       "16510  0.782213 -0.851068  0.186642 -0.309919 -0.374849 -0.057178 -0.375451   \n",
       "16511 -1.435791  0.996459  1.856709  0.220853  0.360253 -0.135159  0.377791   \n",
       "\n",
       "             7         8         9    10   11   12   13   14  \n",
       "0     -0.614937  0.155318 -0.312055  1.0  0.0  0.0  0.0  0.0  \n",
       "1      1.336459 -0.836289  0.217683  1.0  0.0  0.0  0.0  0.0  \n",
       "2     -0.532046  0.422200 -0.465315  0.0  0.0  0.0  0.0  1.0  \n",
       "3     -1.045566 -0.196453 -0.079661  0.0  1.0  0.0  0.0  0.0  \n",
       "4     -0.441437  0.269928 -0.357834  1.0  0.0  0.0  0.0  0.0  \n",
       "...         ...       ...       ...  ...  ...  ...  ...  ...  \n",
       "16507  0.554158 -0.428853  0.234352  0.0  1.0  0.0  0.0  0.0  \n",
       "16508 -0.948815  0.491503 -0.308114  0.0  1.0  0.0  0.0  0.0  \n",
       "16509 -0.316705 -0.521776  0.346934  0.0  1.0  0.0  0.0  0.0  \n",
       "16510  0.098121 -0.303407  0.024995  1.0  0.0  0.0  0.0  0.0  \n",
       "16511 -0.157799  0.101806 -0.228529  0.0  0.0  0.0  1.0  0.0  \n",
       "\n",
       "[16512 rows x 15 columns]"
      ]
     },
     "execution_count": 86,
     "metadata": {},
     "output_type": "execute_result"
    }
   ],
   "source": [
    "from sklearn.compose import ColumnTransformer\n",
    "\n",
    "numerical_attributes = list(housing_numerical)  # list(pd.df) returns the names of the df columns in a list\n",
    "categorical_attributes = [\"ocean_proximity\"]    # string (which is a categorical attribute) that needs to be converted into bool\n",
    "\n",
    "full_pipeline = ColumnTransformer([\n",
    "                    (\"num\", num_pipeline, numerical_attributes), \n",
    "                    (\"cat\", OneHotEncoder(), categorical_attributes)\n",
    "                ])\n",
    "\n",
    "housing_prepared = full_pipeline.fit_transform(housing)  # on the full train set: the full_pipeline condenses every operation\n",
    "\n",
    "pandas.DataFrame(housing_prepared)"
   ]
  },
  {
   "cell_type": "markdown",
   "id": "d3251e26",
   "metadata": {},
   "source": [
    "# Building models"
   ]
  },
  {
   "cell_type": "code",
   "execution_count": 58,
   "id": "fd7fb705",
   "metadata": {},
   "outputs": [],
   "source": [
    "from sklearn.metrics import mean_squared_error\n",
    "\n",
    "sample_data = housing.iloc[:5]  # data from \"original\" train set\n",
    "corresponding_labels = housing_labels.iloc[:5]\n",
    "\n",
    "sample_data_prepared = full_pipeline.transform(sample_data)  \n",
    "# (the same model used in housing to make housing_prepared\n",
    "# is being used in sample_data to make sample_data_prepared)"
   ]
  },
  {
   "cell_type": "markdown",
   "id": "602bf4d8",
   "metadata": {},
   "source": [
    "### Linear Regression"
   ]
  },
  {
   "cell_type": "code",
   "execution_count": 59,
   "id": "0a091fe7",
   "metadata": {},
   "outputs": [
    {
     "data": {
      "text/plain": [
       "LinearRegression()"
      ]
     },
     "execution_count": 59,
     "metadata": {},
     "output_type": "execute_result"
    }
   ],
   "source": [
    "from sklearn.linear_model import LinearRegression\n",
    "\n",
    "lin_reg = LinearRegression()\n",
    "lin_reg.fit(housing_prepared, housing_labels)"
   ]
  },
  {
   "cell_type": "code",
   "execution_count": 60,
   "id": "25c35bee",
   "metadata": {},
   "outputs": [
    {
     "name": "stdout",
     "output_type": "stream",
     "text": [
      "Prediction:    [210528.0, 317824.0, 210815.8, 59307.5, 189946.8]\n",
      "Actual labels: [286600.0, 340600.0, 196900.0, 46300.0, 254500.0]\n",
      "\n",
      "RMSE: 46552.454469164804\n"
     ]
    }
   ],
   "source": [
    "#-----evaluating-----#\n",
    "\n",
    "lin_predictions = lin_reg.predict(sample_data_prepared)\n",
    "lin_predictions_list = [float(\"{:.1f}\".format(i)) for i in lin_predictions] \n",
    "\n",
    "print(\"Prediction:   \", lin_predictions_list)\n",
    "print(\"Actual labels:\", list(corresponding_labels))\n",
    "\n",
    "lin_model_mse = mean_squared_error(corresponding_labels, lin_predictions)\n",
    "lin_model_rmse = np.sqrt(lin_model_mse)\n",
    "\n",
    "print(\"\\nRMSE:\", lin_model_rmse)"
   ]
  },
  {
   "cell_type": "markdown",
   "id": "81de4db3",
   "metadata": {},
   "source": [
    "#### (Problem with lin_reg model: underfitting, underscoring even in the train set)"
   ]
  },
  {
   "cell_type": "markdown",
   "id": "ed847cc8",
   "metadata": {},
   "source": [
    "### Decision Tree Regressor"
   ]
  },
  {
   "cell_type": "code",
   "execution_count": 57,
   "id": "f098dc5c",
   "metadata": {},
   "outputs": [
    {
     "data": {
      "text/plain": [
       "DecisionTreeRegressor()"
      ]
     },
     "execution_count": 57,
     "metadata": {},
     "output_type": "execute_result"
    }
   ],
   "source": [
    "from sklearn.tree import DecisionTreeRegressor\n",
    "\n",
    "tree_reg = DecisionTreeRegressor()\n",
    "tree_reg.fit(housing_prepared, housing_labels)"
   ]
  },
  {
   "cell_type": "code",
   "execution_count": 61,
   "id": "7fe6143b",
   "metadata": {},
   "outputs": [
    {
     "name": "stdout",
     "output_type": "stream",
     "text": [
      "Prediction:    [286600.0, 340600.0, 196900.0, 46300.0, 254500.0]\n",
      "Actual labels: [286600.0, 340600.0, 196900.0, 46300.0, 254500.0]\n",
      "\n",
      "RMSE: 0.0\n"
     ]
    }
   ],
   "source": [
    "#-----evaluating-----#\n",
    "\n",
    "tree_predictions = tree_reg.predict(sample_data_prepared)\n",
    "tree_predictions_list = [float(\"{:.1f}\".format(i)) for i in tree_predictions] \n",
    "\n",
    "print(\"Prediction:   \", tree_predictions_list)\n",
    "print(\"Actual labels:\", list(corresponding_labels))\n",
    "\n",
    "tree_model_mse = mean_squared_error(corresponding_labels, tree_predictions)\n",
    "tree_model_rmse = np.sqrt(tree_model_mse)\n",
    "\n",
    "print(\"\\nRMSE:\", tree_model_rmse)"
   ]
  },
  {
   "cell_type": "markdown",
   "id": "22db1c35",
   "metadata": {},
   "source": [
    "#### (Possible problem with tree_reg model: overfitting - it scored perfectly!!!)"
   ]
  },
  {
   "cell_type": "markdown",
   "id": "d14d2aa0",
   "metadata": {},
   "source": [
    "### Creating validation sets"
   ]
  },
  {
   "cell_type": "code",
   "execution_count": 74,
   "id": "aa352cb5",
   "metadata": {},
   "outputs": [
    {
     "name": "stdout",
     "output_type": "stream",
     "text": [
      "MRMSE: 70185.52553970915\n",
      "\n",
      "Stantdard deviation: 2268.4237744386455\n"
     ]
    }
   ],
   "source": [
    "from sklearn.model_selection import cross_val_score  # K-fold cross-validation: generates K validation sets\n",
    "\n",
    "scores = cross_val_score(tree_reg, housing_prepared, housing_labels, \n",
    "                         scoring = \"neg_mean_squared_error\", cv = 10) \n",
    "\n",
    "tree_rmse = np.sqrt(-scores)  # Scoring was done using a method that returns negative outputs\n",
    "\n",
    "print(\"MRMSE:\", tree_rmse.mean())  # mean of all of the K scores computed with the validation sets\n",
    "print(\"\\nStantdard deviation:\", tree_rmse.std())"
   ]
  },
  {
   "cell_type": "markdown",
   "id": "8eb654ad",
   "metadata": {},
   "source": [
    "#### Conclusion: Overfitting did happen. This model would perform even worse than the lin_reg one"
   ]
  },
  {
   "cell_type": "code",
   "execution_count": 75,
   "id": "f7a7b6d4",
   "metadata": {},
   "outputs": [
    {
     "name": "stdout",
     "output_type": "stream",
     "text": [
      "MRMSE: 68971.74228283842\n",
      "\n",
      "Stantdard deviation: 2629.3909215694766\n"
     ]
    }
   ],
   "source": [
    "#-----evaluating-lin_reg-with-cross-validation-----#\n",
    "\n",
    "scores = cross_val_score(lin_reg, housing_prepared, housing_labels, \n",
    "                         scoring = \"neg_mean_squared_error\", cv = 10) \n",
    "\n",
    "lin_rmse = np.sqrt(-scores)\n",
    "\n",
    "print(\"MRMSE:\", lin_rmse.mean())\n",
    "print(\"\\nStantdard deviation:\", lin_rmse.std())"
   ]
  },
  {
   "cell_type": "markdown",
   "id": "34d0db8a",
   "metadata": {},
   "source": [
    "### Random Forest Regressor"
   ]
  },
  {
   "cell_type": "code",
   "execution_count": 87,
   "id": "4172d8e0",
   "metadata": {},
   "outputs": [
    {
     "data": {
      "text/plain": [
       "RandomForestRegressor()"
      ]
     },
     "execution_count": 87,
     "metadata": {},
     "output_type": "execute_result"
    }
   ],
   "source": [
    "from sklearn.ensemble import RandomForestRegressor\n",
    "\n",
    "forest_reg = RandomForestRegressor()\n",
    "forest_reg.fit(housing_prepared, housing_labels)"
   ]
  },
  {
   "cell_type": "code",
   "execution_count": 88,
   "id": "e9f8eabd",
   "metadata": {},
   "outputs": [
    {
     "name": "stdout",
     "output_type": "stream",
     "text": [
      "MRMSE: 49735.387802768964\n",
      "\n",
      "Stantdard deviation: 1808.6269030321243\n"
     ]
    }
   ],
   "source": [
    "#-----evaluating-forest_reg-with-cross-validation-----#\n",
    "\n",
    "scores = cross_val_score(forest_reg, housing_prepared, housing_labels, \n",
    "                         scoring = \"neg_mean_squared_error\", cv = 10) \n",
    "\n",
    "forest_rmse = np.sqrt(-scores)\n",
    "\n",
    "print(\"MRMSE:\", forest_rmse.mean())\n",
    "print(\"\\nStantdard deviation:\", forest_rmse.std())"
   ]
  },
  {
   "cell_type": "markdown",
   "id": "4069df43",
   "metadata": {},
   "source": [
    "### Finetuning the best model (forest_reg)"
   ]
  },
  {
   "cell_type": "markdown",
   "id": "09dd4989",
   "metadata": {},
   "source": [
    "#### GRID SEARCHING (testing different hyperparameters)"
   ]
  },
  {
   "cell_type": "code",
   "execution_count": 92,
   "id": "379a5773",
   "metadata": {},
   "outputs": [
    {
     "data": {
      "text/plain": [
       "{'max_features': 10, 'n_estimators': 70}"
      ]
     },
     "execution_count": 92,
     "metadata": {},
     "output_type": "execute_result"
    }
   ],
   "source": [
    "from sklearn.model_selection import GridSearchCV \n",
    "\n",
    "param_grid = [{'n_estimators': [30, 50, 70], 'max_features': [4, 6, 8, 10]}, \n",
    "              {'bootstrap': [False], 'n_estimators': [3, 10], 'max_features': [2, 3, 4]}] \n",
    "\n",
    "grid_search = GridSearchCV(forest_reg, param_grid, cv=5,\n",
    "                           scoring='neg_mean_squared_error', return_train_score=True) \n",
    "\n",
    "grid_search.fit(housing_prepared, housing_labels)\n",
    "grid_search.best_params_"
   ]
  },
  {
   "cell_type": "code",
   "execution_count": 111,
   "id": "fffc831f",
   "metadata": {},
   "outputs": [
    {
     "name": "stdout",
     "output_type": "stream",
     "text": [
      "MRMSE: 49593.09761092203\n",
      "\n",
      "Stantdard deviation: 1731.6398814400366\n"
     ]
    }
   ],
   "source": [
    "forest_reg_v2 = RandomForestRegressor(max_features = 10, n_estimators = 70)\n",
    "forest_reg_v2.fit(housing_prepared, housing_labels)\n",
    "\n",
    "#-----evaluating-forest_reg_v2-with-cross-validation-----#\n",
    "\n",
    "scores = cross_val_score(forest_reg_v2, housing_prepared, housing_labels, \n",
    "                         scoring = \"neg_mean_squared_error\", cv = 10) \n",
    "\n",
    "forest_v2_rmse = np.sqrt(-scores)\n",
    "\n",
    "print(\"MRMSE:\", forest_v2_rmse.mean())\n",
    "print(\"\\nStantdard deviation:\", forest_v2_rmse.std())"
   ]
  },
  {
   "cell_type": "markdown",
   "id": "d0fb37a8",
   "metadata": {},
   "source": [
    "#### CHECKING FOR USELESS PARAMETERS"
   ]
  },
  {
   "cell_type": "code",
   "execution_count": 94,
   "id": "bc263be7",
   "metadata": {},
   "outputs": [
    {
     "data": {
      "text/plain": [
       "[(0.4126951757352686, 'median_income'),\n",
       " (0.16002964547784523, 'INLAND'),\n",
       " (0.09629097614907926, 'longitude'),\n",
       " (0.08609191760326161, 'latitude'),\n",
       " (0.055173634834824736, 'bedrooms_per_room'),\n",
       " (0.04836326122902786, 'housing_median_age'),\n",
       " (0.04063377006183105, 'rooms_per_hhold'),\n",
       " (0.027606560774273276, 'population'),\n",
       " (0.0203452595363967, 'total_rooms'),\n",
       " (0.020036690619308847, 'total_bedrooms'),\n",
       " (0.018467369597553036, 'households'),\n",
       " (0.006944368596712405, '<1H OCEAN'),\n",
       " (0.005492028468237938, 'NEAR OCEAN'),\n",
       " (0.0018061366968575236, 'NEAR BAY'),\n",
       " (2.320461952190809e-05, 'ISLAND')]"
      ]
     },
     "execution_count": 94,
     "metadata": {},
     "output_type": "execute_result"
    }
   ],
   "source": [
    "feature_importances = grid_search.best_estimator_.feature_importances_\n",
    "\n",
    "extra_attribs = [\"bedrooms_per_room\", \"rooms_per_hhold\"]\n",
    "\n",
    "cat_encoder = full_pipeline.named_transformers_[\"cat\"]\n",
    "cat_one_hot_attribs = list(cat_encoder.categories_[ 0])\n",
    "\n",
    "attributes = numerical_attributes + extra_attribs + cat_one_hot_attribs\n",
    "\n",
    "sorted(zip(feature_importances, attributes), reverse = True)"
   ]
  },
  {
   "cell_type": "markdown",
   "id": "cee548b2",
   "metadata": {},
   "source": [
    "#### (From total_rooms and beyond, it seems like the parameters are useless)"
   ]
  },
  {
   "cell_type": "markdown",
   "id": "94213f6d",
   "metadata": {},
   "source": [
    "### Creating a new train set (for comparison purposes)"
   ]
  },
  {
   "cell_type": "code",
   "execution_count": 108,
   "id": "58b6db19",
   "metadata": {},
   "outputs": [
    {
     "data": {
      "text/plain": [
       "array([[-1.15604281,  0.77194962,  0.74333089, ...,  0.15531753,\n",
       "        -0.31205452,  0.        ],\n",
       "       [-1.17602483,  0.6596948 , -1.1653172 , ..., -0.83628902,\n",
       "         0.21768338,  0.        ],\n",
       "       [ 1.18684903, -1.34218285,  0.18664186, ...,  0.4222004 ,\n",
       "        -0.46531516,  0.        ],\n",
       "       ...,\n",
       "       [ 1.58648943, -0.72478134, -1.56295222, ..., -0.52177644,\n",
       "         0.3469342 ,  1.        ],\n",
       "       [ 0.78221312, -0.85106801,  0.18664186, ..., -0.30340741,\n",
       "         0.02499488,  0.        ],\n",
       "       [-1.43579109,  0.99645926,  1.85670895, ...,  0.10180567,\n",
       "        -0.22852947,  0.        ]])"
      ]
     },
     "execution_count": 108,
     "metadata": {},
     "output_type": "execute_result"
    }
   ],
   "source": [
    "housing_prepared_df = pandas.DataFrame(housing_prepared, columns=list(housing_bool))\n",
    "\n",
    "columns_to_be_dropped = [\"total_rooms\", \"total_bedrooms\", \"households\", \"<1H OCEAN\", \"NEAR OCEAN\", \"NEAR BAY\", \"ISLAND\"]\n",
    "housing_dropped_df = housing_prepared_df.drop(columns_to_be_dropped, axis=1)\n",
    "\n",
    "housing_dropped = housing_dropped_df.to_numpy()\n",
    "housing_dropped"
   ]
  },
  {
   "cell_type": "code",
   "execution_count": 110,
   "id": "ab6a02ee",
   "metadata": {},
   "outputs": [
    {
     "data": {
      "text/plain": [
       "RandomForestRegressor()"
      ]
     },
     "execution_count": 110,
     "metadata": {},
     "output_type": "execute_result"
    }
   ],
   "source": [
    "forest_reg_dropped = RandomForestRegressor()\n",
    "forest_reg_dropped.fit(housing_dropped, housing_labels)"
   ]
  },
  {
   "cell_type": "code",
   "execution_count": 112,
   "id": "f1b68071",
   "metadata": {},
   "outputs": [
    {
     "name": "stdout",
     "output_type": "stream",
     "text": [
      "MRMSE: 49664.50396930748\n",
      "\n",
      "Stantdard deviation: 1890.9224177074627\n"
     ]
    }
   ],
   "source": [
    "#-----evaluating-forest_reg_dropped-with-cross-validation-----#\n",
    "\n",
    "scores = cross_val_score(forest_reg_dropped, housing_dropped, housing_labels, \n",
    "                         scoring = \"neg_mean_squared_error\", cv = 10) \n",
    "\n",
    "forest_dropped_rmse = np.sqrt(-scores)\n",
    "\n",
    "print(\"MRMSE:\", forest_dropped_rmse.mean())\n",
    "print(\"\\nStantdard deviation:\", forest_dropped_rmse.std())"
   ]
  },
  {
   "cell_type": "code",
   "execution_count": 116,
   "id": "3643ad74",
   "metadata": {},
   "outputs": [
    {
     "data": {
      "text/plain": [
       "{'max_features': 6, 'n_estimators': 70}"
      ]
     },
     "execution_count": 116,
     "metadata": {},
     "output_type": "execute_result"
    }
   ],
   "source": [
    "#-----hyperparameter-tweaking-----#\n",
    "\n",
    "param_grid = [{'n_estimators': [30, 50, 70], 'max_features': [2, 4, 6, 8]}, \n",
    "              {'bootstrap': [False], 'n_estimators': [3, 10], 'max_features': [2, 3, 4]}] \n",
    "\n",
    "grid_search = GridSearchCV(forest_reg_dropped, param_grid, cv=5,\n",
    "                           scoring='neg_mean_squared_error', return_train_score=True) \n",
    "\n",
    "grid_search.fit(housing_dropped, housing_labels)\n",
    "grid_search.best_params_"
   ]
  },
  {
   "cell_type": "code",
   "execution_count": 117,
   "id": "be8e9487",
   "metadata": {},
   "outputs": [
    {
     "name": "stdout",
     "output_type": "stream",
     "text": [
      "MRMSE: 49565.558685385266\n",
      "\n",
      "Stantdard deviation: 1971.1107097041747\n"
     ]
    }
   ],
   "source": [
    "forest_reg_dropped_v2 = RandomForestRegressor(max_features = 6, n_estimators = 70)\n",
    "forest_reg_dropped_v2.fit(housing_dropped, housing_labels)\n",
    "\n",
    "#-----evaluating-forest_reg_dropped-with-cross-validation-----#\n",
    "\n",
    "scores = cross_val_score(forest_reg_dropped_v2, housing_dropped, housing_labels, \n",
    "                         scoring = \"neg_mean_squared_error\", cv = 10) \n",
    "\n",
    "forest_dropped_v2_rmse = np.sqrt(-scores)\n",
    "\n",
    "print(\"MRMSE:\", forest_dropped_v2_rmse.mean())\n",
    "print(\"\\nStantdard deviation:\", forest_dropped_v2_rmse.std())"
   ]
  },
  {
   "cell_type": "markdown",
   "id": "233ece78",
   "metadata": {},
   "source": [
    "# Comparing the different models"
   ]
  },
  {
   "cell_type": "code",
   "execution_count": 119,
   "id": "4969412c",
   "metadata": {},
   "outputs": [
    {
     "name": "stdout",
     "output_type": "stream",
     "text": [
      "Linear Regression:       MRMSE = 68971.7, std dev = 2629.4\n",
      "Decision Tree Regressor: MRMSE = 70185.5, std dev = 2268.4\n",
      "Random Forest Regressor: MRMSE = 49735.4, std dev = 1808.6\n",
      "RFR tweaked:             MRMSE = 49593.1, std dev = 1731.6\n",
      "RFR dropped:             MRMSE = 49664.5, std dev = 1890.9\n",
      "RFR dropped tweaked:     MRMSE = 49565.6, std dev = 1971.1\n"
     ]
    }
   ],
   "source": [
    "print(\"Linear Regression:       MRMSE = %.1f, std dev = %.1f\" % (lin_rmse.mean(), lin_rmse.std()))\n",
    "print(\"Decision Tree Regressor: MRMSE = %.1f, std dev = %.1f\" % (tree_rmse.mean(), tree_rmse.std()))\n",
    "print(\"Random Forest Regressor: MRMSE = %.1f, std dev = %.1f\" % (forest_rmse.mean(), forest_rmse.std()))\n",
    "print(\"RFR tweaked:             MRMSE = %.1f, std dev = %.1f\" % (forest_v2_rmse.mean(), forest_v2_rmse.std()))\n",
    "print(\"RFR dropped:             MRMSE = %.1f, std dev = %.1f\" % (forest_dropped_rmse.mean(), forest_dropped_rmse.std()))\n",
    "print(\"RFR dropped tweaked:     MRMSE = %.1f, std dev = %.1f\" % (forest_dropped_v2_rmse.mean(), forest_dropped_v2_rmse.std()))"
   ]
  },
  {
   "cell_type": "markdown",
   "id": "aed4eb15",
   "metadata": {},
   "source": [
    "#### Conclusion: RFR tweaked wins! (Final results are barely lower that RFR dropped tweaked, but they are much more consistent)"
   ]
  },
  {
   "cell_type": "markdown",
   "id": "65c0bb9b",
   "metadata": {},
   "source": [
    "# Testing on the test set"
   ]
  },
  {
   "cell_type": "code",
   "execution_count": 120,
   "id": "39a55af6",
   "metadata": {},
   "outputs": [
    {
     "data": {
      "text/plain": [
       "RandomForestRegressor(max_features=10, n_estimators=70)"
      ]
     },
     "execution_count": 120,
     "metadata": {},
     "output_type": "execute_result"
    }
   ],
   "source": [
    "final_model = RandomForestRegressor(max_features = 10, n_estimators = 70)\n",
    "final_model.fit(housing_prepared, housing_labels)"
   ]
  },
  {
   "cell_type": "code",
   "execution_count": 130,
   "id": "d3f2ad36",
   "metadata": {},
   "outputs": [],
   "source": [
    "X_test = strat_test_set.drop([\"median_house_value\", \"index\"], axis=1)\n",
    "y_test = strat_test_set[\"median_house_value\"].copy()"
   ]
  },
  {
   "cell_type": "code",
   "execution_count": 132,
   "id": "c47f482e",
   "metadata": {},
   "outputs": [
    {
     "data": {
      "text/plain": [
       "47863.91479766715"
      ]
     },
     "execution_count": 132,
     "metadata": {},
     "output_type": "execute_result"
    }
   ],
   "source": [
    "X_test_prepared = full_pipeline.transform(X_test)\n",
    "\n",
    "final_predictions = final_model.predict(X_test_prepared)\n",
    "\n",
    "final_mse = mean_squared_error(y_test, final_predictions)\n",
    "final_rmse = np.sqrt(final_mse)\n",
    "\n",
    "final_rmse"
   ]
  },
  {
   "cell_type": "code",
   "execution_count": null,
   "id": "28411ae8",
   "metadata": {},
   "outputs": [],
   "source": []
  }
 ],
 "metadata": {
  "kernelspec": {
   "display_name": "Python 3",
   "language": "python",
   "name": "python3"
  },
  "language_info": {
   "codemirror_mode": {
    "name": "ipython",
    "version": 3
   },
   "file_extension": ".py",
   "mimetype": "text/x-python",
   "name": "python",
   "nbconvert_exporter": "python",
   "pygments_lexer": "ipython3",
   "version": "3.9.7"
  }
 },
 "nbformat": 4,
 "nbformat_minor": 5
}
