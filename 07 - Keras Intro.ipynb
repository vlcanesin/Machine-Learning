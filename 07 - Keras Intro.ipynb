{
 "cells": [
  {
   "cell_type": "code",
   "execution_count": 39,
   "id": "354608b2",
   "metadata": {},
   "outputs": [],
   "source": [
    "from tensorflow import keras\n",
    "import pandas"
   ]
  },
  {
   "cell_type": "code",
   "execution_count": 94,
   "id": "335e5af5",
   "metadata": {},
   "outputs": [],
   "source": [
    "data = keras.datasets.mnist.load_data()"
   ]
  },
  {
   "cell_type": "code",
   "execution_count": 40,
   "id": "9458cb4c",
   "metadata": {},
   "outputs": [],
   "source": [
    "X_train, X_val, X_test = data[0][0][:50000], data[0][0][50000:], data[1][0]\n",
    "y_train, y_val, y_test = data[0][1][:50000], data[0][1][50000:], data[1][1]"
   ]
  },
  {
   "cell_type": "code",
   "execution_count": 41,
   "id": "762631e7",
   "metadata": {},
   "outputs": [
    {
     "name": "stdout",
     "output_type": "stream",
     "text": [
      "(50000, 28, 28) (10000, 28, 28) (10000, 28, 28)\n",
      "(50000,) (10000,) (10000,)\n"
     ]
    }
   ],
   "source": [
    "print(X_train.shape, X_val.shape, X_test.shape)\n",
    "print(y_train.shape, y_val.shape, y_test.shape)"
   ]
  },
  {
   "cell_type": "code",
   "execution_count": 96,
   "id": "26d917b7",
   "metadata": {},
   "outputs": [],
   "source": [
    "from sklearn.preprocessing import StandardScaler\n",
    "\n",
    "scaler = StandardScaler()\n",
    "X_train = scaler.fit_transform(X_train.reshape(-1, 28*28))\n",
    "X_val = scaler.transform(X_val.reshape(-1, 28*28))\n",
    "X_test = scaler.transform(X_test.reshape(-1, 28*28))"
   ]
  },
  {
   "cell_type": "code",
   "execution_count": 136,
   "id": "b5748b98",
   "metadata": {},
   "outputs": [],
   "source": [
    "model = keras.models.Sequential()\n",
    "\n",
    "model.add(keras.layers.Flatten(input_shape=[28*28]))\n",
    "model.add(keras.layers.Dense(300, activation=keras.activations.relu))    # Neural Netwoks!\n",
    "model.add(keras.layers.Dense(100, activation=keras.activations.relu))\n",
    "model.add(keras.layers.Dense(10, activation='softmax'))"
   ]
  },
  {
   "cell_type": "code",
   "execution_count": 137,
   "id": "7abe2c17",
   "metadata": {},
   "outputs": [],
   "source": [
    "model.compile(\n",
    "    loss='sparse_categorical_crossentropy',              # sparse (expects integer) log loss (used in logistic regression)\n",
    "    optimizer=keras.optimizers.SGD(learning_rate=0.03),   # stochastic gradient descent\n",
    "    metrics=['accuracy']                                 # evaluation metric using in training\n",
    ")"
   ]
  },
  {
   "cell_type": "code",
   "execution_count": 138,
   "id": "c39ec42a",
   "metadata": {},
   "outputs": [
    {
     "name": "stdout",
     "output_type": "stream",
     "text": [
      "Model: \"sequential_25\"\n",
      "_________________________________________________________________\n",
      "Layer (type)                 Output Shape              Param #   \n",
      "=================================================================\n",
      "flatten_24 (Flatten)         (None, 784)               0         \n",
      "_________________________________________________________________\n",
      "dense_64 (Dense)             (None, 300)               235500    \n",
      "_________________________________________________________________\n",
      "dense_65 (Dense)             (None, 100)               30100     \n",
      "_________________________________________________________________\n",
      "dense_66 (Dense)             (None, 10)                1010      \n",
      "=================================================================\n",
      "Total params: 266,610\n",
      "Trainable params: 266,610\n",
      "Non-trainable params: 0\n",
      "_________________________________________________________________\n"
     ]
    }
   ],
   "source": [
    "model.summary()"
   ]
  },
  {
   "cell_type": "code",
   "execution_count": 139,
   "id": "ed6e8ec2",
   "metadata": {},
   "outputs": [
    {
     "name": "stdout",
     "output_type": "stream",
     "text": [
      "Epoch 1/10\n",
      "1563/1563 [==============================] - 3s 2ms/step - loss: 0.3217 - accuracy: 0.9126 - val_loss: 0.2429 - val_accuracy: 0.9511\n",
      "Epoch 2/10\n",
      "1563/1563 [==============================] - 3s 2ms/step - loss: 0.1345 - accuracy: 0.9618 - val_loss: 0.1969 - val_accuracy: 0.9624\n",
      "Epoch 3/10\n",
      "1563/1563 [==============================] - 2s 2ms/step - loss: 0.0864 - accuracy: 0.9750 - val_loss: 0.1964 - val_accuracy: 0.9658\n",
      "Epoch 4/10\n",
      "1563/1563 [==============================] - 3s 2ms/step - loss: 0.0626 - accuracy: 0.9826 - val_loss: 0.1859 - val_accuracy: 0.9690\n",
      "Epoch 5/10\n",
      "1563/1563 [==============================] - 3s 2ms/step - loss: 0.0435 - accuracy: 0.9886 - val_loss: 0.1898 - val_accuracy: 0.9704\n",
      "Epoch 6/10\n",
      "1563/1563 [==============================] - 3s 2ms/step - loss: 0.0342 - accuracy: 0.9921 - val_loss: 0.1874 - val_accuracy: 0.9720\n",
      "Epoch 7/10\n",
      "1563/1563 [==============================] - 3s 2ms/step - loss: 0.0248 - accuracy: 0.9950 - val_loss: 0.1952 - val_accuracy: 0.9725\n",
      "Epoch 8/10\n",
      "1563/1563 [==============================] - 3s 2ms/step - loss: 0.0181 - accuracy: 0.9967 - val_loss: 0.1958 - val_accuracy: 0.9736\n",
      "Epoch 9/10\n",
      "1563/1563 [==============================] - 3s 2ms/step - loss: 0.0146 - accuracy: 0.9980 - val_loss: 0.2003 - val_accuracy: 0.9745\n",
      "Epoch 10/10\n",
      "1563/1563 [==============================] - 3s 2ms/step - loss: 0.0096 - accuracy: 0.9989 - val_loss: 0.2079 - val_accuracy: 0.9741\n"
     ]
    }
   ],
   "source": [
    "history = model.fit(X_train, y_train, epochs=10, validation_data=(X_val, y_val))  # the model from epoch 4 is probably the best"
   ]
  },
  {
   "cell_type": "markdown",
   "id": "67d1f13b",
   "metadata": {},
   "source": [
    "# Hyperparameter tweaking"
   ]
  },
  {
   "cell_type": "code",
   "execution_count": 158,
   "id": "e87cb3b4",
   "metadata": {
    "scrolled": false
   },
   "outputs": [
    {
     "name": "stdout",
     "output_type": "stream",
     "text": [
      "1563/1563 [==============================] - 3s 2ms/step - loss: 2.4474 - accuracy: 0.1199\n",
      "1563/1563 [==============================] - 3s 2ms/step - loss: 2.3554 - accuracy: 0.1407\n",
      "1563/1563 [==============================] - 3s 2ms/step - loss: 2.2490 - accuracy: 0.1808\n",
      "1563/1563 [==============================] - 3s 2ms/step - loss: 2.1264 - accuracy: 0.2508\n",
      "1563/1563 [==============================] - 3s 2ms/step - loss: 1.9858 - accuracy: 0.3538\n",
      "1563/1563 [==============================] - 3s 2ms/step - loss: 1.8256 - accuracy: 0.4646\n",
      "1563/1563 [==============================] - 3s 2ms/step - loss: 1.6465 - accuracy: 0.5556\n",
      "1563/1563 [==============================] - 3s 2ms/step - loss: 1.4531 - accuracy: 0.6234\n",
      "1563/1563 [==============================] - 3s 2ms/step - loss: 1.2547 - accuracy: 0.6799\n",
      "1563/1563 [==============================] - 3s 2ms/step - loss: 1.0629 - accuracy: 0.7337\n",
      "1563/1563 [==============================] - 3s 2ms/step - loss: 0.8886 - accuracy: 0.7782\n",
      "1563/1563 [==============================] - 3s 2ms/step - loss: 0.7396 - accuracy: 0.8139\n",
      "1563/1563 [==============================] - 3s 2ms/step - loss: 0.6181 - accuracy: 0.8408\n",
      "1563/1563 [==============================] - 3s 2ms/step - loss: 0.5213 - accuracy: 0.8620\n",
      "1563/1563 [==============================] - 3s 2ms/step - loss: 0.4449 - accuracy: 0.8793\n",
      "1563/1563 [==============================] - 3s 2ms/step - loss: 0.3836 - accuracy: 0.8943\n",
      "1563/1563 [==============================] - 4s 2ms/step - loss: 0.3338 - accuracy: 0.9055\n",
      "1563/1563 [==============================] - 3s 2ms/step - loss: 0.2918 - accuracy: 0.9158\n",
      "1563/1563 [==============================] - 3s 2ms/step - loss: 0.2556 - accuracy: 0.9253\n",
      "1563/1563 [==============================] - 3s 2ms/step - loss: 0.2240 - accuracy: 0.9337\n",
      "1563/1563 [==============================] - 3s 2ms/step - loss: 0.1957 - accuracy: 0.9422\n",
      "1563/1563 [==============================] - 3s 2ms/step - loss: 0.1704 - accuracy: 0.9494\n",
      "1563/1563 [==============================] - 3s 2ms/step - loss: 0.1473 - accuracy: 0.9559\n",
      "1563/1563 [==============================] - 3s 2ms/step - loss: 0.1265 - accuracy: 0.9625\n",
      "1563/1563 [==============================] - 9s 2ms/step - loss: 0.1076 - accuracy: 0.9688\n",
      "1563/1563 [==============================] - 3s 2ms/step - loss: 0.0907 - accuracy: 0.9746\n",
      "1563/1563 [==============================] - 3s 2ms/step - loss: 0.0751 - accuracy: 0.9788\n",
      "1563/1563 [==============================] - 3s 2ms/step - loss: 0.0674 - accuracy: 0.9818\n",
      "1563/1563 [==============================] - 3s 2ms/step - loss: 0.0747 - accuracy: 0.9823\n",
      "1563/1563 [==============================] - 3s 2ms/step - loss: 0.0744 - accuracy: 0.9834\n",
      "1563/1563 [==============================] - 3s 2ms/step - loss: 0.0685 - accuracy: 0.9836\n",
      "1563/1563 [==============================] - 3s 2ms/step - loss: 0.0693 - accuracy: 0.9822\n",
      "1563/1563 [==============================] - 3s 2ms/step - loss: 0.0779 - accuracy: 0.9805\n",
      "1563/1563 [==============================] - 3s 2ms/step - loss: 0.0904 - accuracy: 0.9754\n",
      "1563/1563 [==============================] - 3s 2ms/step - loss: 0.1087 - accuracy: 0.9725\n",
      "1563/1563 [==============================] - 3s 2ms/step - loss: 0.1844 - accuracy: 0.9570\n",
      "1563/1563 [==============================] - 3s 2ms/step - loss: 1019050.0000 - accuracy: 0.1952\n",
      "1563/1563 [==============================] - 3s 2ms/step - loss: 2.3037 - accuracy: 0.1064\n",
      "1563/1563 [==============================] - 3s 2ms/step - loss: 2.3044 - accuracy: 0.1082\n",
      "1563/1563 [==============================] - 3s 2ms/step - loss: 2.3055 - accuracy: 0.1059\n",
      "1563/1563 [==============================] - 3s 2ms/step - loss: 2.3072 - accuracy: 0.1057\n",
      "1563/1563 [==============================] - 3s 2ms/step - loss: 2.3093 - accuracy: 0.1038\n",
      "1563/1563 [==============================] - 3s 2ms/step - loss: 2.3125 - accuracy: 0.1052\n",
      "1563/1563 [==============================] - 3s 2ms/step - loss: 2.3165 - accuracy: 0.1019\n",
      "1563/1563 [==============================] - 3s 2ms/step - loss: 2.3214 - accuracy: 0.1024\n",
      "1563/1563 [==============================] - 3s 2ms/step - loss: 2.3297 - accuracy: 0.1016\n",
      "1563/1563 [==============================] - 3s 2ms/step - loss: 2.3402 - accuracy: 0.1013\n",
      "1563/1563 [==============================] - 3s 2ms/step - loss: 2.3618 - accuracy: 0.0999\n",
      "1563/1563 [==============================] - 3s 2ms/step - loss: 2.3970 - accuracy: 0.0990\n",
      "1563/1563 [==============================] - 3s 2ms/step - loss: 2.4745 - accuracy: 0.1007\n"
     ]
    }
   ],
   "source": [
    "# LEARNING RATE (increase it until the loss spikes - from 10^-5 to 10)\n",
    "\n",
    "import numpy as np\n",
    "\n",
    "lr = 10**(-5)\n",
    "CONST = 10**(6/50)  # exp_base10(log_base10(10^6) / 50)\n",
    "losses = []\n",
    "\n",
    "model = keras.models.Sequential()\n",
    "\n",
    "model.add(keras.layers.Flatten(input_shape=[28*28]))\n",
    "model.add(keras.layers.Dense(300, activation=keras.activations.relu))\n",
    "model.add(keras.layers.Dense(100, activation=keras.activations.relu))\n",
    "model.add(keras.layers.Dense(10, activation='softmax'))\n",
    "\n",
    "for i in range(50):\n",
    "    lr = lr * CONST\n",
    "    \n",
    "    model.compile(\n",
    "        loss='sparse_categorical_crossentropy',             \n",
    "        optimizer=keras.optimizers.SGD(learning_rate=lr),   \n",
    "        metrics=['accuracy']                                 \n",
    "    )\n",
    "    \n",
    "    history = model.fit(X_train, y_train, epochs=1)\n",
    "    losses.append(history.history['loss'][0])"
   ]
  },
  {
   "cell_type": "code",
   "execution_count": 159,
   "id": "4774cc75",
   "metadata": {},
   "outputs": [
    {
     "data": {
      "image/png": "[encoded data removed]",
      "text/plain": [
       "<Figure size 432x288 with 1 Axes>"
      ]
     },
     "metadata": {
      "needs_background": "light"
     },
     "output_type": "display_data"
    }
   ],
   "source": [
    "import matplotlib.pyplot as plt\n",
    "\n",
    "plt.plot([10**(-5) * (CONST**i) for i in range(50)], np.nan_to_num(losses, nan=10))\n",
    "plt.xscale('log')\n",
    "\n",
    "plt.show()   # shoots up at about 10^(-0.9). So the optimal value is about 10^(-0.9) / 10 = 0.0125"
   ]
  },
  {
   "cell_type": "markdown",
   "id": "b0d76740",
   "metadata": {},
   "source": [
    "# Early stopping (with checkpoints)"
   ]
  },
  {
   "cell_type": "code",
   "execution_count": 161,
   "id": "7e17e840",
   "metadata": {
    "scrolled": true
   },
   "outputs": [
    {
     "name": "stdout",
     "output_type": "stream",
     "text": [
      "Epoch 1/1000\n",
      "1563/1563 [==============================] - 3s 2ms/step - loss: 0.4042 - accuracy: 0.8889 - val_loss: 0.2241 - val_accuracy: 0.9407\n",
      "Epoch 2/1000\n",
      "1563/1563 [==============================] - 3s 2ms/step - loss: 0.1725 - accuracy: 0.9495 - val_loss: 0.2111 - val_accuracy: 0.9542\n",
      "Epoch 3/1000\n",
      "1563/1563 [==============================] - 3s 2ms/step - loss: 0.1255 - accuracy: 0.9638 - val_loss: 0.1885 - val_accuracy: 0.9615\n",
      "Epoch 4/1000\n",
      "1563/1563 [==============================] - 3s 2ms/step - loss: 0.0976 - accuracy: 0.9721 - val_loss: 0.1865 - val_accuracy: 0.9652\n",
      "Epoch 5/1000\n",
      "1563/1563 [==============================] - 3s 2ms/step - loss: 0.0772 - accuracy: 0.9778 - val_loss: 0.1841 - val_accuracy: 0.9653\n",
      "Epoch 6/1000\n",
      "1563/1563 [==============================] - 3s 2ms/step - loss: 0.0637 - accuracy: 0.9824 - val_loss: 0.1873 - val_accuracy: 0.9691\n",
      "Epoch 7/1000\n",
      "1563/1563 [==============================] - 3s 2ms/step - loss: 0.0531 - accuracy: 0.9859 - val_loss: 0.1939 - val_accuracy: 0.9688\n",
      "Epoch 8/1000\n",
      "1563/1563 [==============================] - 3s 2ms/step - loss: 0.0456 - accuracy: 0.9887 - val_loss: 0.1953 - val_accuracy: 0.9705\n",
      "Epoch 9/1000\n",
      "1563/1563 [==============================] - 3s 2ms/step - loss: 0.0374 - accuracy: 0.9910 - val_loss: 0.2004 - val_accuracy: 0.9701\n",
      "Epoch 10/1000\n",
      "1563/1563 [==============================] - 3s 2ms/step - loss: 0.0327 - accuracy: 0.9930 - val_loss: 0.2079 - val_accuracy: 0.9699\n",
      "Epoch 11/1000\n",
      "1563/1563 [==============================] - 3s 2ms/step - loss: 0.0280 - accuracy: 0.9943 - val_loss: 0.2126 - val_accuracy: 0.9703\n",
      "Epoch 12/1000\n",
      "1563/1563 [==============================] - 3s 2ms/step - loss: 0.0242 - accuracy: 0.9952 - val_loss: 0.2151 - val_accuracy: 0.9710\n",
      "Epoch 13/1000\n",
      "1563/1563 [==============================] - 3s 2ms/step - loss: 0.0213 - accuracy: 0.9966 - val_loss: 0.2182 - val_accuracy: 0.9722\n",
      "Epoch 14/1000\n",
      "1563/1563 [==============================] - 3s 2ms/step - loss: 0.0200 - accuracy: 0.9970 - val_loss: 0.2205 - val_accuracy: 0.9718\n",
      "Epoch 15/1000\n",
      "1563/1563 [==============================] - 3s 2ms/step - loss: 0.0159 - accuracy: 0.9978 - val_loss: 0.2286 - val_accuracy: 0.9705\n"
     ]
    }
   ],
   "source": [
    "# I said that the 4th generation from before generated the best model because I checked the validation loss manually. But we \n",
    "# can tell keras to do that automatically with early stopping.\n",
    "\n",
    "checkpoints = keras.callbacks.ModelCheckpoint('keras_model.h5', save_best_only = True)\n",
    "# saves the best model in an external file in case something bad happens\n",
    "earlyStop_callback = keras.callbacks.EarlyStopping(patience = 10, restore_best_weights = True)  \n",
    "# stops training if the validation error doesn't decrease for 10 consecutive rounds. Saves best model\n",
    "\n",
    "model = keras.models.Sequential()\n",
    "\n",
    "model.add(keras.layers.Flatten(input_shape=[28*28]))\n",
    "model.add(keras.layers.Dense(300, activation=keras.activations.relu))\n",
    "model.add(keras.layers.Dense(100, activation=keras.activations.relu))\n",
    "model.add(keras.layers.Dense(10, activation='softmax'))\n",
    "\n",
    "model.compile(\n",
    "        loss='sparse_categorical_crossentropy',             \n",
    "        optimizer=keras.optimizers.SGD(learning_rate=0.0125),  # optimal learning rate \n",
    "        metrics=['accuracy']                                 \n",
    ")\n",
    "\n",
    "history = model.fit(X_train, y_train, epochs = 1000,  # the number of epochs can be high because of early stopping\n",
    "                    validation_data = (X_val, y_val), callbacks = [checkpoints, earlyStop_callback])"
   ]
  },
  {
   "cell_type": "code",
   "execution_count": 173,
   "id": "f889578d",
   "metadata": {},
   "outputs": [
    {
     "data": {
      "image/png": "[encoded data removed]",
      "text/plain": [
       "<Figure size 720x360 with 1 Axes>"
      ]
     },
     "metadata": {
      "needs_background": "light"
     },
     "output_type": "display_data"
    }
   ],
   "source": [
    "hist = pandas.DataFrame(history.history)\n",
    "\n",
    "hist.plot(figsize=(10,5))  # the val_loss and val_accuracy started to diverge form epoch 4-6\n",
    "plt.show()"
   ]
  },
  {
   "cell_type": "markdown",
   "id": "dd5dac64",
   "metadata": {},
   "source": [
    "# Testing"
   ]
  },
  {
   "cell_type": "code",
   "execution_count": 190,
   "id": "ca178102",
   "metadata": {},
   "outputs": [
    {
     "name": "stdout",
     "output_type": "stream",
     "text": [
      "Accuracy (test set): 0.9672\n"
     ]
    }
   ],
   "source": [
    "print(\"Accuracy (test set):\", np.mean(y_test == np.argmax(model.predict(X_test), axis=1)))  # 96.72! Not bad"
   ]
  },
  {
   "cell_type": "code",
   "execution_count": 193,
   "id": "286a44df",
   "metadata": {},
   "outputs": [
    {
     "name": "stdout",
     "output_type": "stream",
     "text": [
      "Accuracy (test set): 0.9703\n"
     ]
    }
   ],
   "source": [
    "from sklearn.ensemble import ExtraTreesClassifier\n",
    "\n",
    "clf = ExtraTreesClassifier(random_state = 42)\n",
    "clf.fit(X_train, y_train)\n",
    "\n",
    "print(\"Accuracy (test set):\", np.mean(y_test == clf.predict(X_test)))  # still worse than the extra random forest though..."
   ]
  },
  {
   "cell_type": "code",
   "execution_count": null,
   "id": "3802d587",
   "metadata": {},
   "outputs": [],
   "source": []
  }
 ],
 "metadata": {
  "kernelspec": {
   "display_name": "Python 3",
   "language": "python",
   "name": "python3"
  },
  "language_info": {
   "codemirror_mode": {
    "name": "ipython",
    "version": 3
   },
   "file_extension": ".py",
   "mimetype": "text/x-python",
   "name": "python",
   "nbconvert_exporter": "python",
   "pygments_lexer": "ipython3",
   "version": "3.9.7"
  }
 },
 "nbformat": 4,
 "nbformat_minor": 5
}
