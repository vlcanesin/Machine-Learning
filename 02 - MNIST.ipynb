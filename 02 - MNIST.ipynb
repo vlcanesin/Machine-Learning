{
 "cells": [
  {
   "cell_type": "markdown",
   "id": "55ad06f9",
   "metadata": {},
   "source": [
    "# Getting the data ready"
   ]
  },
  {
   "cell_type": "code",
   "execution_count": 1,
   "id": "891fc5b3",
   "metadata": {},
   "outputs": [
    {
     "name": "stdout",
     "output_type": "stream",
     "text": [
      "dict_keys(['data', 'target', 'frame', 'categories', 'feature_names', 'target_names', 'DESCR', 'details', 'url'])\n"
     ]
    }
   ],
   "source": [
    "from sklearn.datasets import fetch_openml\n",
    "mnist = fetch_openml('mnist_784', version = 1)\n",
    "\n",
    "print(mnist.keys())"
   ]
  },
  {
   "cell_type": "code",
   "execution_count": 2,
   "id": "8d946647",
   "metadata": {},
   "outputs": [
    {
     "name": "stdout",
     "output_type": "stream",
     "text": [
      "[[0. 0. 0. ... 0. 0. 0.]\n",
      " [0. 0. 0. ... 0. 0. 0.]\n",
      " [0. 0. 0. ... 0. 0. 0.]\n",
      " ...\n",
      " [0. 0. 0. ... 0. 0. 0.]\n",
      " [0. 0. 0. ... 0. 0. 0.]\n",
      " [0. 0. 0. ... 0. 0. 0.]] \n",
      "\n",
      " [5 0 4 ... 4 5 6]\n"
     ]
    }
   ],
   "source": [
    "import numpy as np\n",
    "\n",
    "X, y = np.array(mnist[\"data\"]), np.array(mnist[\"target\"]).astype(np.uint8)\n",
    "\n",
    "print(X, '\\n\\n', y)"
   ]
  },
  {
   "cell_type": "code",
   "execution_count": 3,
   "id": "980f87bc",
   "metadata": {},
   "outputs": [
    {
     "data": {
      "image/png": "[encoded data removed]",
      "text/plain": [
       "<Figure size 432x288 with 1 Axes>"
      ]
     },
     "metadata": {
      "needs_background": "light"
     },
     "output_type": "display_data"
    },
    {
     "name": "stdout",
     "output_type": "stream",
     "text": [
      "This number is a: 5\n"
     ]
    }
   ],
   "source": [
    "import matplotlib as mpl\n",
    "import matplotlib.pyplot as plt\n",
    "\n",
    "first_digit = X[0]\n",
    "first_digit_label = y[0]\n",
    "first_digit_image = first_digit.reshape(28, 28) \n",
    "\n",
    "plt.imshow(first_digit_image, cmap=\"binary\") \n",
    "plt.axis(\"off\")\n",
    "plt.show()\n",
    "\n",
    "print(\"This number is a:\", first_digit_label)"
   ]
  },
  {
   "cell_type": "markdown",
   "id": "8764b3b5",
   "metadata": {},
   "source": [
    "### Separating the sets (they are conveniently sorted)"
   ]
  },
  {
   "cell_type": "code",
   "execution_count": 4,
   "id": "69a2e993",
   "metadata": {},
   "outputs": [],
   "source": [
    "X_train, X_test, y_train, y_test = X[:60000], X[60000:], y[:60000], y[60000:]"
   ]
  },
  {
   "cell_type": "markdown",
   "id": "f21f9bc6",
   "metadata": {},
   "source": [
    "# Training a 7 classifier (binary)"
   ]
  },
  {
   "cell_type": "code",
   "execution_count": 5,
   "id": "4e9c151d",
   "metadata": {},
   "outputs": [
    {
     "data": {
      "text/plain": [
       "SGDClassifier(random_state=42)"
      ]
     },
     "execution_count": 5,
     "metadata": {},
     "output_type": "execute_result"
    }
   ],
   "source": [
    "### MODEL USED: Stochastic Gradient Descent\n",
    "\n",
    "from sklearn.linear_model import SGDClassifier\n",
    "\n",
    "y_train_is_seven = (y_train == 7)\n",
    "y_test_is_seven = (y_test == 7)\n",
    "\n",
    "sgd = SGDClassifier(random_state = 42)\n",
    "sgd.fit(X_train, y_train_is_seven)"
   ]
  },
  {
   "cell_type": "code",
   "execution_count": 6,
   "id": "e1ae378e",
   "metadata": {},
   "outputs": [
    {
     "name": "stdout",
     "output_type": "stream",
     "text": [
      "Yay!\n"
     ]
    }
   ],
   "source": [
    "index = 0\n",
    "\n",
    "for i in range(len(y_train_is_seven)):\n",
    "    if y_train_is_seven[i]:\n",
    "        index = i\n",
    "        break\n",
    "        \n",
    "if sgd.predict([X_train[index]]):\n",
    "    print(\"Yay!\")\n",
    "else:\n",
    "    print(\"Nay!\")"
   ]
  },
  {
   "cell_type": "markdown",
   "id": "95e5db7d",
   "metadata": {},
   "source": [
    "### Evaluating the current model"
   ]
  },
  {
   "cell_type": "code",
   "execution_count": 7,
   "id": "a0648bb2",
   "metadata": {},
   "outputs": [
    {
     "data": {
      "text/plain": [
       "array([0.98105, 0.9735 , 0.95335])"
      ]
     },
     "execution_count": 7,
     "metadata": {},
     "output_type": "execute_result"
    }
   ],
   "source": [
    "### CROSS-VALIDATION\n",
    "\n",
    "from sklearn.model_selection import StratifiedKFold, cross_val_score\n",
    "from sklearn.base import clone\n",
    "\n",
    "\"\"\"skfolds = StratifiedKFold(n_splits=3, shuffle=True, random_state=42)\n",
    "\n",
    "results = []\n",
    "for train_indexes, val_indexes in skfolds.split(X_train, y_train_is_seven):\n",
    "    X_train_fold, y_train_fold = X_train[train_indexes], y_train[train_indexes]\n",
    "    X_val_fold, y_val_fold = X_train[val_indexes], y_train[val_indexes]\n",
    "    \n",
    "    sgd_clone = clone(sgd)\n",
    "    sgd_clone.fit(X_train_fold, y_train_fold)\n",
    "    predictions = sgd_clone.predict(X_val_fold)\n",
    "    \n",
    "    right_count = sum(predictions == y_val_fold)\n",
    "    results.append(right_count / len(y_val_fold))\n",
    "    \n",
    "    print(len(results))\n",
    "    \n",
    "print(results)\n",
    "print(\"Mean:\", sum(results) / len(results))\"\"\"\n",
    "\n",
    "cross_val_score(sgd, X_train, y_train_is_seven, cv=3, scoring=\"accuracy\")"
   ]
  },
  {
   "cell_type": "markdown",
   "id": "f9388df3",
   "metadata": {},
   "source": [
    "#### But there's a problem... The model could be guessing that a lot of the 7's are not 7 in order to get good results, since there's about 10% of 7's in the train set. Even a model that always predicts a number as not being 7 would have an accuracy of close to 90%."
   ]
  },
  {
   "cell_type": "code",
   "execution_count": 8,
   "id": "715c06eb",
   "metadata": {},
   "outputs": [
    {
     "data": {
      "text/plain": [
       "array([False, False, False, ..., False, False, False])"
      ]
     },
     "execution_count": 8,
     "metadata": {},
     "output_type": "execute_result"
    }
   ],
   "source": [
    "from sklearn.model_selection import cross_val_predict\n",
    "\n",
    "cv_predictions = cross_val_predict(sgd, X_train, y_train_is_seven, cv=3)\n",
    "cv_predictions"
   ]
  },
  {
   "cell_type": "code",
   "execution_count": 9,
   "id": "493272c8",
   "metadata": {},
   "outputs": [
    {
     "data": {
      "text/plain": [
       "array([[52581,  1154],\n",
       "       [  688,  5577]], dtype=int64)"
      ]
     },
     "execution_count": 9,
     "metadata": {},
     "output_type": "execute_result"
    }
   ],
   "source": [
    "from sklearn.metrics import confusion_matrix  # Displays false-positives and false-negatives\n",
    "\n",
    "cm = confusion_matrix(y_train_is_seven, cv_predictions)  # 1154 false-positives and 688 false negatives\n",
    "cm"
   ]
  },
  {
   "cell_type": "code",
   "execution_count": 10,
   "id": "81c3a009",
   "metadata": {},
   "outputs": [
    {
     "name": "stdout",
     "output_type": "stream",
     "text": [
      "0.8285544495617293 0.8901835594573024\n"
     ]
    }
   ],
   "source": [
    "precision   = cm[1, 1] / (cm[0, 1] + cm[1, 1])  # a low value means the model overshoots with the amount of 7's\n",
    "sensitivity = cm[1, 1] / (cm[1, 0] + cm[1, 1])  # a low value means the model undershoots with the amount of 7's\n",
    "\n",
    "# Sensitivity is usually refered as recall\n",
    "\n",
    "print(precision, sensitivity)"
   ]
  },
  {
   "cell_type": "markdown",
   "id": "6cee9e21",
   "metadata": {},
   "source": [
    "#### Conclusion: the model isn't that accurate afterall. Also, is overshoots 7's more than it undershoots 7's, and the goal is to make them even. To do this, the model's threshold needs to be adjusted"
   ]
  },
  {
   "cell_type": "code",
   "execution_count": 11,
   "id": "d415a486",
   "metadata": {},
   "outputs": [],
   "source": [
    "y_scores_sgd = cross_val_predict(sgd, X_train, y_train_is_seven, cv=3, method=\"decision_function\")"
   ]
  },
  {
   "cell_type": "code",
   "execution_count": 12,
   "id": "311f7e70",
   "metadata": {},
   "outputs": [
    {
     "data": {
      "image/png": "[encoded data removed]",
      "text/plain": [
       "<Figure size 432x288 with 1 Axes>"
      ]
     },
     "metadata": {
      "needs_background": "light"
     },
     "output_type": "display_data"
    },
    {
     "name": "stdout",
     "output_type": "stream",
     "text": [
      "Optimal threshold: 1016\n"
     ]
    }
   ],
   "source": [
    "from sklearn.metrics import precision_recall_curve\n",
    "\n",
    "precisions, recalls, thresholds = precision_recall_curve(y_train_is_seven, y_scores_sgd)\n",
    "\n",
    "plt.plot(thresholds, precisions[:-1], \"b--\", label=\"Precision\") \n",
    "plt.plot(thresholds, recalls[:-1], \"g-\", label=\"Recall\")\n",
    "plt.show()\n",
    "\n",
    "optimal_threshold = round(thresholds[np.argmax(precisions == recalls)])\n",
    "print(\"Optimal threshold:\", optimal_threshold)"
   ]
  },
  {
   "cell_type": "markdown",
   "id": "ffc85294",
   "metadata": {},
   "source": [
    "### Testing with the optimized threshold"
   ]
  },
  {
   "cell_type": "code",
   "execution_count": 13,
   "id": "63177807",
   "metadata": {},
   "outputs": [
    {
     "data": {
      "text/plain": [
       "array([False, False, False, ..., False, False, False])"
      ]
     },
     "execution_count": 13,
     "metadata": {},
     "output_type": "execute_result"
    }
   ],
   "source": [
    "cv_optimal_predictions = y_scores_sgd >= optimal_threshold\n",
    "cv_optimal_predictions"
   ]
  },
  {
   "cell_type": "code",
   "execution_count": 14,
   "id": "7b1d8543",
   "metadata": {},
   "outputs": [
    {
     "data": {
      "text/plain": [
       "array([[52889,   846],\n",
       "       [  847,  5418]], dtype=int64)"
      ]
     },
     "execution_count": 14,
     "metadata": {},
     "output_type": "execute_result"
    }
   ],
   "source": [
    "cm_op = confusion_matrix(y_train_is_seven, cv_optimal_predictions)  # 846 false-positives and 847 false-negatives\n",
    "cm_op"
   ]
  },
  {
   "cell_type": "code",
   "execution_count": 15,
   "id": "dbaa506b",
   "metadata": {},
   "outputs": [
    {
     "name": "stdout",
     "output_type": "stream",
     "text": [
      "0.8649425287356322 0.864804469273743\n"
     ]
    }
   ],
   "source": [
    "precision_op   = cm_op[1, 1] / (cm_op[0, 1] + cm_op[1, 1])\n",
    "sensitivity_op = cm_op[1, 1] / (cm_op[1, 0] + cm_op[1, 1])\n",
    "\n",
    "print(precision_op, sensitivity_op)  # Great! This is the most balanced version of this model"
   ]
  },
  {
   "cell_type": "markdown",
   "id": "4d39acc4",
   "metadata": {},
   "source": [
    "# Training a better 7 classifier (binary)"
   ]
  },
  {
   "cell_type": "code",
   "execution_count": 16,
   "id": "a25a6e18",
   "metadata": {},
   "outputs": [
    {
     "data": {
      "text/plain": [
       "array([[0.98, 0.02],\n",
       "       [1.  , 0.  ],\n",
       "       [0.89, 0.11],\n",
       "       ...,\n",
       "       [0.99, 0.01],\n",
       "       [1.  , 0.  ],\n",
       "       [0.98, 0.02]])"
      ]
     },
     "execution_count": 16,
     "metadata": {},
     "output_type": "execute_result"
    }
   ],
   "source": [
    "### MODEL USED: Random Forest Classifier\n",
    "\n",
    "from sklearn.ensemble import RandomForestClassifier\n",
    "\n",
    "forest_clf = RandomForestClassifier(random_state=42) \n",
    "y_probas_forest = cross_val_predict(forest_clf, X_train, y_train_is_seven, cv = 3, method=\"predict_proba\")\n",
    "\n",
    "y_probas_forest  # array of lists: list[0] = prob_negative_cls, list[1] = prob_positive_cls"
   ]
  },
  {
   "cell_type": "code",
   "execution_count": 17,
   "id": "733ec650",
   "metadata": {},
   "outputs": [
    {
     "data": {
      "text/plain": [
       "(60000,)"
      ]
     },
     "execution_count": 17,
     "metadata": {},
     "output_type": "execute_result"
    }
   ],
   "source": [
    "y_scores_forest = y_probas_forest[:, 1]\n",
    "y_scores_forest.shape"
   ]
  },
  {
   "cell_type": "markdown",
   "id": "8484bba6",
   "metadata": {},
   "source": [
    "### Comparing both models"
   ]
  },
  {
   "cell_type": "code",
   "execution_count": 18,
   "id": "71f424e8",
   "metadata": {},
   "outputs": [
    {
     "data": {
      "image/png": "[encoded data removed]",
      "text/plain": [
       "<Figure size 432x288 with 1 Axes>"
      ]
     },
     "metadata": {
      "needs_background": "light"
     },
     "output_type": "display_data"
    }
   ],
   "source": [
    "### ROC curve: recall x false-positive rate (true-positive rate x false-positive rate)\n",
    "\n",
    "from sklearn.metrics import roc_curve\n",
    "    \n",
    "fpr_sgd, tpr_sgd, thresh_sgd = roc_curve(y_train_is_seven, y_scores_sgd)      # SGD\n",
    "fpr_for, tpr_for, thresh_for = roc_curve(y_train_is_seven, y_scores_forest)   # Rnd Forest\n",
    "fpr_per, tpr_per, thresh_per = roc_curve(y_train_is_seven, y_train_is_seven)  # Perfect\n",
    "\n",
    "plt.plot(fpr_per, tpr_per, \"g-\", linewidth=2, label=None) # Control\n",
    "plt.plot(fpr_sgd, tpr_sgd, \"r-\", linewidth=2, label=None) # first model - Good\n",
    "plt.plot(fpr_for, tpr_for, \"b-\", linewidth=2, label=None) # second model - Close to perfect!\n",
    "\n",
    "plt.plot([0, 1], [0, 1], 'k--')  # Represents a totally random model (guesses right as much as guesses wrong)\n",
    "\n",
    "plt.grid(b=True)\n",
    "#plt.figure(figsize=(10, 10))\n",
    "\n",
    "plt.show()"
   ]
  },
  {
   "cell_type": "markdown",
   "id": "d7582af7",
   "metadata": {},
   "source": [
    "# Training a 10-digit classifier"
   ]
  },
  {
   "cell_type": "markdown",
   "id": "9554d8b5",
   "metadata": {},
   "source": [
    "Options: \n",
    "- Use a model that natively does the multiclassification (e.g. the previous RandomForest)\n",
    "- Use 10 binary classifiers, one for each digit (one-versus-the-rest / one-versus-all)\n",
    "- Use (10-1) * 10/2 = 45 binary classifiers, each one responsible for comparing if a number is X or Y (one-versus-one)"
   ]
  },
  {
   "cell_type": "code",
   "execution_count": 19,
   "id": "b020f7e6",
   "metadata": {},
   "outputs": [],
   "source": [
    "from sklearn.preprocessing import StandardScaler \n",
    "\n",
    "scaler = StandardScaler() \n",
    "scaler.fit(X_train.astype(np.float64))\n",
    "\n",
    "X_train_scaled = scaler.transform(X_train.astype(np.float64))\n",
    "first_digit_scaled = scaler.transform([first_digit.astype(np.float64)])"
   ]
  },
  {
   "cell_type": "code",
   "execution_count": 20,
   "id": "5d92202c",
   "metadata": {},
   "outputs": [
    {
     "data": {
      "text/html": [
       "<div>\n",
       "<style scoped>\n",
       "    .dataframe tbody tr th:only-of-type {\n",
       "        vertical-align: middle;\n",
       "    }\n",
       "\n",
       "    .dataframe tbody tr th {\n",
       "        vertical-align: top;\n",
       "    }\n",
       "\n",
       "    .dataframe thead th {\n",
       "        text-align: right;\n",
       "    }\n",
       "</style>\n",
       "<table border=\"1\" class=\"dataframe\">\n",
       "  <thead>\n",
       "    <tr style=\"text-align: right;\">\n",
       "      <th></th>\n",
       "      <th>0</th>\n",
       "      <th>1</th>\n",
       "      <th>2</th>\n",
       "      <th>3</th>\n",
       "      <th>4</th>\n",
       "      <th>5</th>\n",
       "      <th>6</th>\n",
       "      <th>7</th>\n",
       "      <th>8</th>\n",
       "      <th>9</th>\n",
       "      <th>...</th>\n",
       "      <th>774</th>\n",
       "      <th>775</th>\n",
       "      <th>776</th>\n",
       "      <th>777</th>\n",
       "      <th>778</th>\n",
       "      <th>779</th>\n",
       "      <th>780</th>\n",
       "      <th>781</th>\n",
       "      <th>782</th>\n",
       "      <th>783</th>\n",
       "    </tr>\n",
       "  </thead>\n",
       "  <tbody>\n",
       "    <tr>\n",
       "      <th>0</th>\n",
       "      <td>0.0</td>\n",
       "      <td>0.0</td>\n",
       "      <td>0.0</td>\n",
       "      <td>0.0</td>\n",
       "      <td>0.0</td>\n",
       "      <td>0.0</td>\n",
       "      <td>0.0</td>\n",
       "      <td>0.0</td>\n",
       "      <td>0.0</td>\n",
       "      <td>0.0</td>\n",
       "      <td>...</td>\n",
       "      <td>-0.033171</td>\n",
       "      <td>-0.022463</td>\n",
       "      <td>-0.016069</td>\n",
       "      <td>-0.011432</td>\n",
       "      <td>-0.009007</td>\n",
       "      <td>-0.00577</td>\n",
       "      <td>0.0</td>\n",
       "      <td>0.0</td>\n",
       "      <td>0.0</td>\n",
       "      <td>0.0</td>\n",
       "    </tr>\n",
       "  </tbody>\n",
       "</table>\n",
       "<p>1 rows × 784 columns</p>\n",
       "</div>"
      ],
      "text/plain": [
       "   0    1    2    3    4    5    6    7    8    9    ...       774       775  \\\n",
       "0  0.0  0.0  0.0  0.0  0.0  0.0  0.0  0.0  0.0  0.0  ... -0.033171 -0.022463   \n",
       "\n",
       "        776       777       778      779  780  781  782  783  \n",
       "0 -0.016069 -0.011432 -0.009007 -0.00577  0.0  0.0  0.0  0.0  \n",
       "\n",
       "[1 rows x 784 columns]"
      ]
     },
     "execution_count": 20,
     "metadata": {},
     "output_type": "execute_result"
    }
   ],
   "source": [
    "import pandas\n",
    "\n",
    "pandas.DataFrame(first_digit_scaled)"
   ]
  },
  {
   "cell_type": "markdown",
   "id": "08c0b651",
   "metadata": {},
   "source": [
    "### Multiclass by nature"
   ]
  },
  {
   "cell_type": "code",
   "execution_count": 21,
   "id": "d9d33118",
   "metadata": {},
   "outputs": [
    {
     "data": {
      "text/plain": [
       "RandomForestClassifier(random_state=42)"
      ]
     },
     "execution_count": 21,
     "metadata": {},
     "output_type": "execute_result"
    }
   ],
   "source": [
    "forest_clf.fit(X_train_scaled, y_train)"
   ]
  },
  {
   "cell_type": "code",
   "execution_count": 22,
   "id": "b8013509",
   "metadata": {},
   "outputs": [
    {
     "data": {
      "text/plain": [
       "array([5], dtype=uint8)"
      ]
     },
     "execution_count": 22,
     "metadata": {},
     "output_type": "execute_result"
    }
   ],
   "source": [
    "prediction = forest_clf.predict(first_digit_scaled)  # first_digit = 5 as seen earlier\n",
    "prediction  # right!"
   ]
  },
  {
   "cell_type": "code",
   "execution_count": 23,
   "id": "c2d9b98d",
   "metadata": {},
   "outputs": [
    {
     "data": {
      "text/plain": [
       "array([[0.  , 0.  , 0.01, 0.08, 0.  , 0.9 , 0.  , 0.  , 0.  , 0.01]])"
      ]
     },
     "execution_count": 23,
     "metadata": {},
     "output_type": "execute_result"
    }
   ],
   "source": [
    "forest_clf.predict_proba(first_digit_scaled)"
   ]
  },
  {
   "cell_type": "markdown",
   "id": "ab87c5f6",
   "metadata": {},
   "source": [
    "### One versus all"
   ]
  },
  {
   "cell_type": "code",
   "execution_count": 24,
   "id": "bf7094a1",
   "metadata": {},
   "outputs": [
    {
     "data": {
      "text/plain": [
       "SGDClassifier(random_state=42)"
      ]
     },
     "execution_count": 24,
     "metadata": {},
     "output_type": "execute_result"
    }
   ],
   "source": [
    "### IMPLICIT: sklearn already identifies that OvR is the better option for a SGDClassifier\n",
    "\n",
    "# It's possible to change this to OvO for SGDClassifier using the function sklearn.multiclass.OneVsOneClassifier\n",
    "\n",
    "sgd.fit(X_train_scaled, y_train)"
   ]
  },
  {
   "cell_type": "code",
   "execution_count": 25,
   "id": "c0594c16",
   "metadata": {},
   "outputs": [
    {
     "data": {
      "text/plain": [
       "array([5], dtype=uint8)"
      ]
     },
     "execution_count": 25,
     "metadata": {},
     "output_type": "execute_result"
    }
   ],
   "source": [
    "prediction = sgd.predict(first_digit_scaled)  # again, 5\n",
    "prediction  # right!"
   ]
  },
  {
   "cell_type": "code",
   "execution_count": 26,
   "id": "fc636898",
   "metadata": {},
   "outputs": [
    {
     "data": {
      "text/plain": [
       "array([[-1.12757674e+03, -9.49187954e+02, -4.17629163e+02,\n",
       "        -1.32423197e+01, -1.63698367e+03,  6.96355792e-01,\n",
       "        -1.70774018e+03, -7.09325794e+02, -5.23366898e+01,\n",
       "        -5.88154757e+02]])"
      ]
     },
     "execution_count": 26,
     "metadata": {},
     "output_type": "execute_result"
    }
   ],
   "source": [
    "sgd.decision_function(first_digit_scaled)"
   ]
  },
  {
   "cell_type": "markdown",
   "id": "2763910a",
   "metadata": {},
   "source": [
    "### One versus one"
   ]
  },
  {
   "cell_type": "code",
   "execution_count": 27,
   "id": "a42b1f10",
   "metadata": {},
   "outputs": [
    {
     "data": {
      "text/plain": [
       "SVC()"
      ]
     },
     "execution_count": 27,
     "metadata": {},
     "output_type": "execute_result"
    }
   ],
   "source": [
    "### IMPLICT: sklearn already identifies that OvO is the better option for SVC (Support Vector Machine Classifier)\n",
    "\n",
    "# It's possible to change this to OvR for SVC using the function sklearn.multiclass.OneVsRestClassifier\n",
    "\n",
    "from sklearn.svm import SVC\n",
    "\n",
    "svm = SVC()\n",
    "\n",
    "svm.fit(X_train_scaled, y_train)"
   ]
  },
  {
   "cell_type": "code",
   "execution_count": 28,
   "id": "33dbc57d",
   "metadata": {},
   "outputs": [
    {
     "data": {
      "text/plain": [
       "array([5], dtype=uint8)"
      ]
     },
     "execution_count": 28,
     "metadata": {},
     "output_type": "execute_result"
    }
   ],
   "source": [
    "prediction = svm.predict(first_digit_scaled)  # again, 5\n",
    "prediction  # right!"
   ]
  },
  {
   "cell_type": "code",
   "execution_count": 29,
   "id": "b0a5d00a",
   "metadata": {},
   "outputs": [
    {
     "data": {
      "text/plain": [
       "array([[ 2.75523198,  0.72151155,  7.18864415,  8.30206541, -0.30060064,\n",
       "         9.3051746 ,  1.72946953,  5.03043793,  3.8171665 ,  6.13068855]])"
      ]
     },
     "execution_count": 29,
     "metadata": {},
     "output_type": "execute_result"
    }
   ],
   "source": [
    "svm.decision_function(first_digit_scaled)"
   ]
  },
  {
   "cell_type": "markdown",
   "id": "dd6c560e",
   "metadata": {},
   "source": [
    "### Comparing the models (actually, just checking if rnd_forest overfitted or not. Checking everything would take too long)"
   ]
  },
  {
   "cell_type": "code",
   "execution_count": 30,
   "id": "195f6880",
   "metadata": {},
   "outputs": [],
   "source": [
    "scores = cross_val_score(forest_clf, X_train_scaled, y_train, cv=3, scoring=\"accuracy\")  \n",
    "\n",
    "# Checking for accuracy now is not a problem, since the job now is much more complex"
   ]
  },
  {
   "cell_type": "code",
   "execution_count": 31,
   "id": "e19c43fc",
   "metadata": {},
   "outputs": [
    {
     "name": "stdout",
     "output_type": "stream",
     "text": [
      "[0.96445 0.96255 0.96645]\n",
      "0.9644833333333334 0.0015923427883328307\n"
     ]
    }
   ],
   "source": [
    "print(scores)\n",
    "print(scores.mean(), scores.std())  # didn't overfit :)"
   ]
  },
  {
   "cell_type": "markdown",
   "id": "7548842d",
   "metadata": {},
   "source": [
    "# Enhancements"
   ]
  },
  {
   "cell_type": "markdown",
   "id": "b8739a4d",
   "metadata": {},
   "source": [
    "### Enhancing the train set: making it bigger"
   ]
  },
  {
   "cell_type": "code",
   "execution_count": 33,
   "id": "6dacf8c2",
   "metadata": {},
   "outputs": [
    {
     "data": {
      "text/plain": [
       "(60000, 784)"
      ]
     },
     "execution_count": 33,
     "metadata": {},
     "output_type": "execute_result"
    }
   ],
   "source": [
    "#from scipy.ndimage.interpolation import shift\n",
    "\n",
    "X_train_scaled_old = X_train_scaled\n",
    "X_train_scaled_old.shape"
   ]
  },
  {
   "cell_type": "code",
   "execution_count": 76,
   "id": "bba0c62d",
   "metadata": {},
   "outputs": [],
   "source": [
    "from scipy.ndimage.interpolation import shift\n",
    "\n",
    "def shift_image(image, dx, dy):\n",
    "    image = image.reshape((28, 28))\n",
    "    shifted_image = shift(image, [dy, dx], cval=0, mode=\"constant\")\n",
    "    return shifted_image.reshape([-1])\n",
    "\n",
    "X_train_augmented = [image for image in X_train]\n",
    "y_train_augmented = [label for label in y_train]\n",
    "\n",
    "for dx, dy in ((1, 0), (-1, 0), (0, 1), (0, -1)):\n",
    "    for image, label in zip(X_train, y_train):\n",
    "        X_train_augmented.append(shift_image(image, dx, dy))\n",
    "        y_train_augmented.append(label)\n",
    "\n",
    "X_train_augmented = np.array(X_train_augmented)\n",
    "y_train_augmented = np.array(y_train_augmented)"
   ]
  },
  {
   "cell_type": "code",
   "execution_count": 77,
   "id": "333d4067",
   "metadata": {},
   "outputs": [
    {
     "data": {
      "text/plain": [
       "(300000, 784)"
      ]
     },
     "execution_count": 77,
     "metadata": {},
     "output_type": "execute_result"
    }
   ],
   "source": [
    "X_train_augmented.shape  # 5x bigger..."
   ]
  },
  {
   "cell_type": "code",
   "execution_count": 78,
   "id": "b11de491",
   "metadata": {},
   "outputs": [],
   "source": [
    "scaler = StandardScaler()\n",
    "\n",
    "X_train_aug_scaled = scaler.fit_transform(X_train_augmented.astype(np.float64))"
   ]
  },
  {
   "cell_type": "code",
   "execution_count": 79,
   "id": "7eb21b5c",
   "metadata": {},
   "outputs": [
    {
     "data": {
      "text/plain": [
       "RandomForestClassifier(random_state=42)"
      ]
     },
     "execution_count": 79,
     "metadata": {},
     "output_type": "execute_result"
    }
   ],
   "source": [
    "forest_clf.fit(X_train_aug_scaled, y_train_augmented)"
   ]
  },
  {
   "cell_type": "code",
   "execution_count": 82,
   "id": "7eda92fe",
   "metadata": {},
   "outputs": [],
   "source": [
    "scores_aug = cross_val_score(forest_clf, X_train_aug_scaled, y_train_augmented, cv=3, scoring=\"accuracy\")  "
   ]
  },
  {
   "cell_type": "code",
   "execution_count": 85,
   "id": "158c8be0",
   "metadata": {},
   "outputs": [
    {
     "name": "stdout",
     "output_type": "stream",
     "text": [
      "0.9652433333333333 0.010920245214991992\n"
     ]
    }
   ],
   "source": [
    "scores_aug\n",
    "print(scores_aug.mean(), scores_aug.std())  # it took a lot longer and the result was even worse..."
   ]
  },
  {
   "cell_type": "code",
   "execution_count": null,
   "id": "99e13d06",
   "metadata": {},
   "outputs": [],
   "source": []
  }
 ],
 "metadata": {
  "kernelspec": {
   "display_name": "Python 3",
   "language": "python",
   "name": "python3"
  },
  "language_info": {
   "codemirror_mode": {
    "name": "ipython",
    "version": 3
   },
   "file_extension": ".py",
   "mimetype": "text/x-python",
   "name": "python",
   "nbconvert_exporter": "python",
   "pygments_lexer": "ipython3",
   "version": "3.9.7"
  }
 },
 "nbformat": 4,
 "nbformat_minor": 5
}
