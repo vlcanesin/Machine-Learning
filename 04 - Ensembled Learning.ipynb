{
 "cells": [
  {
   "cell_type": "code",
   "execution_count": 1,
   "id": "59d17a11",
   "metadata": {},
   "outputs": [],
   "source": [
    "from sklearn.datasets import fetch_openml\n",
    "mnist = fetch_openml('mnist_784', version = 1)"
   ]
  },
  {
   "cell_type": "code",
   "execution_count": 2,
   "id": "a360b80b",
   "metadata": {},
   "outputs": [],
   "source": [
    "import numpy as np\n",
    "\n",
    "np.random.seed(42)\n",
    "\n",
    "X, y = np.array(mnist[\"data\"]), np.array(mnist[\"target\"]).astype(np.uint8)"
   ]
  },
  {
   "cell_type": "code",
   "execution_count": 3,
   "id": "ae1b5ab4",
   "metadata": {},
   "outputs": [],
   "source": [
    "X_tr, X_v, X_te, y_tr, y_v, y_te = X[:50000], X[50000:60000], X[60000:], y[:50000], y[50000:60000], y[60000:]"
   ]
  },
  {
   "cell_type": "code",
   "execution_count": 42,
   "id": "7774ae8b",
   "metadata": {},
   "outputs": [
    {
     "data": {
      "image/png": "[encoded data removed]",
      "text/plain": [
       "<Figure size 432x288 with 1 Axes>"
      ]
     },
     "metadata": {
      "needs_background": "light"
     },
     "output_type": "display_data"
    }
   ],
   "source": [
    "import matplotlib.pyplot as plt\n",
    "\n",
    "plt.imshow(X_tr[0].reshape(28,28), cmap='binary')\n",
    "plt.show()"
   ]
  },
  {
   "cell_type": "code",
   "execution_count": 4,
   "id": "bf6a53af",
   "metadata": {},
   "outputs": [],
   "source": [
    "from sklearn.preprocessing import StandardScaler\n",
    "\n",
    "scaler = StandardScaler()\n",
    "\n",
    "X_tr_prep = scaler.fit_transform(X_tr.astype(np.float64))\n",
    "X_v_prep = scaler.transform(X_v.astype(np.float64))\n",
    "X_te_prep = scaler.transform(X_te.astype(np.float64))"
   ]
  },
  {
   "cell_type": "code",
   "execution_count": 5,
   "id": "bba81076",
   "metadata": {},
   "outputs": [
    {
     "data": {
      "text/html": [
       "<div>\n",
       "<style scoped>\n",
       "    .dataframe tbody tr th:only-of-type {\n",
       "        vertical-align: middle;\n",
       "    }\n",
       "\n",
       "    .dataframe tbody tr th {\n",
       "        vertical-align: top;\n",
       "    }\n",
       "\n",
       "    .dataframe thead th {\n",
       "        text-align: right;\n",
       "    }\n",
       "</style>\n",
       "<table border=\"1\" class=\"dataframe\">\n",
       "  <thead>\n",
       "    <tr style=\"text-align: right;\">\n",
       "      <th></th>\n",
       "      <th>0</th>\n",
       "      <th>1</th>\n",
       "      <th>2</th>\n",
       "      <th>3</th>\n",
       "      <th>4</th>\n",
       "      <th>5</th>\n",
       "      <th>6</th>\n",
       "      <th>7</th>\n",
       "      <th>8</th>\n",
       "      <th>9</th>\n",
       "      <th>...</th>\n",
       "      <th>774</th>\n",
       "      <th>775</th>\n",
       "      <th>776</th>\n",
       "      <th>777</th>\n",
       "      <th>778</th>\n",
       "      <th>779</th>\n",
       "      <th>780</th>\n",
       "      <th>781</th>\n",
       "      <th>782</th>\n",
       "      <th>783</th>\n",
       "    </tr>\n",
       "  </thead>\n",
       "  <tbody>\n",
       "    <tr>\n",
       "      <th>0</th>\n",
       "      <td>0.0</td>\n",
       "      <td>0.0</td>\n",
       "      <td>0.0</td>\n",
       "      <td>0.0</td>\n",
       "      <td>0.0</td>\n",
       "      <td>0.0</td>\n",
       "      <td>0.0</td>\n",
       "      <td>0.0</td>\n",
       "      <td>0.0</td>\n",
       "      <td>0.0</td>\n",
       "      <td>...</td>\n",
       "      <td>-0.032428</td>\n",
       "      <td>-0.02294</td>\n",
       "      <td>-0.016899</td>\n",
       "      <td>-0.012524</td>\n",
       "      <td>-0.009867</td>\n",
       "      <td>-0.006321</td>\n",
       "      <td>0.0</td>\n",
       "      <td>0.0</td>\n",
       "      <td>0.0</td>\n",
       "      <td>0.0</td>\n",
       "    </tr>\n",
       "    <tr>\n",
       "      <th>1</th>\n",
       "      <td>0.0</td>\n",
       "      <td>0.0</td>\n",
       "      <td>0.0</td>\n",
       "      <td>0.0</td>\n",
       "      <td>0.0</td>\n",
       "      <td>0.0</td>\n",
       "      <td>0.0</td>\n",
       "      <td>0.0</td>\n",
       "      <td>0.0</td>\n",
       "      <td>0.0</td>\n",
       "      <td>...</td>\n",
       "      <td>-0.032428</td>\n",
       "      <td>-0.02294</td>\n",
       "      <td>-0.016899</td>\n",
       "      <td>-0.012524</td>\n",
       "      <td>-0.009867</td>\n",
       "      <td>-0.006321</td>\n",
       "      <td>0.0</td>\n",
       "      <td>0.0</td>\n",
       "      <td>0.0</td>\n",
       "      <td>0.0</td>\n",
       "    </tr>\n",
       "    <tr>\n",
       "      <th>2</th>\n",
       "      <td>0.0</td>\n",
       "      <td>0.0</td>\n",
       "      <td>0.0</td>\n",
       "      <td>0.0</td>\n",
       "      <td>0.0</td>\n",
       "      <td>0.0</td>\n",
       "      <td>0.0</td>\n",
       "      <td>0.0</td>\n",
       "      <td>0.0</td>\n",
       "      <td>0.0</td>\n",
       "      <td>...</td>\n",
       "      <td>-0.032428</td>\n",
       "      <td>-0.02294</td>\n",
       "      <td>-0.016899</td>\n",
       "      <td>-0.012524</td>\n",
       "      <td>-0.009867</td>\n",
       "      <td>-0.006321</td>\n",
       "      <td>0.0</td>\n",
       "      <td>0.0</td>\n",
       "      <td>0.0</td>\n",
       "      <td>0.0</td>\n",
       "    </tr>\n",
       "    <tr>\n",
       "      <th>3</th>\n",
       "      <td>0.0</td>\n",
       "      <td>0.0</td>\n",
       "      <td>0.0</td>\n",
       "      <td>0.0</td>\n",
       "      <td>0.0</td>\n",
       "      <td>0.0</td>\n",
       "      <td>0.0</td>\n",
       "      <td>0.0</td>\n",
       "      <td>0.0</td>\n",
       "      <td>0.0</td>\n",
       "      <td>...</td>\n",
       "      <td>-0.032428</td>\n",
       "      <td>-0.02294</td>\n",
       "      <td>-0.016899</td>\n",
       "      <td>-0.012524</td>\n",
       "      <td>-0.009867</td>\n",
       "      <td>-0.006321</td>\n",
       "      <td>0.0</td>\n",
       "      <td>0.0</td>\n",
       "      <td>0.0</td>\n",
       "      <td>0.0</td>\n",
       "    </tr>\n",
       "    <tr>\n",
       "      <th>4</th>\n",
       "      <td>0.0</td>\n",
       "      <td>0.0</td>\n",
       "      <td>0.0</td>\n",
       "      <td>0.0</td>\n",
       "      <td>0.0</td>\n",
       "      <td>0.0</td>\n",
       "      <td>0.0</td>\n",
       "      <td>0.0</td>\n",
       "      <td>0.0</td>\n",
       "      <td>0.0</td>\n",
       "      <td>...</td>\n",
       "      <td>-0.032428</td>\n",
       "      <td>-0.02294</td>\n",
       "      <td>-0.016899</td>\n",
       "      <td>-0.012524</td>\n",
       "      <td>-0.009867</td>\n",
       "      <td>-0.006321</td>\n",
       "      <td>0.0</td>\n",
       "      <td>0.0</td>\n",
       "      <td>0.0</td>\n",
       "      <td>0.0</td>\n",
       "    </tr>\n",
       "    <tr>\n",
       "      <th>...</th>\n",
       "      <td>...</td>\n",
       "      <td>...</td>\n",
       "      <td>...</td>\n",
       "      <td>...</td>\n",
       "      <td>...</td>\n",
       "      <td>...</td>\n",
       "      <td>...</td>\n",
       "      <td>...</td>\n",
       "      <td>...</td>\n",
       "      <td>...</td>\n",
       "      <td>...</td>\n",
       "      <td>...</td>\n",
       "      <td>...</td>\n",
       "      <td>...</td>\n",
       "      <td>...</td>\n",
       "      <td>...</td>\n",
       "      <td>...</td>\n",
       "      <td>...</td>\n",
       "      <td>...</td>\n",
       "      <td>...</td>\n",
       "      <td>...</td>\n",
       "    </tr>\n",
       "    <tr>\n",
       "      <th>49995</th>\n",
       "      <td>0.0</td>\n",
       "      <td>0.0</td>\n",
       "      <td>0.0</td>\n",
       "      <td>0.0</td>\n",
       "      <td>0.0</td>\n",
       "      <td>0.0</td>\n",
       "      <td>0.0</td>\n",
       "      <td>0.0</td>\n",
       "      <td>0.0</td>\n",
       "      <td>0.0</td>\n",
       "      <td>...</td>\n",
       "      <td>-0.032428</td>\n",
       "      <td>-0.02294</td>\n",
       "      <td>-0.016899</td>\n",
       "      <td>-0.012524</td>\n",
       "      <td>-0.009867</td>\n",
       "      <td>-0.006321</td>\n",
       "      <td>0.0</td>\n",
       "      <td>0.0</td>\n",
       "      <td>0.0</td>\n",
       "      <td>0.0</td>\n",
       "    </tr>\n",
       "    <tr>\n",
       "      <th>49996</th>\n",
       "      <td>0.0</td>\n",
       "      <td>0.0</td>\n",
       "      <td>0.0</td>\n",
       "      <td>0.0</td>\n",
       "      <td>0.0</td>\n",
       "      <td>0.0</td>\n",
       "      <td>0.0</td>\n",
       "      <td>0.0</td>\n",
       "      <td>0.0</td>\n",
       "      <td>0.0</td>\n",
       "      <td>...</td>\n",
       "      <td>-0.032428</td>\n",
       "      <td>-0.02294</td>\n",
       "      <td>-0.016899</td>\n",
       "      <td>-0.012524</td>\n",
       "      <td>-0.009867</td>\n",
       "      <td>-0.006321</td>\n",
       "      <td>0.0</td>\n",
       "      <td>0.0</td>\n",
       "      <td>0.0</td>\n",
       "      <td>0.0</td>\n",
       "    </tr>\n",
       "    <tr>\n",
       "      <th>49997</th>\n",
       "      <td>0.0</td>\n",
       "      <td>0.0</td>\n",
       "      <td>0.0</td>\n",
       "      <td>0.0</td>\n",
       "      <td>0.0</td>\n",
       "      <td>0.0</td>\n",
       "      <td>0.0</td>\n",
       "      <td>0.0</td>\n",
       "      <td>0.0</td>\n",
       "      <td>0.0</td>\n",
       "      <td>...</td>\n",
       "      <td>-0.032428</td>\n",
       "      <td>-0.02294</td>\n",
       "      <td>-0.016899</td>\n",
       "      <td>-0.012524</td>\n",
       "      <td>-0.009867</td>\n",
       "      <td>-0.006321</td>\n",
       "      <td>0.0</td>\n",
       "      <td>0.0</td>\n",
       "      <td>0.0</td>\n",
       "      <td>0.0</td>\n",
       "    </tr>\n",
       "    <tr>\n",
       "      <th>49998</th>\n",
       "      <td>0.0</td>\n",
       "      <td>0.0</td>\n",
       "      <td>0.0</td>\n",
       "      <td>0.0</td>\n",
       "      <td>0.0</td>\n",
       "      <td>0.0</td>\n",
       "      <td>0.0</td>\n",
       "      <td>0.0</td>\n",
       "      <td>0.0</td>\n",
       "      <td>0.0</td>\n",
       "      <td>...</td>\n",
       "      <td>-0.032428</td>\n",
       "      <td>-0.02294</td>\n",
       "      <td>-0.016899</td>\n",
       "      <td>-0.012524</td>\n",
       "      <td>-0.009867</td>\n",
       "      <td>-0.006321</td>\n",
       "      <td>0.0</td>\n",
       "      <td>0.0</td>\n",
       "      <td>0.0</td>\n",
       "      <td>0.0</td>\n",
       "    </tr>\n",
       "    <tr>\n",
       "      <th>49999</th>\n",
       "      <td>0.0</td>\n",
       "      <td>0.0</td>\n",
       "      <td>0.0</td>\n",
       "      <td>0.0</td>\n",
       "      <td>0.0</td>\n",
       "      <td>0.0</td>\n",
       "      <td>0.0</td>\n",
       "      <td>0.0</td>\n",
       "      <td>0.0</td>\n",
       "      <td>0.0</td>\n",
       "      <td>...</td>\n",
       "      <td>-0.032428</td>\n",
       "      <td>-0.02294</td>\n",
       "      <td>-0.016899</td>\n",
       "      <td>-0.012524</td>\n",
       "      <td>-0.009867</td>\n",
       "      <td>-0.006321</td>\n",
       "      <td>0.0</td>\n",
       "      <td>0.0</td>\n",
       "      <td>0.0</td>\n",
       "      <td>0.0</td>\n",
       "    </tr>\n",
       "  </tbody>\n",
       "</table>\n",
       "<p>50000 rows × 784 columns</p>\n",
       "</div>"
      ],
      "text/plain": [
       "       0    1    2    3    4    5    6    7    8    9    ...       774  \\\n",
       "0      0.0  0.0  0.0  0.0  0.0  0.0  0.0  0.0  0.0  0.0  ... -0.032428   \n",
       "1      0.0  0.0  0.0  0.0  0.0  0.0  0.0  0.0  0.0  0.0  ... -0.032428   \n",
       "2      0.0  0.0  0.0  0.0  0.0  0.0  0.0  0.0  0.0  0.0  ... -0.032428   \n",
       "3      0.0  0.0  0.0  0.0  0.0  0.0  0.0  0.0  0.0  0.0  ... -0.032428   \n",
       "4      0.0  0.0  0.0  0.0  0.0  0.0  0.0  0.0  0.0  0.0  ... -0.032428   \n",
       "...    ...  ...  ...  ...  ...  ...  ...  ...  ...  ...  ...       ...   \n",
       "49995  0.0  0.0  0.0  0.0  0.0  0.0  0.0  0.0  0.0  0.0  ... -0.032428   \n",
       "49996  0.0  0.0  0.0  0.0  0.0  0.0  0.0  0.0  0.0  0.0  ... -0.032428   \n",
       "49997  0.0  0.0  0.0  0.0  0.0  0.0  0.0  0.0  0.0  0.0  ... -0.032428   \n",
       "49998  0.0  0.0  0.0  0.0  0.0  0.0  0.0  0.0  0.0  0.0  ... -0.032428   \n",
       "49999  0.0  0.0  0.0  0.0  0.0  0.0  0.0  0.0  0.0  0.0  ... -0.032428   \n",
       "\n",
       "           775       776       777       778       779  780  781  782  783  \n",
       "0     -0.02294 -0.016899 -0.012524 -0.009867 -0.006321  0.0  0.0  0.0  0.0  \n",
       "1     -0.02294 -0.016899 -0.012524 -0.009867 -0.006321  0.0  0.0  0.0  0.0  \n",
       "2     -0.02294 -0.016899 -0.012524 -0.009867 -0.006321  0.0  0.0  0.0  0.0  \n",
       "3     -0.02294 -0.016899 -0.012524 -0.009867 -0.006321  0.0  0.0  0.0  0.0  \n",
       "4     -0.02294 -0.016899 -0.012524 -0.009867 -0.006321  0.0  0.0  0.0  0.0  \n",
       "...        ...       ...       ...       ...       ...  ...  ...  ...  ...  \n",
       "49995 -0.02294 -0.016899 -0.012524 -0.009867 -0.006321  0.0  0.0  0.0  0.0  \n",
       "49996 -0.02294 -0.016899 -0.012524 -0.009867 -0.006321  0.0  0.0  0.0  0.0  \n",
       "49997 -0.02294 -0.016899 -0.012524 -0.009867 -0.006321  0.0  0.0  0.0  0.0  \n",
       "49998 -0.02294 -0.016899 -0.012524 -0.009867 -0.006321  0.0  0.0  0.0  0.0  \n",
       "49999 -0.02294 -0.016899 -0.012524 -0.009867 -0.006321  0.0  0.0  0.0  0.0  \n",
       "\n",
       "[50000 rows x 784 columns]"
      ]
     },
     "execution_count": 5,
     "metadata": {},
     "output_type": "execute_result"
    }
   ],
   "source": [
    "import pandas\n",
    "\n",
    "pandas.DataFrame(X_tr_prep)  # 50000 instances, each one containing a 28x28 image"
   ]
  },
  {
   "cell_type": "markdown",
   "id": "f3857149",
   "metadata": {},
   "source": [
    "# Making the primary models"
   ]
  },
  {
   "cell_type": "code",
   "execution_count": 44,
   "id": "e98c20ec",
   "metadata": {},
   "outputs": [],
   "source": [
    "# MODELS: logistic regression, linear SVM, decisionTree, randomForest and extraForest\n",
    "\n",
    "from sklearn.linear_model import SGDClassifier  # logistic regression\n",
    "from sklearn.svm import SVC  # linear svc because of its efficiency\n",
    "from sklearn.tree import DecisionTreeClassifier  # decision tree classifier\n",
    "from sklearn.ensemble import RandomForestClassifier, ExtraTreesClassifier  # random and extra random forests\n",
    "\n",
    "# Every chosen model uses some level of randomness, which is desirable for ensemble purposes"
   ]
  },
  {
   "cell_type": "code",
   "execution_count": 11,
   "id": "972bf4ea",
   "metadata": {},
   "outputs": [
    {
     "data": {
      "text/plain": [
       "SGDClassifier(early_stopping=True, loss='log', n_jobs=-1, random_state=0)"
      ]
     },
     "execution_count": 11,
     "metadata": {},
     "output_type": "execute_result"
    }
   ],
   "source": [
    "log_reg = SGDClassifier(loss='log', n_jobs=-1, early_stopping = True, random_state = 0)  # prevent overfitting\n",
    "log_reg.fit(X_tr_prep, y_tr)"
   ]
  },
  {
   "cell_type": "code",
   "execution_count": 237,
   "id": "956ab6e0",
   "metadata": {},
   "outputs": [
    {
     "name": "stdout",
     "output_type": "stream",
     "text": [
      "0.9113\n"
     ]
    },
    {
     "data": {
      "text/plain": [
       "array([[0.00000000e+000, 0.00000000e+000, 0.00000000e+000,\n",
       "        3.12641587e-291, 0.00000000e+000, 0.00000000e+000,\n",
       "        0.00000000e+000, 1.00000000e+000, 0.00000000e+000,\n",
       "        6.18016503e-167]])"
      ]
     },
     "execution_count": 237,
     "metadata": {},
     "output_type": "execute_result"
    }
   ],
   "source": [
    "print(sum(y_te == log_reg.predict(X_te_prep)) / len(y_te))  # pog\n",
    "log_reg.predict_proba(X_te_prep[0].reshape(1,-1)) "
   ]
  },
  {
   "cell_type": "code",
   "execution_count": 46,
   "id": "9b24b250",
   "metadata": {},
   "outputs": [
    {
     "data": {
      "text/plain": [
       "SVC(kernel='linear', probability=True, random_state=1)"
      ]
     },
     "execution_count": 46,
     "metadata": {},
     "output_type": "execute_result"
    }
   ],
   "source": [
    "lin_svc = SVC(kernel='linear', probability=True, random_state=1)  # different rnd states + enable predict_proba\n",
    "lin_svc.fit(X_tr_prep, y_tr)  # oh my, this took ages"
   ]
  },
  {
   "cell_type": "code",
   "execution_count": 238,
   "id": "2690ac92",
   "metadata": {},
   "outputs": [
    {
     "name": "stdout",
     "output_type": "stream",
     "text": [
      "0.926\n"
     ]
    },
    {
     "data": {
      "text/plain": [
       "array([[5.85584479e-04, 4.72475953e-05, 1.07246286e-03, 5.26657384e-02,\n",
       "        2.17435461e-04, 1.91915826e-03, 2.17862379e-05, 9.39561808e-01,\n",
       "        9.59616349e-04, 2.94916258e-03]])"
      ]
     },
     "execution_count": 238,
     "metadata": {},
     "output_type": "execute_result"
    }
   ],
   "source": [
    "print(sum(y_te == lin_svc.predict(X_te_prep)) / len(y_te))  # very poggers\n",
    "lin_svc.predict_proba(X_te_prep[0].reshape(1,-1))  "
   ]
  },
  {
   "cell_type": "code",
   "execution_count": 34,
   "id": "c64a9591",
   "metadata": {},
   "outputs": [
    {
     "data": {
      "text/plain": [
       "DecisionTreeClassifier(max_depth=20, max_leaf_nodes=1500, random_state=2,\n",
       "                       splitter='random')"
      ]
     },
     "execution_count": 34,
     "metadata": {},
     "output_type": "execute_result"
    }
   ],
   "source": [
    "tree = DecisionTreeClassifier(splitter='random', random_state = 2, max_depth = 20, max_leaf_nodes = 1500)  # tested\n",
    "tree.fit(X_tr_prep, y_tr)"
   ]
  },
  {
   "cell_type": "code",
   "execution_count": 239,
   "id": "f5cbbd05",
   "metadata": {},
   "outputs": [
    {
     "name": "stdout",
     "output_type": "stream",
     "text": [
      "0.8763\n"
     ]
    },
    {
     "data": {
      "text/plain": [
       "array([[0.00000000e+00, 1.37136588e-03, 2.74273176e-03, 3.29127811e-03,\n",
       "        5.48546352e-04, 0.00000000e+00, 0.00000000e+00, 9.85189248e-01,\n",
       "        2.74273176e-04, 6.58255623e-03]])"
      ]
     },
     "execution_count": 239,
     "metadata": {},
     "output_type": "execute_result"
    }
   ],
   "source": [
    "print(sum(y_te == tree.predict(X_te_prep)) / len(y_te))  # not bad\n",
    "tree.predict_proba(X_te_prep[0].reshape(1,-1))"
   ]
  },
  {
   "cell_type": "code",
   "execution_count": 49,
   "id": "ed901d98",
   "metadata": {},
   "outputs": [
    {
     "data": {
      "text/plain": [
       "RandomForestClassifier(n_jobs=-1, random_state=3)"
      ]
     },
     "execution_count": 49,
     "metadata": {},
     "output_type": "execute_result"
    }
   ],
   "source": [
    "rnd_forest = RandomForestClassifier(n_jobs=-1, random_state = 3)  # don't even need regularization\n",
    "rnd_forest.fit(X_tr_prep, y_tr)"
   ]
  },
  {
   "cell_type": "code",
   "execution_count": 240,
   "id": "b69eb6a9",
   "metadata": {},
   "outputs": [
    {
     "name": "stdout",
     "output_type": "stream",
     "text": [
      "0.9687\n"
     ]
    },
    {
     "data": {
      "text/plain": [
       "array([[0., 0., 0., 0., 0., 0., 0., 1., 0., 0.]])"
      ]
     },
     "execution_count": 240,
     "metadata": {},
     "output_type": "execute_result"
    }
   ],
   "source": [
    "print(sum(y_te == rnd_forest.predict(X_te_prep)) / len(y_te))  # PAGGING\n",
    "rnd_forest.predict_proba(X_te_prep[0].reshape(1,-1))"
   ]
  },
  {
   "cell_type": "code",
   "execution_count": 51,
   "id": "1e16d17d",
   "metadata": {},
   "outputs": [
    {
     "data": {
      "text/plain": [
       "ExtraTreesClassifier(n_jobs=-1, random_state=4)"
      ]
     },
     "execution_count": 51,
     "metadata": {},
     "output_type": "execute_result"
    }
   ],
   "source": [
    "extra_forest = ExtraTreesClassifier(n_jobs=-1, random_state = 4)\n",
    "extra_forest.fit(X_tr_prep, y_tr)"
   ]
  },
  {
   "cell_type": "code",
   "execution_count": 241,
   "id": "41b466a1",
   "metadata": {},
   "outputs": [
    {
     "name": "stdout",
     "output_type": "stream",
     "text": [
      "0.9706\n"
     ]
    },
    {
     "data": {
      "text/plain": [
       "array([[0.  , 0.03, 0.02, 0.94, 0.  , 0.  , 0.01, 0.  , 0.  , 0.  ]])"
      ]
     },
     "execution_count": 241,
     "metadata": {},
     "output_type": "execute_result"
    }
   ],
   "source": [
    "print(sum(y_te == extra_forest.predict(X_te_prep)) / len(y_te))  # PAGGING\n",
    "extra_forest.predict_proba(X_v_prep[0].reshape(1,-1))"
   ]
  },
  {
   "cell_type": "markdown",
   "id": "03ce1ea6",
   "metadata": {},
   "source": [
    "### Best score in validation set: 97.56% accuracy\n",
    "### Best score in test set          : 97.06% accuracy"
   ]
  },
  {
   "cell_type": "markdown",
   "id": "5863e9f8",
   "metadata": {},
   "source": [
    "# Ensembling"
   ]
  },
  {
   "cell_type": "markdown",
   "id": "693d32f7",
   "metadata": {},
   "source": [
    "## Hard voting"
   ]
  },
  {
   "cell_type": "code",
   "execution_count": 91,
   "id": "0d44a6c8",
   "metadata": {},
   "outputs": [
    {
     "data": {
      "text/plain": [
       "(5, 10000)"
      ]
     },
     "execution_count": 91,
     "metadata": {},
     "output_type": "execute_result"
    }
   ],
   "source": [
    "models = [log_reg, lin_svc, tree, rnd_forest, extra_forest]\n",
    "predictions = []\n",
    "\n",
    "for model in models:\n",
    "    predictions.append(log_reg.predict(X_v_prep))\n",
    "    \n",
    "predictions = np.array(predictions)\n",
    "predictions.shape"
   ]
  },
  {
   "cell_type": "code",
   "execution_count": 92,
   "id": "df07ad1c",
   "metadata": {},
   "outputs": [
    {
     "data": {
      "text/plain": [
       "(10000,)"
      ]
     },
     "execution_count": 92,
     "metadata": {},
     "output_type": "execute_result"
    }
   ],
   "source": [
    "from scipy.stats import mode\n",
    "\n",
    "final_predictions = mode(predictions, axis=0)[0][0]  # first [0] for mode values, second [0] cause its 1D\n",
    "final_predictions.shape"
   ]
  },
  {
   "cell_type": "code",
   "execution_count": 93,
   "id": "2d78bc64",
   "metadata": {},
   "outputs": [
    {
     "name": "stdout",
     "output_type": "stream",
     "text": [
      "0.9183\n"
     ]
    }
   ],
   "source": [
    "print(sum(final_predictions == y_v) / len(y_v))   # Actually... Worse than the best models. Let's try the one from mlxtend"
   ]
  },
  {
   "cell_type": "code",
   "execution_count": 95,
   "id": "7971e6c2",
   "metadata": {},
   "outputs": [
    {
     "name": "stdout",
     "output_type": "stream",
     "text": [
      "[SGDClassifier(early_stopping=True, loss='log', n_jobs=-1, random_state=0), SVC(kernel='linear', probability=True, random_state=1), DecisionTreeClassifier(max_depth=20, max_leaf_nodes=1500, random_state=2,\n",
      "                       splitter='random'), RandomForestClassifier(n_jobs=-1, random_state=3), ExtraTreesClassifier(n_jobs=-1, random_state=4)]\n"
     ]
    }
   ],
   "source": [
    "from mlxtend.classifier import EnsembleVoteClassifier  # doens't require refitting the models\n",
    "import copy\n",
    "\n",
    "hclf = EnsembleVoteClassifier(clfs=models, voting='hard', fit_base_estimators=False)\n",
    "hclf.fit(X_tr_prep, y_tr)"
   ]
  },
  {
   "cell_type": "code",
   "execution_count": 96,
   "id": "8c9afb17",
   "metadata": {},
   "outputs": [
    {
     "data": {
      "text/plain": [
       "0.9684"
      ]
     },
     "execution_count": 96,
     "metadata": {},
     "output_type": "execute_result"
    }
   ],
   "source": [
    "np.mean(y_v == hclf.predict(X_v_prep))  # better than my implementation, but still worse than the best model"
   ]
  },
  {
   "cell_type": "code",
   "execution_count": 242,
   "id": "16dddc66",
   "metadata": {},
   "outputs": [
    {
     "data": {
      "text/plain": [
       "0.9633"
      ]
     },
     "execution_count": 242,
     "metadata": {},
     "output_type": "execute_result"
    }
   ],
   "source": [
    "# on the test set...\n",
    "\n",
    "np.mean(y_te == hclf.predict(X_te_prep))"
   ]
  },
  {
   "cell_type": "markdown",
   "id": "abd28f32",
   "metadata": {},
   "source": [
    "### Best score in validation set: 96.84% accuracy\n",
    "### Best score in test set          : 96.33% accuracy"
   ]
  },
  {
   "cell_type": "markdown",
   "id": "bfe3d7f1",
   "metadata": {},
   "source": [
    "## Weighed hard voting"
   ]
  },
  {
   "cell_type": "code",
   "execution_count": 97,
   "id": "551edb74",
   "metadata": {},
   "outputs": [],
   "source": [
    "# Let's try to make the best performing models more relevant\n",
    "\n",
    "log_reg_w = np.mean(y_v == log_reg.predict(X_v_prep))\n",
    "lin_svc_w = np.mean(y_v == lin_svc.predict(X_v_prep))\n",
    "tree_w = np.mean(y_v == tree.predict(X_v_prep))\n",
    "rnd_forest_w = np.mean(y_v == rnd_forest.predict(X_v_prep))\n",
    "extra_forest_w = np.mean(y_v == extra_forest.predict(X_v_prep))"
   ]
  },
  {
   "cell_type": "code",
   "execution_count": 101,
   "id": "76078886",
   "metadata": {},
   "outputs": [
    {
     "data": {
      "text/plain": [
       "[0.19637320103500633,\n",
       " 0.19836195282595215,\n",
       " 0.18871757586125784,\n",
       " 0.20792079207920797,\n",
       " 0.20862647819857583]"
      ]
     },
     "execution_count": 101,
     "metadata": {},
     "output_type": "execute_result"
    }
   ],
   "source": [
    "w = [log_reg_w, lin_svc_w, tree_w, rnd_forest_w, extra_forest_w]\n",
    "w = list(w / sum(w))  # gives a percentage value\n",
    "w"
   ]
  },
  {
   "cell_type": "code",
   "execution_count": 103,
   "id": "a49ca04d",
   "metadata": {},
   "outputs": [
    {
     "data": {
      "text/plain": [
       "EnsembleVoteClassifier(clfs=[SGDClassifier(early_stopping=True, loss='log',\n",
       "                                           n_jobs=-1, random_state=0),\n",
       "                             SVC(kernel='linear', probability=True,\n",
       "                                 random_state=1),\n",
       "                             DecisionTreeClassifier(max_depth=20,\n",
       "                                                    max_leaf_nodes=1500,\n",
       "                                                    random_state=2,\n",
       "                                                    splitter='random'),\n",
       "                             RandomForestClassifier(n_jobs=-1, random_state=3),\n",
       "                             ExtraTreesClassifier(n_jobs=-1, random_state=4)],\n",
       "                       fit_base_estimators=False, use_clones=False,\n",
       "                       weights=[0.19637320103500633, 0.19836195282595215,\n",
       "                                0.18871757586125784, 0.20792079207920797,\n",
       "                                0.20862647819857583])"
      ]
     },
     "execution_count": 103,
     "metadata": {},
     "output_type": "execute_result"
    }
   ],
   "source": [
    "hclf_w = EnsembleVoteClassifier(clfs=models, voting='hard', weights=w, fit_base_estimators=False)\n",
    "hclf_w.fit(X_tr_prep, y_tr)"
   ]
  },
  {
   "cell_type": "code",
   "execution_count": 104,
   "id": "f4e6a1e5",
   "metadata": {},
   "outputs": [
    {
     "data": {
      "text/plain": [
       "0.9716"
      ]
     },
     "execution_count": 104,
     "metadata": {},
     "output_type": "execute_result"
    }
   ],
   "source": [
    "np.mean(y_v == hclf_w.predict(X_v_prep)) # a step in the right direction! lets try to make the weights even bigger"
   ]
  },
  {
   "cell_type": "code",
   "execution_count": 137,
   "id": "2605fafb",
   "metadata": {},
   "outputs": [
    {
     "data": {
      "text/plain": [
       "[0.15672912560398813,\n",
       " 0.17334497918802788,\n",
       " 0.10530548873647866,\n",
       " 0.2775279482739827,\n",
       " 0.28709245819752266]"
      ]
     },
     "execution_count": 137,
     "metadata": {},
     "output_type": "execute_result"
    }
   ],
   "source": [
    "super_w = [log_reg_w, lin_svc_w, tree_w, rnd_forest_w, extra_forest_w]\n",
    "\n",
    "for i in range(len(super_w)):\n",
    "    super_w[i] = (super_w[i]*10)**10     # makes the weight bigger than 1 and raise them to some factor\n",
    "    \n",
    "super_w = list(super_w / sum(super_w))  # gives a percentage value    \n",
    "\n",
    "super_w"
   ]
  },
  {
   "cell_type": "code",
   "execution_count": 135,
   "id": "3b0e452a",
   "metadata": {},
   "outputs": [
    {
     "data": {
      "text/plain": [
       "EnsembleVoteClassifier(clfs=[SGDClassifier(early_stopping=True, loss='log',\n",
       "                                           n_jobs=-1, random_state=0),\n",
       "                             SVC(kernel='linear', probability=True,\n",
       "                                 random_state=1),\n",
       "                             DecisionTreeClassifier(max_depth=20,\n",
       "                                                    max_leaf_nodes=1500,\n",
       "                                                    random_state=2,\n",
       "                                                    splitter='random'),\n",
       "                             RandomForestClassifier(n_jobs=-1, random_state=3),\n",
       "                             ExtraTreesClassifier(n_jobs=-1, random_state=4)],\n",
       "                       fit_base_estimators=False, use_clones=False,\n",
       "                       weights=[0.15672912560398813, 0.17334497918802788,\n",
       "                                0.10530548873647866, 0.2775279482739827,\n",
       "                                0.28709245819752266])"
      ]
     },
     "execution_count": 135,
     "metadata": {},
     "output_type": "execute_result"
    }
   ],
   "source": [
    "hclf_sw = EnsembleVoteClassifier(clfs=models, voting='hard', weights=super_w, fit_base_estimators=False)\n",
    "hclf_sw.fit(X_tr_prep, y_tr)"
   ]
  },
  {
   "cell_type": "code",
   "execution_count": 136,
   "id": "ce1fe412",
   "metadata": {},
   "outputs": [
    {
     "data": {
      "text/plain": [
       "0.9744"
      ]
     },
     "execution_count": 136,
     "metadata": {},
     "output_type": "execute_result"
    }
   ],
   "source": [
    "np.mean(y_v == hclf_sw.predict(X_v_prep))  # slightly better!"
   ]
  },
  {
   "cell_type": "code",
   "execution_count": 243,
   "id": "05027d3f",
   "metadata": {},
   "outputs": [
    {
     "data": {
      "text/plain": [
       "0.9695"
      ]
     },
     "execution_count": 243,
     "metadata": {},
     "output_type": "execute_result"
    }
   ],
   "source": [
    "# on the test set...\n",
    "\n",
    "np.mean(y_te == hclf_sw.predict(X_te_prep))"
   ]
  },
  {
   "cell_type": "markdown",
   "id": "cd016b4e",
   "metadata": {},
   "source": [
    "### Best score in validation set: 97.44% accuracy\n",
    "### Best score in test set          : 96.95% accuracy"
   ]
  },
  {
   "cell_type": "markdown",
   "id": "c2f52ae0",
   "metadata": {},
   "source": [
    "## Soft voting"
   ]
  },
  {
   "cell_type": "code",
   "execution_count": 139,
   "id": "929090c3",
   "metadata": {},
   "outputs": [
    {
     "data": {
      "text/plain": [
       "EnsembleVoteClassifier(clfs=[SGDClassifier(early_stopping=True, loss='log',\n",
       "                                           n_jobs=-1, random_state=0),\n",
       "                             SVC(kernel='linear', probability=True,\n",
       "                                 random_state=1),\n",
       "                             DecisionTreeClassifier(max_depth=20,\n",
       "                                                    max_leaf_nodes=1500,\n",
       "                                                    random_state=2,\n",
       "                                                    splitter='random'),\n",
       "                             RandomForestClassifier(n_jobs=-1, random_state=3),\n",
       "                             ExtraTreesClassifier(n_jobs=-1, random_state=4)],\n",
       "                       fit_base_estimators=False, use_clones=False,\n",
       "                       voting='soft')"
      ]
     },
     "execution_count": 139,
     "metadata": {},
     "output_type": "execute_result"
    }
   ],
   "source": [
    "sclf = EnsembleVoteClassifier(clfs=models, voting='soft', fit_base_estimators=False)\n",
    "sclf.fit(X_tr_prep, y_tr)"
   ]
  },
  {
   "cell_type": "code",
   "execution_count": 140,
   "id": "dcfa8a31",
   "metadata": {},
   "outputs": [
    {
     "name": "stderr",
     "output_type": "stream",
     "text": [
      "c:\\users\\vlcan\\machine_learning_python\\mnist\\venv\\lib\\site-packages\\sklearn\\linear_model\\_base.py:329: RuntimeWarning: invalid value encountered in true_divide\n",
      "  prob /= prob.sum(axis=1).reshape((prob.shape[0], -1))\n"
     ]
    },
    {
     "data": {
      "text/plain": [
       "0.9557"
      ]
     },
     "execution_count": 140,
     "metadata": {},
     "output_type": "execute_result"
    }
   ],
   "source": [
    "np.mean(y_v == sclf.predict(X_v_prep))  # Yeah, not the greatest. \n",
    "\n",
    "# That might be because some models are way confident, specially when they are wrong"
   ]
  },
  {
   "cell_type": "code",
   "execution_count": 244,
   "id": "6f4e7822",
   "metadata": {},
   "outputs": [
    {
     "name": "stderr",
     "output_type": "stream",
     "text": [
      "c:\\users\\vlcan\\machine_learning_python\\mnist\\venv\\lib\\site-packages\\sklearn\\linear_model\\_base.py:329: RuntimeWarning: invalid value encountered in true_divide\n",
      "  prob /= prob.sum(axis=1).reshape((prob.shape[0], -1))\n"
     ]
    },
    {
     "data": {
      "text/plain": [
       "0.9507"
      ]
     },
     "execution_count": 244,
     "metadata": {},
     "output_type": "execute_result"
    }
   ],
   "source": [
    "# on the test set...\n",
    "\n",
    "np.mean(y_te == sclf.predict(X_te_prep))"
   ]
  },
  {
   "cell_type": "markdown",
   "id": "a8ce141f",
   "metadata": {},
   "source": [
    "### Best score in validation set: 95.57% accuracy\n",
    "### Best score in test set          : 95.07% accuracy"
   ]
  },
  {
   "cell_type": "markdown",
   "id": "322e34b8",
   "metadata": {},
   "source": [
    "## Weighed soft voting"
   ]
  },
  {
   "cell_type": "code",
   "execution_count": 168,
   "id": "394a0892",
   "metadata": {},
   "outputs": [
    {
     "data": {
      "text/plain": [
       "[0.0244948996175226,\n",
       " 0.04053997219252782,\n",
       " 0.0033541474551418136,\n",
       " 0.4264427504301517,\n",
       " 0.5051682303046561]"
      ]
     },
     "execution_count": 168,
     "metadata": {},
     "output_type": "execute_result"
    }
   ],
   "source": [
    "super_s_w = [log_reg_w, lin_svc_w, tree_w, rnd_forest_w, extra_forest_w]\n",
    "\n",
    "for i in range(len(super_s_w)):\n",
    "    super_s_w[i] = (super_s_w[i]*10)**50     # makes the weight bigger than 1 and raise them to some factor\n",
    "    \n",
    "super_s_w = list(super_s_w / sum(super_s_w))  # gives a percentage value    \n",
    "\n",
    "super_s_w"
   ]
  },
  {
   "cell_type": "code",
   "execution_count": 170,
   "id": "2537ba74",
   "metadata": {},
   "outputs": [
    {
     "data": {
      "text/plain": [
       "EnsembleVoteClassifier(clfs=[SGDClassifier(early_stopping=True, loss='log',\n",
       "                                           n_jobs=-1, random_state=0),\n",
       "                             SVC(kernel='linear', probability=True,\n",
       "                                 random_state=1),\n",
       "                             DecisionTreeClassifier(max_depth=20,\n",
       "                                                    max_leaf_nodes=1500,\n",
       "                                                    random_state=2,\n",
       "                                                    splitter='random'),\n",
       "                             RandomForestClassifier(n_jobs=-1, random_state=3),\n",
       "                             ExtraTreesClassifier(n_jobs=-1, random_state=4)],\n",
       "                       fit_base_estimators=False, use_clones=False,\n",
       "                       voting='soft',\n",
       "                       weights=[0.0244948996175226, 0.04053997219252782,\n",
       "                                0.0033541474551418136, 0.4264427504301517,\n",
       "                                0.5051682303046561])"
      ]
     },
     "execution_count": 170,
     "metadata": {},
     "output_type": "execute_result"
    }
   ],
   "source": [
    "sclf_w = EnsembleVoteClassifier(clfs=models, voting='soft', weights = super_s_w, fit_base_estimators=False)\n",
    "sclf_w.fit(X_tr_prep, y_tr)"
   ]
  },
  {
   "cell_type": "code",
   "execution_count": 171,
   "id": "59f5f860",
   "metadata": {},
   "outputs": [
    {
     "name": "stderr",
     "output_type": "stream",
     "text": [
      "c:\\users\\vlcan\\machine_learning_python\\mnist\\venv\\lib\\site-packages\\sklearn\\linear_model\\_base.py:329: RuntimeWarning: invalid value encountered in true_divide\n",
      "  prob /= prob.sum(axis=1).reshape((prob.shape[0], -1))\n"
     ]
    },
    {
     "data": {
      "text/plain": [
       "0.9756"
      ]
     },
     "execution_count": 171,
     "metadata": {},
     "output_type": "execute_result"
    }
   ],
   "source": [
    "np.mean(y_v == sclf_w.predict(X_v_prep))  # EXACTLY the same as the best model (probably because of the weights)"
   ]
  },
  {
   "cell_type": "code",
   "execution_count": 245,
   "id": "de3c1ef1",
   "metadata": {},
   "outputs": [
    {
     "name": "stderr",
     "output_type": "stream",
     "text": [
      "c:\\users\\vlcan\\machine_learning_python\\mnist\\venv\\lib\\site-packages\\sklearn\\linear_model\\_base.py:329: RuntimeWarning: invalid value encountered in true_divide\n",
      "  prob /= prob.sum(axis=1).reshape((prob.shape[0], -1))\n"
     ]
    },
    {
     "data": {
      "text/plain": [
       "0.97"
      ]
     },
     "execution_count": 245,
     "metadata": {},
     "output_type": "execute_result"
    }
   ],
   "source": [
    "# on the test set...\n",
    "\n",
    "np.mean(y_te == sclf_w.predict(X_te_prep))"
   ]
  },
  {
   "cell_type": "markdown",
   "id": "8321c296",
   "metadata": {},
   "source": [
    "### Best score in validation set: 97.56% accuracy\n",
    "### Best score in test set          : 97.00% accuracy (almost there)"
   ]
  },
  {
   "cell_type": "markdown",
   "id": "f653b156",
   "metadata": {},
   "source": [
    "# Stacking"
   ]
  },
  {
   "cell_type": "markdown",
   "id": "fc46de96",
   "metadata": {},
   "source": [
    "## Hard meta dataset"
   ]
  },
  {
   "cell_type": "code",
   "execution_count": 251,
   "id": "e147a54b",
   "metadata": {},
   "outputs": [],
   "source": [
    "def metafy(dataset, clfs, mode):\n",
    "    \n",
    "    if mode == 'hard':\n",
    "        hard_meta_dataset = []\n",
    "\n",
    "        for model in clfs:\n",
    "            hard_meta_dataset.append(model.predict(dataset))\n",
    "\n",
    "        return np.array(hard_meta_dataset).transpose()\n",
    "\n",
    "    elif mode == 'soft':\n",
    "        soft_meta_dataset = []\n",
    "        \n",
    "        for model in clfs:\n",
    "            soft_meta_dataset.append(model.predict_proba(dataset))\n",
    "    \n",
    "        return np.array(soft_meta_dataset).transpose(1, 0, 2).reshape((10000, -1))\n",
    "    \n",
    "    return None"
   ]
  },
  {
   "cell_type": "code",
   "execution_count": 190,
   "id": "89ad5342",
   "metadata": {},
   "outputs": [
    {
     "data": {
      "text/plain": [
       "(10000, 5)"
      ]
     },
     "execution_count": 190,
     "metadata": {},
     "output_type": "execute_result"
    }
   ],
   "source": [
    "hard_meta_dataset = metafy(X_v_prep, models, 'hard')\n",
    "hard_meta_dataset.shape"
   ]
  },
  {
   "cell_type": "code",
   "execution_count": 191,
   "id": "15e1aed8",
   "metadata": {},
   "outputs": [
    {
     "data": {
      "text/html": [
       "<div>\n",
       "<style scoped>\n",
       "    .dataframe tbody tr th:only-of-type {\n",
       "        vertical-align: middle;\n",
       "    }\n",
       "\n",
       "    .dataframe tbody tr th {\n",
       "        vertical-align: top;\n",
       "    }\n",
       "\n",
       "    .dataframe thead th {\n",
       "        text-align: right;\n",
       "    }\n",
       "</style>\n",
       "<table border=\"1\" class=\"dataframe\">\n",
       "  <thead>\n",
       "    <tr style=\"text-align: right;\">\n",
       "      <th></th>\n",
       "      <th>0</th>\n",
       "      <th>1</th>\n",
       "      <th>2</th>\n",
       "      <th>3</th>\n",
       "      <th>4</th>\n",
       "    </tr>\n",
       "  </thead>\n",
       "  <tbody>\n",
       "    <tr>\n",
       "      <th>0</th>\n",
       "      <td>3</td>\n",
       "      <td>3</td>\n",
       "      <td>3</td>\n",
       "      <td>3</td>\n",
       "      <td>3</td>\n",
       "    </tr>\n",
       "    <tr>\n",
       "      <th>1</th>\n",
       "      <td>8</td>\n",
       "      <td>8</td>\n",
       "      <td>8</td>\n",
       "      <td>8</td>\n",
       "      <td>8</td>\n",
       "    </tr>\n",
       "    <tr>\n",
       "      <th>2</th>\n",
       "      <td>6</td>\n",
       "      <td>6</td>\n",
       "      <td>6</td>\n",
       "      <td>6</td>\n",
       "      <td>6</td>\n",
       "    </tr>\n",
       "    <tr>\n",
       "      <th>3</th>\n",
       "      <td>9</td>\n",
       "      <td>9</td>\n",
       "      <td>9</td>\n",
       "      <td>9</td>\n",
       "      <td>9</td>\n",
       "    </tr>\n",
       "    <tr>\n",
       "      <th>4</th>\n",
       "      <td>6</td>\n",
       "      <td>6</td>\n",
       "      <td>6</td>\n",
       "      <td>6</td>\n",
       "      <td>6</td>\n",
       "    </tr>\n",
       "    <tr>\n",
       "      <th>...</th>\n",
       "      <td>...</td>\n",
       "      <td>...</td>\n",
       "      <td>...</td>\n",
       "      <td>...</td>\n",
       "      <td>...</td>\n",
       "    </tr>\n",
       "    <tr>\n",
       "      <th>9995</th>\n",
       "      <td>8</td>\n",
       "      <td>8</td>\n",
       "      <td>8</td>\n",
       "      <td>8</td>\n",
       "      <td>8</td>\n",
       "    </tr>\n",
       "    <tr>\n",
       "      <th>9996</th>\n",
       "      <td>3</td>\n",
       "      <td>3</td>\n",
       "      <td>3</td>\n",
       "      <td>3</td>\n",
       "      <td>3</td>\n",
       "    </tr>\n",
       "    <tr>\n",
       "      <th>9997</th>\n",
       "      <td>5</td>\n",
       "      <td>5</td>\n",
       "      <td>5</td>\n",
       "      <td>5</td>\n",
       "      <td>5</td>\n",
       "    </tr>\n",
       "    <tr>\n",
       "      <th>9998</th>\n",
       "      <td>6</td>\n",
       "      <td>6</td>\n",
       "      <td>6</td>\n",
       "      <td>6</td>\n",
       "      <td>6</td>\n",
       "    </tr>\n",
       "    <tr>\n",
       "      <th>9999</th>\n",
       "      <td>8</td>\n",
       "      <td>8</td>\n",
       "      <td>8</td>\n",
       "      <td>8</td>\n",
       "      <td>8</td>\n",
       "    </tr>\n",
       "  </tbody>\n",
       "</table>\n",
       "<p>10000 rows × 5 columns</p>\n",
       "</div>"
      ],
      "text/plain": [
       "      0  1  2  3  4\n",
       "0     3  3  3  3  3\n",
       "1     8  8  8  8  8\n",
       "2     6  6  6  6  6\n",
       "3     9  9  9  9  9\n",
       "4     6  6  6  6  6\n",
       "...  .. .. .. .. ..\n",
       "9995  8  8  8  8  8\n",
       "9996  3  3  3  3  3\n",
       "9997  5  5  5  5  5\n",
       "9998  6  6  6  6  6\n",
       "9999  8  8  8  8  8\n",
       "\n",
       "[10000 rows x 5 columns]"
      ]
     },
     "execution_count": 191,
     "metadata": {},
     "output_type": "execute_result"
    }
   ],
   "source": [
    "pandas.DataFrame(hard_meta_dataset)"
   ]
  },
  {
   "cell_type": "code",
   "execution_count": 221,
   "id": "ccafde77",
   "metadata": {},
   "outputs": [
    {
     "data": {
      "text/plain": [
       "DecisionTreeClassifier(min_impurity_decrease=0.08)"
      ]
     },
     "execution_count": 221,
     "metadata": {},
     "output_type": "execute_result"
    }
   ],
   "source": [
    "# Meta learner: decisionTreeClassifier (easy to train, doesn't need scaling, and doesn't relies mostly on integers)\n",
    "\n",
    "hard_blender = DecisionTreeClassifier(min_impurity_decrease = 0.08)  # tested\n",
    "hard_blender.fit(hard_meta_dataset, y_v)"
   ]
  },
  {
   "cell_type": "code",
   "execution_count": 224,
   "id": "6dadf6ee",
   "metadata": {},
   "outputs": [],
   "source": [
    "hard_meta_test = metafy(X_te_prep, models, 'hard')"
   ]
  },
  {
   "cell_type": "code",
   "execution_count": 222,
   "id": "87953e93",
   "metadata": {},
   "outputs": [
    {
     "name": "stdout",
     "output_type": "stream",
     "text": [
      "0.9706\n"
     ]
    }
   ],
   "source": [
    "# testing...\n",
    "\n",
    "print(np.mean(y_te == hard_blender.predict(hard_meta_test)))  # EXACTLY 97.06. But maybe the model could be better?"
   ]
  },
  {
   "cell_type": "code",
   "execution_count": 233,
   "id": "156895c2",
   "metadata": {},
   "outputs": [
    {
     "data": {
      "text/plain": [
       "SGDClassifier()"
      ]
     },
     "execution_count": 233,
     "metadata": {},
     "output_type": "execute_result"
    }
   ],
   "source": [
    "# Meta learner: SGDClassifier (simple model aswell)\n",
    "\n",
    "hard_blender_svc = SGDClassifier()\n",
    "hard_blender_svc.fit(hard_meta_dataset, y_v)"
   ]
  },
  {
   "cell_type": "code",
   "execution_count": 234,
   "id": "1cd1d4dc",
   "metadata": {},
   "outputs": [
    {
     "name": "stdout",
     "output_type": "stream",
     "text": [
      "0.379\n"
     ]
    }
   ],
   "source": [
    "print(np.mean(y_te == hard_blender_svc.predict(hard_meta_test)))  # NOPE"
   ]
  },
  {
   "cell_type": "markdown",
   "id": "5ed7ca36",
   "metadata": {},
   "source": [
    "### Best score in test set: 97.06% accuracy (exactly)"
   ]
  },
  {
   "cell_type": "markdown",
   "id": "0fc9bbb6",
   "metadata": {},
   "source": [
    "## Soft meta dataset"
   ]
  },
  {
   "cell_type": "code",
   "execution_count": 252,
   "id": "babf2941",
   "metadata": {},
   "outputs": [
    {
     "name": "stderr",
     "output_type": "stream",
     "text": [
      "c:\\users\\vlcan\\machine_learning_python\\mnist\\venv\\lib\\site-packages\\sklearn\\linear_model\\_base.py:329: RuntimeWarning: invalid value encountered in true_divide\n",
      "  prob /= prob.sum(axis=1).reshape((prob.shape[0], -1))\n"
     ]
    },
    {
     "data": {
      "text/plain": [
       "(10000, 50)"
      ]
     },
     "execution_count": 252,
     "metadata": {},
     "output_type": "execute_result"
    }
   ],
   "source": [
    "soft_val_set = metafy(X_v_prep, models, 'soft')\n",
    "soft_val_set.shape"
   ]
  },
  {
   "cell_type": "code",
   "execution_count": 265,
   "id": "7acb0b71",
   "metadata": {},
   "outputs": [
    {
     "data": {
      "text/plain": [
       "array([[0.00000000e+000, 4.81557283e-112, 2.98925251e-125, ...,\n",
       "        0.00000000e+000, 0.00000000e+000, 0.00000000e+000],\n",
       "       [0.00000000e+000, 0.00000000e+000, 9.79680017e-252, ...,\n",
       "        2.00000000e-002, 8.90000000e-001, 1.00000000e-002],\n",
       "       [7.31314316e-282, 0.00000000e+000, 5.82946950e-264, ...,\n",
       "        0.00000000e+000, 1.00000000e-002, 0.00000000e+000],\n",
       "       ...,\n",
       "       [0.00000000e+000, 8.80307788e-294, 0.00000000e+000, ...,\n",
       "        1.00000000e-002, 0.00000000e+000, 5.00000000e-002],\n",
       "       [0.00000000e+000, 0.00000000e+000, 0.00000000e+000, ...,\n",
       "        0.00000000e+000, 2.00000000e-002, 1.00000000e-002],\n",
       "       [1.01963272e-234, 0.00000000e+000, 0.00000000e+000, ...,\n",
       "        1.00000000e-002, 7.10000000e-001, 2.00000000e-002]])"
      ]
     },
     "execution_count": 265,
     "metadata": {},
     "output_type": "execute_result"
    }
   ],
   "source": [
    "np.nan_to_num(soft_val_set, copy=False)\n",
    "\n",
    "#pandas.DataFrame(soft_val_set).info()"
   ]
  },
  {
   "cell_type": "code",
   "execution_count": 264,
   "id": "b9798d91",
   "metadata": {},
   "outputs": [
    {
     "data": {
      "text/plain": [
       "RandomForestClassifier(random_state=42)"
      ]
     },
     "execution_count": 264,
     "metadata": {},
     "output_type": "execute_result"
    }
   ],
   "source": [
    "# Meta learner: RandomForest (why not?)\n",
    "\n",
    "soft_blender = RandomForestClassifier(random_state = 42) \n",
    "soft_blender.fit(soft_val_set, y_v)"
   ]
  },
  {
   "cell_type": "code",
   "execution_count": 266,
   "id": "391e1596",
   "metadata": {},
   "outputs": [
    {
     "name": "stderr",
     "output_type": "stream",
     "text": [
      "c:\\users\\vlcan\\machine_learning_python\\mnist\\venv\\lib\\site-packages\\sklearn\\linear_model\\_base.py:329: RuntimeWarning: invalid value encountered in true_divide\n",
      "  prob /= prob.sum(axis=1).reshape((prob.shape[0], -1))\n"
     ]
    }
   ],
   "source": [
    "soft_meta_test = metafy(X_te_prep, models, 'soft')"
   ]
  },
  {
   "cell_type": "code",
   "execution_count": 268,
   "id": "381193cc",
   "metadata": {},
   "outputs": [
    {
     "name": "stdout",
     "output_type": "stream",
     "text": [
      "0.9722\n"
     ]
    }
   ],
   "source": [
    "# testing...\n",
    "\n",
    "np.nan_to_num(soft_meta_test, copy=False)\n",
    "\n",
    "print(np.mean(y_te == soft_blender.predict(soft_meta_test)))  # FI NA LLY!!!"
   ]
  },
  {
   "cell_type": "markdown",
   "id": "32f98a7e",
   "metadata": {},
   "source": [
    "### Best score in test set: 97.22% accuracy (BETTER)"
   ]
  },
  {
   "cell_type": "code",
   "execution_count": 270,
   "id": "21e66028",
   "metadata": {},
   "outputs": [
    {
     "name": "stderr",
     "output_type": "stream",
     "text": [
      "c:\\users\\vlcan\\machine_learning_python\\mnist\\venv\\lib\\site-packages\\sklearn\\linear_model\\_base.py:329: RuntimeWarning: invalid value encountered in true_divide\n",
      "  prob /= prob.sum(axis=1).reshape((prob.shape[0], -1))\n",
      "c:\\users\\vlcan\\machine_learning_python\\mnist\\venv\\lib\\site-packages\\sklearn\\linear_model\\_base.py:329: RuntimeWarning: invalid value encountered in true_divide\n",
      "  prob /= prob.sum(axis=1).reshape((prob.shape[0], -1))\n"
     ]
    },
    {
     "name": "stdout",
     "output_type": "stream",
     "text": [
      "0.9718\n"
     ]
    }
   ],
   "source": [
    "### INCREASING SPEED (The SVC is veeery slow and isn't even among the best ones. Let's remove it)\n",
    "\n",
    "new_models = [log_reg, tree, rnd_forest, extra_forest]\n",
    "\n",
    "new_soft_val_set = metafy(X_v_prep, new_models, 'soft')\n",
    "np.nan_to_num(new_soft_val_set, copy=False)\n",
    "\n",
    "new_soft_blender = RandomForestClassifier(random_state = 42)\n",
    "new_soft_blender.fit(new_soft_val_set, y_v)\n",
    "\n",
    "new_soft_meta_test = metafy(X_te_prep, new_models, 'soft')\n",
    "np.nan_to_num(new_soft_meta_test, copy=False)\n",
    "\n",
    "print(np.mean(y_te == new_soft_blender.predict(new_soft_meta_test)))"
   ]
  },
  {
   "cell_type": "markdown",
   "id": "5a322941",
   "metadata": {},
   "source": [
    "### That was a lot faster. It's not the best model in performance, but overall, I think it is the best one"
   ]
  },
  {
   "cell_type": "code",
   "execution_count": null,
   "id": "d071237f",
   "metadata": {},
   "outputs": [],
   "source": []
  }
 ],
 "metadata": {
  "kernelspec": {
   "display_name": "Python 3",
   "language": "python",
   "name": "python3"
  },
  "language_info": {
   "codemirror_mode": {
    "name": "ipython",
    "version": 3
   },
   "file_extension": ".py",
   "mimetype": "text/x-python",
   "name": "python",
   "nbconvert_exporter": "python",
   "pygments_lexer": "ipython3",
   "version": "3.9.7"
  }
 },
 "nbformat": 4,
 "nbformat_minor": 5
}
