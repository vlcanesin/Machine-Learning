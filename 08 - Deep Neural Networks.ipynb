{
 "cells": [
  {
   "cell_type": "code",
   "execution_count": 1,
   "id": "b15e482f",
   "metadata": {
    "collapsed": true,
    "scrolled": true
   },
   "outputs": [],
   "source": [
    "from tensorflow import keras"
   ]
  },
  {
   "cell_type": "code",
   "execution_count": 4,
   "id": "8c7a16e8",
   "metadata": {
    "collapsed": true,
    "scrolled": true
   },
   "outputs": [],
   "source": [
    "import numpy as np\n",
    "\n",
    "data = keras.datasets.cifar10.load_data()"
   ]
  },
  {
   "cell_type": "code",
   "execution_count": 5,
   "id": "33f3e835",
   "metadata": {
    "scrolled": true
   },
   "outputs": [
    {
     "data": {
      "text/plain": [
       "(40000, 32, 32, 3)"
      ]
     },
     "execution_count": 5,
     "metadata": {},
     "output_type": "execute_result"
    }
   ],
   "source": [
    "(X_train_full, y_train_full), (X_test, y_test) = data\n",
    "X_train, X_val, y_train, y_val = X_train_full[:40000], X_train_full[40000:], y_train_full[:40000], y_train_full[40000:]\n",
    "\n",
    "X_train.shape"
   ]
  },
  {
   "cell_type": "code",
   "execution_count": 6,
   "id": "d8efa10d",
   "metadata": {
    "collapsed": true,
    "scrolled": true
   },
   "outputs": [],
   "source": [
    "from sklearn.preprocessing import StandardScaler\n",
    "\n",
    "X_train_flat = X_train.reshape(-1, 32*32*3)\n",
    "X_val_flat = X_val.reshape(-1, 32*32*3)\n",
    "X_test_flat = X_test.reshape(-1, 32*32*3)\n",
    "\n",
    "scaler = StandardScaler()\n",
    "X_trains = scaler.fit_transform(X_train.reshape(-1, 32*32*3))\n",
    "X_vals = scaler.transform(X_val.reshape(-1, 32*32*3))\n",
    "X_tests = scaler.transform(X_test.reshape(-1, 32*32*3))\n",
    "\n",
    "#X_trains, X_vals, X_tests = X_train / 255, X_val / 255, X_val / 255"
   ]
  },
  {
   "cell_type": "code",
   "execution_count": 5,
   "id": "ac3e659d",
   "metadata": {
    "collapsed": true,
    "scrolled": true
   },
   "outputs": [],
   "source": [
    "dnn = keras.Sequential()\n",
    "\n",
    "dnn.add(keras.layers.Flatten(input_shape=[32*32*3]))\n",
    "\n",
    "for i in range(20):\n",
    "    dnn.add(\n",
    "        keras.layers.Dense(\n",
    "            100, \n",
    "            activation=keras.activations.elu,\n",
    "            kernel_initializer='he_normal'\n",
    "        )\n",
    "    )\n",
    "\n",
    "dnn.add(keras.layers.Dense(10, activation='softmax'))"
   ]
  },
  {
   "cell_type": "code",
   "execution_count": 6,
   "id": "98ad85bc",
   "metadata": {
    "scrolled": true
   },
   "outputs": [
    {
     "name": "stdout",
     "output_type": "stream",
     "text": [
      "1250/1250 [==============================] - 14s 8ms/step - loss: 2.4887 - accuracy: 0.1824\n",
      "1250/1250 [==============================] - 12s 8ms/step - loss: 1.9926 - accuracy: 0.2838\n",
      "1250/1250 [==============================] - 13s 9ms/step - loss: 1.8266 - accuracy: 0.3438\n",
      "1250/1250 [==============================] - 13s 8ms/step - loss: 1.7187 - accuracy: 0.3832\n",
      "1250/1250 [==============================] - 12s 8ms/step - loss: 1.6365 - accuracy: 0.4159\n",
      "1250/1250 [==============================] - 13s 8ms/step - loss: 1.5765 - accuracy: 0.4339\n",
      "1250/1250 [==============================] - 17s 12ms/step - loss: 1.5264 - accuracy: 0.4551\n",
      "1250/1250 [==============================] - 16s 11ms/step - loss: 1.4909 - accuracy: 0.4663\n",
      "1250/1250 [==============================] - 15s 9ms/step - loss: 1.4710 - accuracy: 0.4764\n",
      "1250/1250 [==============================] - 14s 9ms/step - loss: 1.4564 - accuracy: 0.4837\n",
      "1250/1250 [==============================] - 13s 9ms/step - loss: 1.4524 - accuracy: 0.4848\n",
      "1250/1250 [==============================] - 12s 8ms/step - loss: 1.4525 - accuracy: 0.4853\n",
      "1250/1250 [==============================] - 13s 9ms/step - loss: 1.4596 - accuracy: 0.4870\n",
      "1250/1250 [==============================] - 13s 9ms/step - loss: 1.4762 - accuracy: 0.4800\n",
      "1250/1250 [==============================] - 12s 8ms/step - loss: 1.4957 - accuracy: 0.4728\n",
      "1250/1250 [==============================] - 12s 8ms/step - loss: 1.5166 - accuracy: 0.4721\n",
      "1250/1250 [==============================] - 13s 8ms/step - loss: 1.5543 - accuracy: 0.4559\n",
      "1250/1250 [==============================] - 13s 9ms/step - loss: 1.6759 - accuracy: 0.4065\n",
      "1250/1250 [==============================] - 13s 9ms/step - loss: 2.3097 - accuracy: 0.3180\n",
      "1250/1250 [==============================] - 13s 9ms/step - loss: 1.9604 - accuracy: 0.2685\n",
      "1250/1250 [==============================] - 13s 9ms/step - loss: 1.9629 - accuracy: 0.2515\n",
      "1250/1250 [==============================] - 13s 9ms/step - loss: 2.7840 - accuracy: 0.2524\n",
      "1250/1250 [==============================] - 13s 9ms/step - loss: 8.5232 - accuracy: 0.1124\n",
      "1250/1250 [==============================] - 13s 8ms/step - loss: 3.5153 - accuracy: 0.1005\n",
      "1250/1250 [==============================] - 15s 9ms/step - loss: 2.4036 - accuracy: 0.1008\n",
      "1250/1250 [==============================] - 13s 8ms/step - loss: 2.4482 - accuracy: 0.0993\n",
      "1250/1250 [==============================] - 12s 8ms/step - loss: 2.5138 - accuracy: 0.0990\n",
      "1250/1250 [==============================] - 12s 8ms/step - loss: 2.6301 - accuracy: 0.1005\n",
      "1250/1250 [==============================] - 13s 9ms/step - loss: 2.8672 - accuracy: 0.0997\n",
      "1250/1250 [==============================] - 14s 9ms/step - loss: 3.2307 - accuracy: 0.0984\n",
      "1250/1250 [==============================] - 14s 9ms/step - loss: 3.8429 - accuracy: 0.0988\n",
      "1250/1250 [==============================] - 25s 9ms/step - loss: 4.8245 - accuracy: 0.1000\n",
      "1250/1250 [==============================] - 13s 9ms/step - loss: 6.5356 - accuracy: 0.1003\n",
      "1250/1250 [==============================] - 13s 9ms/step - loss: 8.9933 - accuracy: 0.0998\n",
      "1250/1250 [==============================] - 13s 9ms/step - loss: 12.3073 - accuracy: 0.1017\n",
      "1250/1250 [==============================] - 12s 8ms/step - loss: 17.2715 - accuracy: 0.1032\n",
      "1250/1250 [==============================] - 13s 9ms/step - loss: 23.7606 - accuracy: 0.1008\n",
      "1250/1250 [==============================] - 13s 9ms/step - loss: 32.3637 - accuracy: 0.0969\n",
      "1250/1250 [==============================] - 15s 10ms/step - loss: 43.1725 - accuracy: 0.0984\n",
      "1250/1250 [==============================] - 13s 9ms/step - loss: 57.4047 - accuracy: 0.0999\n",
      "1250/1250 [==============================] - 30s 9ms/step - loss: 76.2047 - accuracy: 0.0997\n",
      "1250/1250 [==============================] - 15s 9ms/step - loss: 100.7346 - accuracy: 0.0986\n",
      "1250/1250 [==============================] - 13s 8ms/step - loss: 133.3234 - accuracy: 0.1018\n",
      "1250/1250 [==============================] - 13s 8ms/step - loss: 177.0624 - accuracy: 0.1005\n",
      "1250/1250 [==============================] - 13s 8ms/step - loss: 233.3483 - accuracy: 0.1004\n",
      "1250/1250 [==============================] - 13s 9ms/step - loss: 308.9687 - accuracy: 0.0998\n",
      "1250/1250 [==============================] - 14s 9ms/step - loss: 406.7953 - accuracy: 0.0978\n",
      "1250/1250 [==============================] - 14s 9ms/step - loss: 533.7460 - accuracy: 0.1031\n",
      "1250/1250 [==============================] - 17s 9ms/step - loss: 707.4974 - accuracy: 0.0993\n",
      "1250/1250 [==============================] - 22s 11ms/step - loss: 933.1603 - accuracy: 0.1011\n"
     ]
    }
   ],
   "source": [
    "# Searching for the right learning rate\n",
    "\n",
    "lr = 10**(-5)\n",
    "CONST = 10**(6/50)  # exp_base10(log_base10(10^6) / 50)\n",
    "losses = []\n",
    "\n",
    "for i in range(50):\n",
    "    lr = lr * CONST\n",
    "    \n",
    "    dnn.compile(\n",
    "        loss='sparse_categorical_crossentropy',             \n",
    "        optimizer=keras.optimizers.Nadam(learning_rate=lr),   \n",
    "        metrics=['accuracy']                                 \n",
    "    )\n",
    "    \n",
    "    history = dnn.fit(X_trains, y_train, epochs=1)\n",
    "    losses.append(history.history['loss'][0])"
   ]
  },
  {
   "cell_type": "code",
   "execution_count": 7,
   "id": "0b2e69a7",
   "metadata": {
    "scrolled": true
   },
   "outputs": [
    {
     "data": {
      "image/png": "[encoded data removed]",
      "text/plain": [
       "<Figure size 432x288 with 1 Axes>"
      ]
     },
     "metadata": {
      "needs_background": "light"
     },
     "output_type": "display_data"
    }
   ],
   "source": [
    "import matplotlib.pyplot as plt\n",
    "\n",
    "plt.plot([10**(-5) * (CONST**i) for i in range(50)], np.nan_to_num(losses, nan=1000))\n",
    "plt.xscale('log')\n",
    "\n",
    "plt.show()  # good lr: 0.03 (10^-0.5 shooted up. / 10 = 10^-1.5 = 0.03)\n",
    "\n",
    "# buuut, the first small spike happened at 10^-2.7 -> good lr: 0.0002"
   ]
  },
  {
   "cell_type": "code",
   "execution_count": 21,
   "id": "b42b2fa7",
   "metadata": {
    "collapsed": true,
    "scrolled": true
   },
   "outputs": [],
   "source": [
    "dnn = keras.Sequential()\n",
    "\n",
    "dnn.add(keras.layers.Flatten(input_shape=[32*32*3]))\n",
    "\n",
    "for i in range(20):\n",
    "    dnn.add(\n",
    "        keras.layers.Dense(\n",
    "            100, \n",
    "            activation=keras.activations.elu,\n",
    "            kernel_initializer='he_normal'\n",
    "        )\n",
    "    )\n",
    "\n",
    "dnn.add(keras.layers.Dense(10, activation='softmax'))\n",
    "\n",
    "dnn.compile(\n",
    "    loss='sparse_categorical_crossentropy',             \n",
    "    optimizer=keras.optimizers.Nadam(learning_rate=0.0002),   \n",
    "    metrics=['accuracy']                                 \n",
    ")"
   ]
  },
  {
   "cell_type": "code",
   "execution_count": 22,
   "id": "23e3821e",
   "metadata": {
    "scrolled": true
   },
   "outputs": [
    {
     "name": "stdout",
     "output_type": "stream",
     "text": [
      "Epoch 1/1000\n",
      "1250/1250 [==============================] - 15s 10ms/step - loss: 1.9368 - accuracy: 0.3085 - val_loss: 1.7763 - val_accuracy: 0.3636\n",
      "Epoch 2/1000\n",
      "1250/1250 [==============================] - 11s 9ms/step - loss: 1.6534 - accuracy: 0.4042 - val_loss: 1.6145 - val_accuracy: 0.4202\n",
      "Epoch 3/1000\n",
      "1250/1250 [==============================] - 11s 9ms/step - loss: 1.5406 - accuracy: 0.4518 - val_loss: 1.5519 - val_accuracy: 0.4467\n",
      "Epoch 4/1000\n",
      "1250/1250 [==============================] - 11s 9ms/step - loss: 1.4588 - accuracy: 0.4772 - val_loss: 1.5547 - val_accuracy: 0.4511\n",
      "Epoch 5/1000\n",
      "1250/1250 [==============================] - 12s 10ms/step - loss: 1.3916 - accuracy: 0.5045 - val_loss: 1.5003 - val_accuracy: 0.4747\n",
      "Epoch 6/1000\n",
      "1250/1250 [==============================] - 13s 11ms/step - loss: 1.3265 - accuracy: 0.5292 - val_loss: 1.5261 - val_accuracy: 0.4640\n",
      "Epoch 7/1000\n",
      "1250/1250 [==============================] - 11s 9ms/step - loss: 1.2766 - accuracy: 0.5461 - val_loss: 1.4831 - val_accuracy: 0.4829\n",
      "Epoch 8/1000\n",
      "1250/1250 [==============================] - 11s 9ms/step - loss: 1.2232 - accuracy: 0.5654 - val_loss: 1.4795 - val_accuracy: 0.4921\n",
      "Epoch 9/1000\n",
      "1250/1250 [==============================] - 12s 9ms/step - loss: 1.1741 - accuracy: 0.5843 - val_loss: 1.4988 - val_accuracy: 0.4811\n",
      "Epoch 10/1000\n",
      "1250/1250 [==============================] - 12s 10ms/step - loss: 1.1304 - accuracy: 0.6027 - val_loss: 1.5366 - val_accuracy: 0.4969\n",
      "Epoch 11/1000\n",
      "1250/1250 [==============================] - 12s 10ms/step - loss: 1.0869 - accuracy: 0.6168 - val_loss: 1.5583 - val_accuracy: 0.4889\n",
      "Epoch 12/1000\n",
      "1250/1250 [==============================] - 12s 9ms/step - loss: 1.0399 - accuracy: 0.6340 - val_loss: 1.5352 - val_accuracy: 0.4907\n",
      "Epoch 13/1000\n",
      "1250/1250 [==============================] - 13s 10ms/step - loss: 1.0034 - accuracy: 0.6446 - val_loss: 1.5636 - val_accuracy: 0.5030\n",
      "Epoch 14/1000\n",
      "1250/1250 [==============================] - 12s 10ms/step - loss: 0.9633 - accuracy: 0.6622 - val_loss: 1.5932 - val_accuracy: 0.4974\n",
      "Epoch 15/1000\n",
      "1250/1250 [==============================] - 12s 9ms/step - loss: 0.9279 - accuracy: 0.6748 - val_loss: 1.6178 - val_accuracy: 0.4902\n",
      "Epoch 16/1000\n",
      "1250/1250 [==============================] - 12s 9ms/step - loss: 0.8908 - accuracy: 0.6887 - val_loss: 1.6361 - val_accuracy: 0.4898\n",
      "Epoch 17/1000\n",
      "1250/1250 [==============================] - 12s 10ms/step - loss: 0.8560 - accuracy: 0.7005 - val_loss: 1.6344 - val_accuracy: 0.4837\n",
      "Epoch 18/1000\n",
      "1250/1250 [==============================] - 12s 10ms/step - loss: 0.8253 - accuracy: 0.7117 - val_loss: 1.6939 - val_accuracy: 0.4913\n"
     ]
    }
   ],
   "source": [
    "earlyStop_callback = keras.callbacks.EarlyStopping(patience = 10, restore_best_weights = True)\n",
    "\n",
    "history = dnn.fit(X_trains, y_train, epochs=1000,  # there's early stopping, epochs can be very high\n",
    "                  validation_data=(X_vals, y_val), callbacks=[earlyStop_callback])"
   ]
  },
  {
   "cell_type": "code",
   "execution_count": 23,
   "id": "607816d1",
   "metadata": {
    "scrolled": true
   },
   "outputs": [
    {
     "data": {
      "image/png": "[encoded data removed]",
      "text/plain": [
       "<Figure size 720x360 with 1 Axes>"
      ]
     },
     "metadata": {
      "needs_background": "light"
     },
     "output_type": "display_data"
    }
   ],
   "source": [
    "import pandas\n",
    "\n",
    "pandas.DataFrame(history.history).plot(figsize=(10, 5))\n",
    "plt.show()  # pretty bad. Best val_accuracy (with the minimum loss model) was around 48%"
   ]
  },
  {
   "cell_type": "code",
   "execution_count": 43,
   "id": "9e41f3bf",
   "metadata": {
    "collapsed": true,
    "scrolled": true
   },
   "outputs": [],
   "source": [
    "dnn.save('dnn_no_BN.h5')"
   ]
  },
  {
   "cell_type": "markdown",
   "id": "97717cd1",
   "metadata": {},
   "source": [
    "# Batch normalization"
   ]
  },
  {
   "cell_type": "code",
   "execution_count": 16,
   "id": "3cdedce5",
   "metadata": {
    "collapsed": true,
    "scrolled": true
   },
   "outputs": [],
   "source": [
    "# Since the net is very deep (it has 20 layers), the model is propably suffering from the\n",
    "# vanishing gradients problem (the variance of the layers gets increasingly high the deeper\n",
    "# you go, making the activation function - even the elu - saturate, eliminating the \"slopes\"\n",
    "# in which gradient descent would act). \n",
    "\n",
    "# Let's try to solve it with batch normalization, which prevents saturation by normalizing the values\n",
    "# received/sent by the activation functions."
   ]
  },
  {
   "cell_type": "code",
   "execution_count": 45,
   "id": "94b15313",
   "metadata": {
    "collapsed": true,
    "scrolled": true
   },
   "outputs": [],
   "source": [
    "dnn_batch = keras.Sequential()\n",
    "\n",
    "dnn_batch.add(keras.layers.Flatten(input_shape=[32*32*3]))\n",
    "\n",
    "for i in range(20):\n",
    "    dnn_batch.add(keras.layers.BatchNormalization())  # BN before the activation function\n",
    "    dnn_batch.add(\n",
    "        keras.layers.Dense(\n",
    "            100, \n",
    "            activation=keras.activations.elu,\n",
    "            kernel_initializer='he_normal'\n",
    "        )\n",
    "    )\n",
    "\n",
    "#dnn_batch.add(keras.layers.BatchNormalization())  # Softmax already does the job here\n",
    "dnn_batch.add(keras.layers.Dense(10, activation='softmax', kernel_initializer='he_normal'))\n",
    "# oopss... I didn't initilize the output layer properly in the previous rounds...\n",
    "\n",
    "dnn_batch.compile(\n",
    "    loss='sparse_categorical_crossentropy',             \n",
    "    optimizer=keras.optimizers.Nadam(learning_rate=0.0002),   \n",
    "    metrics=['accuracy']                                 \n",
    ")"
   ]
  },
  {
   "cell_type": "code",
   "execution_count": 46,
   "id": "6f6a574b",
   "metadata": {
    "scrolled": true
   },
   "outputs": [
    {
     "name": "stdout",
     "output_type": "stream",
     "text": [
      "Epoch 1/1000\n",
      "1250/1250 [==============================] - 23s 14ms/step - loss: 2.0479 - accuracy: 0.2734 - val_loss: 1.7912 - val_accuracy: 0.3612\n",
      "Epoch 2/1000\n",
      "1250/1250 [==============================] - 17s 14ms/step - loss: 1.7918 - accuracy: 0.3627 - val_loss: 1.7008 - val_accuracy: 0.4014\n",
      "Epoch 3/1000\n",
      "1250/1250 [==============================] - 17s 13ms/step - loss: 1.7090 - accuracy: 0.3900 - val_loss: 1.6261 - val_accuracy: 0.4207\n",
      "Epoch 4/1000\n",
      "1250/1250 [==============================] - 17s 13ms/step - loss: 1.6454 - accuracy: 0.4164 - val_loss: 1.5764 - val_accuracy: 0.4350\n",
      "Epoch 5/1000\n",
      "1250/1250 [==============================] - 17s 13ms/step - loss: 1.5997 - accuracy: 0.4331 - val_loss: 1.5375 - val_accuracy: 0.4569\n",
      "Epoch 6/1000\n",
      "1250/1250 [==============================] - 17s 13ms/step - loss: 1.5518 - accuracy: 0.4503 - val_loss: 1.5037 - val_accuracy: 0.4670\n",
      "Epoch 7/1000\n",
      "1250/1250 [==============================] - 17s 13ms/step - loss: 1.5144 - accuracy: 0.4644 - val_loss: 1.4775 - val_accuracy: 0.4743\n",
      "Epoch 8/1000\n",
      "1250/1250 [==============================] - 17s 14ms/step - loss: 1.4777 - accuracy: 0.4761 - val_loss: 1.4437 - val_accuracy: 0.4861\n",
      "Epoch 9/1000\n",
      "1250/1250 [==============================] - 17s 13ms/step - loss: 1.4461 - accuracy: 0.4900 - val_loss: 1.4416 - val_accuracy: 0.4934\n",
      "Epoch 10/1000\n",
      "1250/1250 [==============================] - 17s 14ms/step - loss: 1.4207 - accuracy: 0.4981 - val_loss: 1.4500 - val_accuracy: 0.4897\n",
      "Epoch 11/1000\n",
      "1250/1250 [==============================] - 17s 14ms/step - loss: 1.3964 - accuracy: 0.5067 - val_loss: 1.4251 - val_accuracy: 0.4957\n",
      "Epoch 12/1000\n",
      "1250/1250 [==============================] - 17s 14ms/step - loss: 1.3724 - accuracy: 0.5153 - val_loss: 1.4241 - val_accuracy: 0.4974\n",
      "Epoch 13/1000\n",
      "1250/1250 [==============================] - 17s 14ms/step - loss: 1.3466 - accuracy: 0.5243 - val_loss: 1.4123 - val_accuracy: 0.5039\n",
      "Epoch 14/1000\n",
      "1250/1250 [==============================] - 17s 13ms/step - loss: 1.3232 - accuracy: 0.5298 - val_loss: 1.3983 - val_accuracy: 0.5064\n",
      "Epoch 15/1000\n",
      "1250/1250 [==============================] - 17s 13ms/step - loss: 1.3124 - accuracy: 0.5355 - val_loss: 1.3927 - val_accuracy: 0.5111\n",
      "Epoch 16/1000\n",
      "1250/1250 [==============================] - 17s 13ms/step - loss: 1.2938 - accuracy: 0.5432 - val_loss: 1.4020 - val_accuracy: 0.5044\n",
      "Epoch 17/1000\n",
      "1250/1250 [==============================] - 17s 14ms/step - loss: 1.2701 - accuracy: 0.5498 - val_loss: 1.4127 - val_accuracy: 0.5095\n",
      "Epoch 18/1000\n",
      "1250/1250 [==============================] - 17s 14ms/step - loss: 1.2479 - accuracy: 0.5570 - val_loss: 1.3921 - val_accuracy: 0.5157\n",
      "Epoch 19/1000\n",
      "1250/1250 [==============================] - 17s 14ms/step - loss: 1.2440 - accuracy: 0.5604 - val_loss: 1.3810 - val_accuracy: 0.5123\n",
      "Epoch 20/1000\n",
      "1250/1250 [==============================] - 17s 14ms/step - loss: 1.2277 - accuracy: 0.5652 - val_loss: 1.3762 - val_accuracy: 0.5175\n",
      "Epoch 21/1000\n",
      "1250/1250 [==============================] - 17s 14ms/step - loss: 1.2115 - accuracy: 0.5717 - val_loss: 1.3874 - val_accuracy: 0.5190\n",
      "Epoch 22/1000\n",
      "1250/1250 [==============================] - 17s 14ms/step - loss: 1.1977 - accuracy: 0.5759 - val_loss: 1.3811 - val_accuracy: 0.5261\n",
      "Epoch 23/1000\n",
      "1250/1250 [==============================] - 17s 14ms/step - loss: 1.1839 - accuracy: 0.5817 - val_loss: 1.3851 - val_accuracy: 0.5201\n",
      "Epoch 24/1000\n",
      "1250/1250 [==============================] - 17s 14ms/step - loss: 1.1711 - accuracy: 0.5860 - val_loss: 1.4011 - val_accuracy: 0.5180\n",
      "Epoch 25/1000\n",
      "1250/1250 [==============================] - 17s 14ms/step - loss: 1.1576 - accuracy: 0.5921 - val_loss: 1.3922 - val_accuracy: 0.5214\n",
      "Epoch 26/1000\n",
      "1250/1250 [==============================] - 17s 14ms/step - loss: 1.1489 - accuracy: 0.5934 - val_loss: 1.3780 - val_accuracy: 0.5284\n",
      "Epoch 27/1000\n",
      "1250/1250 [==============================] - 17s 14ms/step - loss: 1.1373 - accuracy: 0.5956 - val_loss: 1.3929 - val_accuracy: 0.5195\n",
      "Epoch 28/1000\n",
      "1250/1250 [==============================] - 18s 14ms/step - loss: 1.1222 - accuracy: 0.6019 - val_loss: 1.3967 - val_accuracy: 0.5244\n",
      "Epoch 29/1000\n",
      "1250/1250 [==============================] - 17s 14ms/step - loss: 1.1141 - accuracy: 0.6069 - val_loss: 1.3936 - val_accuracy: 0.5240\n",
      "Epoch 30/1000\n",
      "1250/1250 [==============================] - 18s 14ms/step - loss: 1.0956 - accuracy: 0.6128 - val_loss: 1.3810 - val_accuracy: 0.5292\n"
     ]
    }
   ],
   "source": [
    "earlyStop_callback_batch = keras.callbacks.EarlyStopping(patience = 10, restore_best_weights = True)\n",
    "\n",
    "history_batch = dnn_batch.fit(X_trains, y_train, epochs=1000, \n",
    "                              validation_data=(X_vals, y_val), callbacks=[earlyStop_callback_batch])"
   ]
  },
  {
   "cell_type": "code",
   "execution_count": 50,
   "id": "ce7c79bf",
   "metadata": {
    "scrolled": false
   },
   "outputs": [
    {
     "data": {
      "image/png": "[encoded data removed]",
      "text/plain": [
       "<Figure size 1080x720 with 1 Axes>"
      ]
     },
     "metadata": {
      "needs_background": "light"
     },
     "output_type": "display_data"
    },
    {
     "data": {
      "image/png": "[encoded data removed]",
      "text/plain": [
       "<Figure size 1080x720 with 1 Axes>"
      ]
     },
     "metadata": {
      "needs_background": "light"
     },
     "output_type": "display_data"
    }
   ],
   "source": [
    "import pandas\n",
    "import matplotlib.pyplot as plt\n",
    "\n",
    "history_df = pandas.DataFrame(history.history)\n",
    "history_batch_df = pandas.DataFrame(history_batch.history)\n",
    "\n",
    "plt.figure(figsize=(15, 10))\n",
    "plt.subplot(2, 1, 1)\n",
    "plt.title('Without BN')\n",
    "plt.plot(history_df)\n",
    "plt.legend(history_df.columns)\n",
    "\n",
    "plt.figure(figsize=(15, 10))\n",
    "plt.subplot(2, 1, 2)\n",
    "plt.title('With BN')\n",
    "plt.plot(history_batch_df)\n",
    "plt.legend(history_batch_df.columns)\n",
    "\n",
    "plt.show()  # there was a slight improvement (from ~48% to ~52%)"
   ]
  },
  {
   "cell_type": "code",
   "execution_count": 48,
   "id": "ded6e356",
   "metadata": {
    "collapsed": true,
    "scrolled": true
   },
   "outputs": [],
   "source": [
    "# The batch normalization made the training considerably slower, since the number of iterations needed for conversion went\n",
    "# up from 6 to 20 and each epoch took about 50% more time to be executed. However, the learning curve shows a lot less\n",
    "# overfitting (the difference between the accuracy curve and the val_accuracy curve is lower) and a mildly better performance \n",
    "# (about 4% more accurate)"
   ]
  },
  {
   "cell_type": "code",
   "execution_count": 51,
   "id": "47c54ed1",
   "metadata": {
    "collapsed": true,
    "scrolled": true
   },
   "outputs": [],
   "source": [
    "dnn_batch.save('dnn_with_BN.h5')"
   ]
  },
  {
   "cell_type": "markdown",
   "id": "a53603d8",
   "metadata": {},
   "source": [
    "# Self normalization"
   ]
  },
  {
   "cell_type": "code",
   "execution_count": 52,
   "id": "d641ff30",
   "metadata": {
    "collapsed": true,
    "scrolled": true
   },
   "outputs": [],
   "source": [
    "# SELU (standardized ELU) is an optimizer derived from ELU that, in the right conditions, can self-normalize the model.\n",
    "\n",
    "dnn_selu = keras.Sequential()\n",
    "\n",
    "dnn_selu.add(keras.layers.Flatten(input_shape=[32*32*3]))\n",
    "\n",
    "for i in range(20):\n",
    "    dnn_selu.add(\n",
    "        keras.layers.Dense(\n",
    "            100, \n",
    "            activation=keras.activations.selu,\n",
    "            kernel_initializer='lecun_normal'\n",
    "        )\n",
    "    )\n",
    "\n",
    "dnn_selu.add(keras.layers.Dense(10, activation='softmax', kernel_initializer='lecun_normal'))\n",
    "\n",
    "dnn_selu.compile(\n",
    "    loss='sparse_categorical_crossentropy',             \n",
    "    optimizer=keras.optimizers.Nadam(learning_rate=0.0002),   \n",
    "    metrics=['accuracy']                                 \n",
    ")"
   ]
  },
  {
   "cell_type": "code",
   "execution_count": 53,
   "id": "b1699b82",
   "metadata": {
    "scrolled": true
   },
   "outputs": [
    {
     "name": "stdout",
     "output_type": "stream",
     "text": [
      "Epoch 1/1000\n",
      "1250/1250 [==============================] - 15s 10ms/step - loss: 1.8258 - accuracy: 0.3438 - val_loss: 1.6941 - val_accuracy: 0.3991\n",
      "Epoch 2/1000\n",
      "1250/1250 [==============================] - 13s 10ms/step - loss: 1.6242 - accuracy: 0.4206 - val_loss: 1.6521 - val_accuracy: 0.4143\n",
      "Epoch 3/1000\n",
      "1250/1250 [==============================] - 12s 10ms/step - loss: 1.5282 - accuracy: 0.4538 - val_loss: 1.5731 - val_accuracy: 0.4484\n",
      "Epoch 4/1000\n",
      "1250/1250 [==============================] - 12s 10ms/step - loss: 1.4509 - accuracy: 0.4861 - val_loss: 1.5433 - val_accuracy: 0.4614\n",
      "Epoch 5/1000\n",
      "1250/1250 [==============================] - 12s 10ms/step - loss: 1.3894 - accuracy: 0.5083 - val_loss: 1.5156 - val_accuracy: 0.4675\n",
      "Epoch 6/1000\n",
      "1250/1250 [==============================] - 12s 10ms/step - loss: 1.3313 - accuracy: 0.5280 - val_loss: 1.4972 - val_accuracy: 0.4756\n",
      "Epoch 7/1000\n",
      "1250/1250 [==============================] - 12s 10ms/step - loss: 1.2767 - accuracy: 0.5461 - val_loss: 1.4982 - val_accuracy: 0.4859\n",
      "Epoch 8/1000\n",
      "1250/1250 [==============================] - 12s 10ms/step - loss: 1.2352 - accuracy: 0.5635 - val_loss: 1.5116 - val_accuracy: 0.4874\n",
      "Epoch 9/1000\n",
      "1250/1250 [==============================] - 13s 10ms/step - loss: 1.1860 - accuracy: 0.5810 - val_loss: 1.5011 - val_accuracy: 0.4869\n",
      "Epoch 10/1000\n",
      "1250/1250 [==============================] - 12s 10ms/step - loss: 1.1443 - accuracy: 0.5958 - val_loss: 1.5012 - val_accuracy: 0.4964\n",
      "Epoch 11/1000\n",
      "1250/1250 [==============================] - 12s 10ms/step - loss: 1.1034 - accuracy: 0.6134 - val_loss: 1.5431 - val_accuracy: 0.4875\n",
      "Epoch 12/1000\n",
      "1250/1250 [==============================] - 12s 10ms/step - loss: 1.0620 - accuracy: 0.6278 - val_loss: 1.5407 - val_accuracy: 0.4985\n",
      "Epoch 13/1000\n",
      "1250/1250 [==============================] - 12s 10ms/step - loss: 1.0312 - accuracy: 0.6368 - val_loss: 1.5357 - val_accuracy: 0.4932\n",
      "Epoch 14/1000\n",
      "1250/1250 [==============================] - 12s 10ms/step - loss: 0.9910 - accuracy: 0.6526 - val_loss: 1.5297 - val_accuracy: 0.4940\n",
      "Epoch 15/1000\n",
      "1250/1250 [==============================] - 12s 10ms/step - loss: 0.9584 - accuracy: 0.6642 - val_loss: 1.5663 - val_accuracy: 0.4955\n",
      "Epoch 16/1000\n",
      "1250/1250 [==============================] - 12s 10ms/step - loss: 0.9261 - accuracy: 0.6741 - val_loss: 1.6254 - val_accuracy: 0.4996\n"
     ]
    }
   ],
   "source": [
    "earlyStop_callback_selu = keras.callbacks.EarlyStopping(patience = 10, restore_best_weights = True)\n",
    "\n",
    "history_selu = dnn_selu.fit(X_trains, y_train, epochs=1000, \n",
    "                            validation_data=(X_vals, y_val), callbacks=[earlyStop_callback_selu])"
   ]
  },
  {
   "cell_type": "code",
   "execution_count": 54,
   "id": "e4d456c8",
   "metadata": {
    "collapsed": true,
    "scrolled": true
   },
   "outputs": [],
   "source": [
    "# Accuracy was the same (~48%), as well as the number of iterations for convergence (~6)"
   ]
  },
  {
   "cell_type": "code",
   "execution_count": 55,
   "id": "4888ac96",
   "metadata": {
    "collapsed": true,
    "scrolled": true
   },
   "outputs": [],
   "source": [
    "dnn_selu.save(\"dnn_selu.h5\")"
   ]
  },
  {
   "cell_type": "markdown",
   "id": "23094441",
   "metadata": {},
   "source": [
    "# Regularization: Dropout"
   ]
  },
  {
   "cell_type": "code",
   "execution_count": 68,
   "id": "9124317f",
   "metadata": {
    "scrolled": true
   },
   "outputs": [],
   "source": [
    "# This very deep net can be prone to overfitting. Let's try to normalize it with dropout \n",
    "# (alpha dropout, since we will use selu).\n",
    "\n",
    "# Obs: dropout used before each dense layer since it affects the inputs of the previous layers\n",
    "\n",
    "dnn_selu_d = keras.Sequential()\n",
    "\n",
    "dnn_selu_d.add(keras.layers.Flatten(input_shape=[32*32*3]))\n",
    "\n",
    "for i in range(20):\n",
    "    #dnn_selu_d.add(keras.layers.AlphaDropout(rate=0.1))\n",
    "    dnn_selu_d.add(\n",
    "        keras.layers.Dense(\n",
    "            100, \n",
    "            activation=keras.activations.selu,\n",
    "            kernel_initializer='lecun_normal'\n",
    "        )\n",
    "    )\n",
    "\n",
    "dnn_selu_d.add(keras.layers.AlphaDropout(rate=0.1))  # let's just use it in one layer. The regularization was too strong\n",
    "dnn_selu_d.add(keras.layers.Dense(10, activation='softmax', kernel_initializer='lecun_normal'))\n",
    "\n",
    "dnn_selu_d.compile(\n",
    "    loss='sparse_categorical_crossentropy',             \n",
    "    optimizer=keras.optimizers.Nadam(learning_rate=0.0002),   \n",
    "    metrics=['accuracy']                                 \n",
    ")"
   ]
  },
  {
   "cell_type": "code",
   "execution_count": 69,
   "id": "b4f91720",
   "metadata": {
    "scrolled": true
   },
   "outputs": [
    {
     "name": "stdout",
     "output_type": "stream",
     "text": [
      "Epoch 1/1000\n",
      "1250/1250 [==============================] - 15s 10ms/step - loss: 1.8741 - accuracy: 0.3331 - val_loss: 1.7114 - val_accuracy: 0.4018\n",
      "Epoch 2/1000\n",
      "1250/1250 [==============================] - 12s 10ms/step - loss: 1.6251 - accuracy: 0.4192 - val_loss: 1.6155 - val_accuracy: 0.4392\n",
      "Epoch 3/1000\n",
      "1250/1250 [==============================] - 12s 10ms/step - loss: 1.5159 - accuracy: 0.4609 - val_loss: 1.5946 - val_accuracy: 0.4563\n",
      "Epoch 4/1000\n",
      "1250/1250 [==============================] - 13s 10ms/step - loss: 1.4389 - accuracy: 0.4881 - val_loss: 1.5560 - val_accuracy: 0.4542\n",
      "Epoch 5/1000\n",
      "1250/1250 [==============================] - 12s 10ms/step - loss: 1.3793 - accuracy: 0.5128 - val_loss: 1.5380 - val_accuracy: 0.4719\n",
      "Epoch 6/1000\n",
      "1250/1250 [==============================] - 12s 10ms/step - loss: 1.3165 - accuracy: 0.5341 - val_loss: 1.5230 - val_accuracy: 0.4907\n",
      "Epoch 7/1000\n",
      "1250/1250 [==============================] - 12s 10ms/step - loss: 1.2693 - accuracy: 0.5520 - val_loss: 1.5465 - val_accuracy: 0.4943\n",
      "Epoch 8/1000\n",
      "1250/1250 [==============================] - 12s 10ms/step - loss: 1.2157 - accuracy: 0.5714 - val_loss: 1.5450 - val_accuracy: 0.4859\n",
      "Epoch 9/1000\n",
      "1250/1250 [==============================] - 12s 10ms/step - loss: 1.1768 - accuracy: 0.5870 - val_loss: 1.5644 - val_accuracy: 0.4912\n",
      "Epoch 10/1000\n",
      "1250/1250 [==============================] - 12s 10ms/step - loss: 1.1318 - accuracy: 0.6008 - val_loss: 1.6088 - val_accuracy: 0.4929\n",
      "Epoch 11/1000\n",
      "1250/1250 [==============================] - 12s 10ms/step - loss: 1.1002 - accuracy: 0.6104 - val_loss: 1.6150 - val_accuracy: 0.4967\n",
      "Epoch 12/1000\n",
      "1250/1250 [==============================] - 12s 10ms/step - loss: 1.0576 - accuracy: 0.6261 - val_loss: 1.6074 - val_accuracy: 0.4974\n",
      "Epoch 13/1000\n",
      "1250/1250 [==============================] - 13s 10ms/step - loss: 1.0217 - accuracy: 0.6392 - val_loss: 1.6522 - val_accuracy: 0.5037\n",
      "Epoch 14/1000\n",
      "1250/1250 [==============================] - 12s 10ms/step - loss: 0.9887 - accuracy: 0.6506 - val_loss: 1.6808 - val_accuracy: 0.4967\n",
      "Epoch 15/1000\n",
      "1250/1250 [==============================] - 12s 10ms/step - loss: 0.9575 - accuracy: 0.6613 - val_loss: 1.7172 - val_accuracy: 0.4994\n",
      "Epoch 16/1000\n",
      "1250/1250 [==============================] - 12s 10ms/step - loss: 0.9247 - accuracy: 0.6747 - val_loss: 1.7553 - val_accuracy: 0.4951\n"
     ]
    }
   ],
   "source": [
    "earlyStop_callback_selu_d = keras.callbacks.EarlyStopping(patience = 10, restore_best_weights = True)\n",
    "\n",
    "history_selu_d = dnn_selu_d.fit(X_trains, y_train, epochs=1000, \n",
    "                                validation_data=(X_vals, y_val), callbacks=[earlyStop_callback_selu_d])"
   ]
  },
  {
   "cell_type": "code",
   "execution_count": 103,
   "id": "65463189",
   "metadata": {
    "scrolled": true
   },
   "outputs": [
    {
     "name": "stdout",
     "output_type": "stream",
     "text": [
      "[1, 8, 5, 1, 2, 7, 4, 7, 8, 4, 5, 3, 0, 8, 7, 3, 6, 2, 0, 8, 2, 7, 2, 4, 8, 7, 7, 4, 3, 9, 7, 1, 4, 4, 1, 3, 4, 9, 4, 6]\n",
      "[1, 8, 5, 1, 5, 7, 4, 3, 8, 2, 7, 2, 0, 1, 5, 9, 6, 2, 0, 8, 2, 7, 0, 4, 1, 7, 7, 4, 4, 9, 9, 6, 2, 4, 1, 6, 4, 9, 6, 6] \n",
      "\n",
      "Acc: 0.4907\n"
     ]
    }
   ],
   "source": [
    "# Checking accuracy of the final model since the val_loss of each dropped model can be missleading\n",
    "\n",
    "print(list(np.argmax(dnn_selu_d.predict(X_vals), axis=1))[:40])\n",
    "print([y_val[i, 0] for i in range(40)], '\\n')\n",
    "\n",
    "print('Acc:', np.mean(y_val[:, 0] == np.argmax(dnn_selu_d.predict(X_vals), axis=1)))"
   ]
  },
  {
   "cell_type": "code",
   "execution_count": 104,
   "id": "c480f084",
   "metadata": {
    "scrolled": true
   },
   "outputs": [
    {
     "name": "stdout",
     "output_type": "stream",
     "text": [
      "MC Acc: 0.4914\n"
     ]
    }
   ],
   "source": [
    "# The accuracy was slightly better and the train time was the same\n",
    "# Let's now use a technique that resembles an emsembled learning model: the monte carlo dropout\n",
    "\n",
    "y_probas = np.stack([dnn_selu_d(X_vals, training = True) for sample in range(100)])  \n",
    "# calling the model is the same as the predict_proba method, but it allows the \n",
    "# dropout to remain active in the test stage (with training = True).\n",
    "y_proba = y_probas.mean(axis = 0)\n",
    "\n",
    "print('MC Acc:', np.mean(y_val[:, 0] == np.argmax(y_proba, axis=1)))"
   ]
  },
  {
   "cell_type": "code",
   "execution_count": 102,
   "id": "7bdafde8",
   "metadata": {
    "scrolled": true
   },
   "outputs": [],
   "source": [
    "# The accuracy was slightly better, but it took a lot longer to run. In regards to accuracy, the MC dropout is not worth it"
   ]
  },
  {
   "cell_type": "markdown",
   "id": "fb3bcc14",
   "metadata": {},
   "source": [
    "# Learning rate scheduling"
   ]
  },
  {
   "cell_type": "code",
   "execution_count": 127,
   "id": "5cb2fbbc",
   "metadata": {
    "scrolled": true
   },
   "outputs": [],
   "source": [
    "# 1-cycle learning rate schedule: starts low, goes up, than goes down again\n",
    "\n",
    "class OneCycleScheduler(keras.callbacks.Callback):\n",
    "    \n",
    "    def __init__(self, iterations, max_rate, max_m, start_rate=None, min_m=None, last_iterations=None, last_rate=None):\n",
    "        self.max_rate = max_rate\n",
    "        self.start_rate = start_rate or max_rate / 10\n",
    "        self.last_rate = last_rate or self.start_rate / 1000\n",
    "        self.max_m = max_m\n",
    "        self.min_m = min_m or (0.8 * max_m)\n",
    "        \n",
    "        self.iterations = iterations\n",
    "        self.last_iterations = last_iterations or iterations // 10 + 1\n",
    "        self.half_iteration = (iterations - self.last_iterations) // 2\n",
    "        self.iteration = 0\n",
    "    \n",
    "    def _interpolate(self, iter1, iter2, rate1, rate2, m1, m2):\n",
    "        return ((rate2 - rate1) * (self.iteration - iter1) / (iter2 - iter1) + rate1), \\\n",
    "               ((m2 - m1) * (self.iteration - iter1) / (iter2 - iter1) + m1)\n",
    "    \n",
    "    def on_epoch_begin(self, batch, logs):\n",
    "        if self.iteration < self.half_iteration:\n",
    "            rate, m = self._interpolate(0, self.half_iteration, \n",
    "                                        self.start_rate, self.max_rate,\n",
    "                                        self.max_m, self.min_m)\n",
    "            \n",
    "        elif self.iteration < 2 * self.half_iteration:\n",
    "            rate, m = self._interpolate(self.half_iteration, 2 * self.half_iteration,\n",
    "                                        self.max_rate, self.start_rate,\n",
    "                                        self.min_m, self.max_m)\n",
    "            \n",
    "        else:\n",
    "            rate, m = self._interpolate(2 * self.half_iteration, self.iterations,\n",
    "                                        self.start_rate, self.last_rate,\n",
    "                                        self.max_m, self.max_m)\n",
    "        \n",
    "        print(rate, m)\n",
    "        \n",
    "        keras.backend.set_value(self.model.optimizer.lr, rate)\n",
    "        keras.backend.set_value(self.model.optimizer.beta_1, m)\n",
    "        self.iteration += 1"
   ]
  },
  {
   "cell_type": "code",
   "execution_count": 128,
   "id": "05b2db1c",
   "metadata": {
    "scrolled": true
   },
   "outputs": [],
   "source": [
    "dnn_selu_s = keras.Sequential()\n",
    "\n",
    "dnn_selu_s.add(keras.layers.Flatten(input_shape=[32*32*3]))\n",
    "\n",
    "for i in range(20):\n",
    "    dnn_selu_s.add(\n",
    "        keras.layers.Dense(\n",
    "            100, \n",
    "            activation=keras.activations.selu,\n",
    "            kernel_initializer='lecun_normal'\n",
    "        )\n",
    "    )\n",
    "\n",
    "dnn_selu_s.add(keras.layers.Dense(10, activation='softmax', kernel_initializer='lecun_normal'))\n",
    "\n",
    "dnn_selu_s.compile(\n",
    "    loss='sparse_categorical_crossentropy',             \n",
    "    optimizer=keras.optimizers.Nadam(learning_rate=0.0002),   \n",
    "    metrics=['accuracy']                                 \n",
    ")"
   ]
  },
  {
   "cell_type": "code",
   "execution_count": 129,
   "id": "3d441897",
   "metadata": {
    "scrolled": true
   },
   "outputs": [
    {
     "name": "stdout",
     "output_type": "stream",
     "text": [
      "Epoch 1/15\n",
      "2e-05 0.95\n",
      "1250/1250 [==============================] - 18s 12ms/step - loss: 1.9620 - accuracy: 0.2947 - val_loss: 1.8295 - val_accuracy: 0.3447\n",
      "Epoch 2/15\n",
      "5e-05 0.9183333333333333\n",
      "1250/1250 [==============================] - 16s 12ms/step - loss: 1.7224 - accuracy: 0.3840 - val_loss: 1.6772 - val_accuracy: 0.4010\n",
      "Epoch 3/15\n",
      "8e-05 0.8866666666666666\n",
      "1250/1250 [==============================] - 16s 13ms/step - loss: 1.6057 - accuracy: 0.4279 - val_loss: 1.6036 - val_accuracy: 0.4337\n",
      "Epoch 4/15\n",
      "0.00011 0.855\n",
      "1250/1250 [==============================] - 16s 13ms/step - loss: 1.5393 - accuracy: 0.4529 - val_loss: 1.5811 - val_accuracy: 0.4400\n",
      "Epoch 5/15\n",
      "0.00014000000000000001 0.8233333333333334\n",
      "1250/1250 [==============================] - 16s 13ms/step - loss: 1.4962 - accuracy: 0.4679 - val_loss: 1.5544 - val_accuracy: 0.4531\n",
      "Epoch 6/15\n",
      "0.00017 0.7916666666666666\n",
      "1250/1250 [==============================] - 16s 13ms/step - loss: 1.4604 - accuracy: 0.4791 - val_loss: 1.5374 - val_accuracy: 0.4512\n",
      "Epoch 7/15\n",
      "0.0002 0.76\n",
      "1250/1250 [==============================] - 16s 13ms/step - loss: 1.4255 - accuracy: 0.4952 - val_loss: 1.5071 - val_accuracy: 0.4695\n",
      "Epoch 8/15\n",
      "0.00017 0.7916666666666666\n",
      "1250/1250 [==============================] - 16s 13ms/step - loss: 1.3442 - accuracy: 0.5228 - val_loss: 1.4978 - val_accuracy: 0.4749\n",
      "Epoch 9/15\n",
      "0.00014000000000000001 0.8233333333333334\n",
      "1250/1250 [==============================] - 16s 13ms/step - loss: 1.2600 - accuracy: 0.5553 - val_loss: 1.4762 - val_accuracy: 0.4881\n",
      "Epoch 10/15\n",
      "0.00011 0.855\n",
      "1250/1250 [==============================] - 16s 13ms/step - loss: 1.1725 - accuracy: 0.5838 - val_loss: 1.4576 - val_accuracy: 0.4996\n",
      "Epoch 11/15\n",
      "8e-05 0.8866666666666666\n",
      "1250/1250 [==============================] - 16s 13ms/step - loss: 1.0829 - accuracy: 0.6182 - val_loss: 1.4275 - val_accuracy: 0.5108\n",
      "Epoch 12/15\n",
      "4.9999999999999996e-05 0.9183333333333333\n",
      "1250/1250 [==============================] - 16s 13ms/step - loss: 0.9945 - accuracy: 0.6492 - val_loss: 1.4424 - val_accuracy: 0.5173\n",
      "Epoch 13/15\n",
      "2e-05 0.95\n",
      "1250/1250 [==============================] - 16s 13ms/step - loss: 0.9133 - accuracy: 0.6796 - val_loss: 1.4616 - val_accuracy: 0.5212\n",
      "Epoch 14/15\n",
      "1.3340000000000001e-05 0.95\n",
      "1250/1250 [==============================] - 16s 13ms/step - loss: 0.8807 - accuracy: 0.6940 - val_loss: 1.4730 - val_accuracy: 0.5186\n",
      "Epoch 15/15\n",
      "6.68e-06 0.95\n",
      "1250/1250 [==============================] - 17s 13ms/step - loss: 0.8556 - accuracy: 0.7051 - val_loss: 1.4753 - val_accuracy: 0.5209\n"
     ]
    }
   ],
   "source": [
    "oneCycle = OneCycleScheduler(15, 0.0002, 0.95)\n",
    "\n",
    "history_selu_s = dnn_selu_s.fit(X_trains, y_train, epochs=15, \n",
    "                                validation_data=(X_vals, y_val), callbacks=[oneCycle])"
   ]
  },
  {
   "cell_type": "code",
   "execution_count": null,
   "id": "15aa9db2",
   "metadata": {
    "scrolled": true
   },
   "outputs": [],
   "source": [
    "# from ~48% to ~51% (considering the one with the minimum val_loss). And decently faster than batch normalization!"
   ]
  }
 ],
 "metadata": {
  "kernelspec": {
   "display_name": "Python 3",
   "language": "python",
   "name": "python3"
  },
  "language_info": {
   "codemirror_mode": {
    "name": "ipython",
    "version": 3
   },
   "file_extension": ".py",
   "mimetype": "text/x-python",
   "name": "python",
   "nbconvert_exporter": "python",
   "pygments_lexer": "ipython3",
   "version": "3.9.7"
  }
 },
 "nbformat": 4,
 "nbformat_minor": 5
}
